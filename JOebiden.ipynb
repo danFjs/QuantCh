{
  "cells": [
    {
      "attachments": {},
      "cell_type": "markdown",
      "metadata": {
        "id": "3_IYyKWlxf8n"
      },
      "source": []
    },
    {
      "attachments": {},
      "cell_type": "markdown",
      "metadata": {
        "id": "fonuEq4H1UaW"
      },
      "source": [
        "### Drive mount"
      ]
    },
    {
      "cell_type": "code",
      "execution_count": 8,
      "metadata": {
        "colab": {
          "base_uri": "https://localhost:8080/"
        },
        "id": "7kVXcGLUxUHs",
        "outputId": "1bab049e-5495-4434-a379-2a5a98931b1d"
      },
      "outputs": [
        {
          "ename": "ModuleNotFoundError",
          "evalue": "No module named 'google.colab'",
          "output_type": "error",
          "traceback": [
            "\u001b[1;31m---------------------------------------------------------------------------\u001b[0m",
            "\u001b[1;31mModuleNotFoundError\u001b[0m                       Traceback (most recent call last)",
            "\u001b[1;32mc:\\Users\\XY\\Desktop\\QuantCh 2023\\84\\QuantCh\\JOebiden.ipynb Cell 3\u001b[0m in \u001b[0;36m<cell line: 1>\u001b[1;34m()\u001b[0m\n\u001b[1;32m----> <a href='vscode-notebook-cell:/c%3A/Users/XY/Desktop/QuantCh%202023/84/QuantCh/JOebiden.ipynb#W2sZmlsZQ%3D%3D?line=0'>1</a>\u001b[0m \u001b[39mfrom\u001b[39;00m \u001b[39mgoogle\u001b[39;00m\u001b[39m.\u001b[39;00m\u001b[39mcolab\u001b[39;00m \u001b[39mimport\u001b[39;00m drive\n\u001b[0;32m      <a href='vscode-notebook-cell:/c%3A/Users/XY/Desktop/QuantCh%202023/84/QuantCh/JOebiden.ipynb#W2sZmlsZQ%3D%3D?line=1'>2</a>\u001b[0m drive\u001b[39m.\u001b[39mmount(\u001b[39m'\u001b[39m\u001b[39m/content/drive\u001b[39m\u001b[39m'\u001b[39m)\n",
            "\u001b[1;31mModuleNotFoundError\u001b[0m: No module named 'google.colab'"
          ]
        }
      ],
      "source": [
        "from google.colab import drive\n",
        "drive.mount('/content/drive')"
      ]
    },
    {
      "cell_type": "code",
      "execution_count": null,
      "metadata": {
        "colab": {
          "base_uri": "https://localhost:8080/"
        },
        "id": "OH9QzkR70DNj",
        "outputId": "f718ed08-a230-47b9-f06f-8a43c0ba2043"
      },
      "outputs": [
        {
          "name": "stdout",
          "output_type": "stream",
          "text": [
            "72644.csv  KBBB0.csv  KDTL0.csv  KGDB0.csv  KLXL0.csv  KOVL0.csv  KSYN0.csv\n",
            "72655.csv  KBDE0.csv  KDXX0.csv  KGHW0.csv  KLYV0.csv  KOWA0.csv  KTKC0.csv\n",
            "72658.csv  KBDH0.csv  KDYT0.csv  KGNA0.csv  KMGG0.csv  KPEX0.csv  KTOB0.csv\n",
            "72745.csv  KBFW0.csv  KELO0.csv  KGPZ0.csv  KMIC0.csv  KPKD0.csv  KTWM0.csv\n",
            "72747.csv  KBRD0.csv  KETH0.csv  KGYL0.csv  KMJQ0.csv  KPNM0.csv  KULM0.csv\n",
            "72755.csv  KCBG0.csv  KEVM0.csv  KHCD0.csv  KMKT0.csv  KPQN0.csv  KVVV0.csv\n",
            "9NRIJ.csv  KCDD0.csv  KFBL0.csv  KHCO0.csv  KMML0.csv  KPWC0.csv  KXVG0.csv\n",
            "KACQ0.csv  KCFE0.csv  KFCM0.csv  KHIB0.csv  KMOX0.csv  KRGK0.csv  KY490.csv\n",
            "KADC0.csv  KCKC0.csv  KFFM0.csv  KHZX0.csv  KMVE0.csv  KROS0.csv  KY630.csv\n",
            "KAEL0.csv  KCKN0.csv  KFGN0.csv  KJKJ0.csv  KMWM0.csv  KRRT0.csv  P6529.csv\n",
            "KAIT0.csv  KCNB0.csv  KFKA0.csv  KJMR0.csv  KMZH0.csv  KRYM0.csv  UYB6K.csv\n",
            "KAQP0.csv  KCOQ0.csv  KFOZ0.csv  KJYG0.csv  KONA0.csv  KSAZ0.csv  X9FED.csv\n",
            "KAUM0.csv  KCQM0.csv  KFRM0.csv  KLJF0.csv  KORB0.csv  KSGS0.csv  Z7ZOG.csv\n",
            "KAXN0.csv  KD390.csv  KFSE0.csv  KLVN0.csv  KOTG0.csv  KSTP0.csv\n"
          ]
        }
      ],
      "source": [
        "!ls weather/minnesota_daily"
      ]
    },
    {
      "cell_type": "code",
      "execution_count": null,
      "metadata": {
        "colab": {
          "base_uri": "https://localhost:8080/"
        },
        "id": "Rkn8wTU03FLb",
        "outputId": "0e9d0863-b0b4-4e5d-dbfe-056d6dca7b10"
      },
      "outputs": [
        {
          "name": "stdout",
          "output_type": "stream",
          "text": [
            "ACAvNTuEuFWcmwms.csv  hyJYtiZVQReIVdsG.csv  qytCYwCGfuRVAAQu.csv\n",
            "aCyjhOAKburculfr.csv  ibNECcZxBjXmgDJv.csv  qzNGumaBZxhskUoo.csv\n",
            "aguYhpcOJECNEkLI.csv  IbZapgLZIHVNzxYD.csv  RfnwXzFAVgaCkooQ.csv\n",
            "alTjbdTsAKACZrGW.csv  IdEwRtQFwaBeuVkx.csv  RmKFazJshnbhmllZ.csv\n",
            "AmezwjsXKaggSICV.csv  iGuxDcFVLcFsRHEF.csv  rtqhCSpxgNCmJyPq.csv\n",
            "aNBbBQsLuzazxQDL.csv  iPHJagJXuAbbnUjY.csv  RYojISzSzEucMKAn.csv\n",
            "asHxfMpWqfgGesmE.csv  IuUAGHGofIeJLHnH.csv  RYwPCvMjDxnaxxIl.csv\n",
            "AvjrUfvxwfPdFfLD.csv  IxgvjXiglJAGivvE.csv  RZuZxKcThxwMjsZW.csv\n",
            "AWUpGSoLMOQdgmLf.csv  IZyGvQGXjFzxRclM.csv  SMzTryVSsLYiDffQ.csv\n",
            "bbgJkKcyqqeAoUmb.csv  JaPEbeWwoWjEmfby.csv  SPUDFpbOKfxImkCu.csv\n",
            "bJfBssUbPvnDtmOe.csv  jDsGBzbNJYdlmAAH.csv  sqyartViwauAaeAG.csv\n",
            "BLEPTCvUWUfqXlBZ.csv  jkRuHBdXFDuftVhB.csv  SrpfMxeODednwaWu.csv\n",
            "blQNDrHzYqRtIosO.csv  jmBvCLBnmEGYpoWE.csv  SrQKALIejdsSbuTR.csv\n",
            "BofeRsvmlMshSjdM.csv  jmMgMWQBSxRZTtue.csv  SZQJwFwnyNwTEUYX.csv\n",
            "bPMEvvoXITYrIihW.csv  jPtVUBdQYCOrNyhY.csv  sZzqfFiyGsphtGUL.csv\n",
            "bSPKHafUgTavIUPl.csv  JqVjFqJvUnqbkmMK.csv  tddOfKSAJGXZbOJQ.csv\n",
            "bzgcvvwycngnHjEA.csv  JtBAYHNNjsqDbQnC.csv  tdRavggSpMVLLnWy.csv\n",
            "cAyjmzDHhdjuVUTC.csv  KCKrmNoupmTgMZgo.csv  TGZeucmdUwEFRdTw.csv\n",
            "CdxZvVOxuPXBweCc.csv  KfZdtODYxrqDidix.csv  tJpUXwvYkhFoRhYQ.csv\n",
            "cevoDvTDjXFFWikR.csv  KHdXDLOQPiosteoS.csv  tjrCwdhsmFbRkGBL.csv\n",
            "CgAtUyRWoxLKvPjJ.csv  KiKdQnCwRRYxCKmY.csv  tvFPLtKwGncWCfDs.csv\n",
            "CJePKPPndXqsIvXj.csv  KIUYZRHzmVNihZwl.csv  uaJMnTPcqGrHKQrY.csv\n",
            "CjHrIUaduDGTftZG.csv  KKmOKgLGolTIOptC.csv  UAMbtAfzhOdYAWPw.csv\n",
            "ClIOGbDmuppBXEMB.csv  KqNiUpwGEUWgQoeU.csv  uBvnlpMxTyGqubaT.csv\n",
            "cliwVPuKtYwBejlG.csv  KVYsyLIvhwwqgSun.csv  UJzlprvKiysmcHEn.csv\n",
            "CNPExvTdJdcGNCQa.csv  lIdQwVvjNcujwmVh.csv  UMAGhdBaumSZQSAZ.csv\n",
            "CQjsOqhDajnojCYF.csv  llhelhNbgRnWZZsu.csv  umEryqmHpfjGKGRo.csv\n",
            "cRfXswHpXpFuXIbD.csv  luxcIRwbHNqBdKGB.csv  upMsZbyOybwdtNSS.csv\n",
            "CRRjdvuYQoKFWHDb.csv  lvFdoylkLRxWlMvu.csv  UWYslcIDiPfvkAKs.csv\n",
            "CRVgJOqqhZXClUoq.csv  LwtUfeTgYhQsUMyj.csv  uXMCxxhBwlcTLWuM.csv\n",
            "CSIgZDeEeMAuVwLH.csv  MAbaUpsbyGleVESE.csv  VasKmVkDnzxJzhep.csv\n",
            "cTfTYELaBrllqQeT.csv  mAtQbtFUEzDTsjYO.csv  vczihgNpSSMVFxhq.csv\n",
            "dEAnJyHMgoQPvePK.csv  mbNbQfNvKnHTcXaY.csv  vfMUeJgcmqfhIohV.csv\n",
            "desaJMDKzGOmuKeW.csv  MHnoHVelpBIpJZyV.csv  vkyWYmnIVhyLHMwx.csv\n",
            "dezKdOYWjBkfJXkz.csv  mIWdnjUianFkisZA.csv  vQwBDFCyscWHPgBz.csv\n",
            "DfizCymEXgwIjnki.csv  mKFEMphVKduUyslS.csv  VxCLhLDOjljKJVnt.csv\n",
            "dMxLbrwzxMCOzLXp.csv  MKgzqndjdbtfXIJv.csv  wJHXHJghBDvZSjXi.csv\n",
            "DnDZIbsmcssXdlvZ.csv  mMNhXEjWMwSvpLph.csv  wOGrcUFIzOQOtpSC.csv\n",
            "DOSYAxIqPlYCTcrA.csv  msAWuTdcHdMfsygL.csv  wpNIRanPsYWuVdpD.csv\n",
            "dQbuZkPZTZRJutoY.csv  nBSsRVZVpJFoIaEe.csv  WSdPfDyrPiSpVwPl.csv\n",
            "drtMKMQBPlbSDEpI.csv  NDXJhqNsfTYBPSTb.csv  wVpSpwsQItlhlSVa.csv\n",
            "DusycBGfBqLIQNFf.csv  nEJQhzNyZLUNyrTv.csv  wyxSJduUhvoKcHuZ.csv\n",
            "eaLhKjVoJzKFHzbm.csv  NhuydNsiRhqnEMfw.csv  wZRrDAPwJwsTMsrJ.csv\n",
            "edOocxqFKVPrhEdE.csv  nldVCRpPpmOZBRXL.csv  xbCOmkwYGFYccjyO.csv\n",
            "EGTmwTBwJFBnYneh.csv  noepevhiJuNnKDDw.csv  XcTFJIWpduQejYqK.csv\n",
            "EIKyjvWCznattROH.csv  NRAZUXzqqfwyNQvh.csv  XDuVDRCepiVClkgC.csv\n",
            "eTMMoDtduaCpvWoi.csv  NXbSOWmRnNxrQwNQ.csv  xfgLFteDknLAQoUb.csv\n",
            "evVuDHMiOnJBthXs.csv  oaqRAojZqgwVXNeO.csv  xiIIkDBJWouLKSgv.csv\n",
            "FOEEgTMNprXlmQLq.csv  ODzTOhqCaEZHqWtj.csv  xMmTmuvaDgsZLLYb.csv\n",
            "FpUPmNHNAVbzYFPC.csv  ogXjGuLPnXrcwlKu.csv  XpkoOFCcFrrqXzrG.csv\n",
            "ftZVWGGPLmzjKKKQ.csv  OjUVGyHKnzByrJXW.csv  XpwVofquRpGMcKgd.csv\n",
            "FYgMdwBSSllNlEdG.csv  oOvQXfXvMWdlcYTy.csv  xZyjiMoRYyfEsSNl.csv\n",
            "FZfbKDIyHXjaJqAJ.csv  OpadLJXQpQIuxTRw.csv  yGITHhJABwNAMewa.csv\n",
            "gcDnCtDXTSLjMZKP.csv  ORryBTKKhptpesbV.csv  yHzlrqEJmtaYjHTK.csv\n",
            "gqftIxBgGXeWXGPg.csv  OWoeoyMfesmHyIRm.csv  yJPviSIEHqxmFzpf.csv\n",
            "GqIUVenONyZikTIz.csv  PhiZTSUClCADZwxU.csv  yJxllgSlkyxvVfvl.csv\n",
            "GTpYgkFKgvhUVIdW.csv  PMNrRZHyNkvyFCML.csv  yLozGIADwrJgWAAC.csv\n",
            "gvfrJGFPxWPkUJzV.csv  pUEErwCYbyoUfDDV.csv  YRbFthxdZAHOIvEq.csv\n",
            "gxvzCLHHBsbryLJa.csv  PvgGeLwWYFAdwuBn.csv  yzGGXtSBboJZDShd.csv\n",
            "GyVhqBUmRXdIlPBT.csv  pXMHPOYTnWgcTbHZ.csv  zHqpikUoUdcByDOV.csv\n",
            "HBfmFytTLovgXJWR.csv  QAQpRlDlLuxuqRwG.csv  zhXchzMIBxaWiYPf.csv\n",
            "hksccjEvjNjzPtju.csv  qdMMMogezRIWnoEW.csv  ZIqzxIUInMdPidqS.csv\n",
            "hPOxwCnDhHgMXQNU.csv  QJDCzxdpqpkbDkmP.csv  zkNJkuOxjgWDUWIi.csv\n",
            "HqwDaYlTGHyxBAUe.csv  qqVfWVmVQdlroWgJ.csv  zNYjRZijEySKjImp.csv\n",
            "HRDDYNTkbhjxdEou.csv  QTYnmexGcEJziQAk.csv  zThgIIrssGevRmsP.csv\n",
            "hWtUFgqZaMkPsRxD.csv  qyRqTNpqYMsnpFvZ.csv  zuWktVTnYICcsVFr.csv\n"
          ]
        }
      ],
      "source": [
        "!ls weather/prediction_targets_daily\n"
      ]
    },
    {
      "cell_type": "markdown",
      "metadata": {
        "id": "jVU5FXMcEu-a"
      },
      "source": [
        "#Testing"
      ]
    },
    {
      "cell_type": "markdown",
      "metadata": {
        "id": "xn-2zPgr1bec"
      },
      "source": [
        "#Data exploration\n"
      ]
    },
    {
      "cell_type": "code",
      "execution_count": null,
      "metadata": {
        "colab": {
          "base_uri": "https://localhost:8080/"
        },
        "id": "UIkmi66HFz2P",
        "outputId": "b0a8516c-d056-4f3b-b3a8-7e2e3529c917"
      },
      "outputs": [
        {
          "name": "stdout",
          "output_type": "stream",
          "text": [
            "Looking in indexes: https://pypi.org/simple, https://us-python.pkg.dev/colab-wheels/public/simple/\n",
            "Requirement already satisfied: geopandas in /usr/local/lib/python3.9/dist-packages (0.12.2)\n",
            "Requirement already satisfied: shapely>=1.7 in /usr/local/lib/python3.9/dist-packages (from geopandas) (2.0.1)\n",
            "Requirement already satisfied: pandas>=1.0.0 in /usr/local/lib/python3.9/dist-packages (from geopandas) (1.4.4)\n",
            "Requirement already satisfied: packaging in /usr/local/lib/python3.9/dist-packages (from geopandas) (23.0)\n",
            "Requirement already satisfied: fiona>=1.8 in /usr/local/lib/python3.9/dist-packages (from geopandas) (1.9.2)\n",
            "Requirement already satisfied: pyproj>=2.6.1.post1 in /usr/local/lib/python3.9/dist-packages (from geopandas) (3.5.0)\n",
            "Requirement already satisfied: munch>=2.3.2 in /usr/local/lib/python3.9/dist-packages (from fiona>=1.8->geopandas) (2.5.0)\n",
            "Requirement already satisfied: click~=8.0 in /usr/local/lib/python3.9/dist-packages (from fiona>=1.8->geopandas) (8.1.3)\n",
            "Requirement already satisfied: certifi in /usr/local/lib/python3.9/dist-packages (from fiona>=1.8->geopandas) (2022.12.7)\n",
            "Requirement already satisfied: importlib-metadata in /usr/local/lib/python3.9/dist-packages (from fiona>=1.8->geopandas) (6.1.0)\n",
            "Requirement already satisfied: attrs>=19.2.0 in /usr/local/lib/python3.9/dist-packages (from fiona>=1.8->geopandas) (22.2.0)\n",
            "Requirement already satisfied: click-plugins>=1.0 in /usr/local/lib/python3.9/dist-packages (from fiona>=1.8->geopandas) (1.1.1)\n",
            "Requirement already satisfied: cligj>=0.5 in /usr/local/lib/python3.9/dist-packages (from fiona>=1.8->geopandas) (0.7.2)\n",
            "Requirement already satisfied: numpy>=1.18.5 in /usr/local/lib/python3.9/dist-packages (from pandas>=1.0.0->geopandas) (1.22.4)\n",
            "Requirement already satisfied: python-dateutil>=2.8.1 in /usr/local/lib/python3.9/dist-packages (from pandas>=1.0.0->geopandas) (2.8.2)\n",
            "Requirement already satisfied: pytz>=2020.1 in /usr/local/lib/python3.9/dist-packages (from pandas>=1.0.0->geopandas) (2022.7.1)\n",
            "Requirement already satisfied: six in /usr/local/lib/python3.9/dist-packages (from munch>=2.3.2->fiona>=1.8->geopandas) (1.16.0)\n",
            "Requirement already satisfied: zipp>=0.5 in /usr/local/lib/python3.9/dist-packages (from importlib-metadata->fiona>=1.8->geopandas) (3.15.0)\n"
          ]
        }
      ],
      "source": [
        "!pip install geopandas"
      ]
    },
    {
      "cell_type": "code",
      "execution_count": 215,
      "metadata": {
        "id": "5PhCM16W1vVq"
      },
      "outputs": [],
      "source": [
        "import pandas as pd\n",
        "import numpy as np\n",
        "import matplotlib as plt"
      ]
    },
    {
      "cell_type": "code",
      "execution_count": 216,
      "metadata": {
        "id": "mG4qdWJxGsQ2"
      },
      "outputs": [],
      "source": [
        "from shapely import Point\n",
        "import geopandas as gpd\n",
        "from geopandas import GeoDataFrame"
      ]
    },
    {
      "cell_type": "code",
      "execution_count": 5,
      "metadata": {
        "colab": {
          "base_uri": "https://localhost:8080/",
          "height": 424
        },
        "id": "nCKVg1mx1atK",
        "outputId": "d1010a33-14e4-4252-dc2f-d2fd97e2268a"
      },
      "outputs": [
        {
          "data": {
            "text/html": [
              "<div>\n",
              "<style scoped>\n",
              "    .dataframe tbody tr th:only-of-type {\n",
              "        vertical-align: middle;\n",
              "    }\n",
              "\n",
              "    .dataframe tbody tr th {\n",
              "        vertical-align: top;\n",
              "    }\n",
              "\n",
              "    .dataframe thead th {\n",
              "        text-align: right;\n",
              "    }\n",
              "</style>\n",
              "<table border=\"1\" class=\"dataframe\">\n",
              "  <thead>\n",
              "    <tr style=\"text-align: right;\">\n",
              "      <th></th>\n",
              "      <th>county_name</th>\n",
              "      <th>capital_name</th>\n",
              "      <th>county_latitude</th>\n",
              "      <th>county_longitude</th>\n",
              "    </tr>\n",
              "  </thead>\n",
              "  <tbody>\n",
              "    <tr>\n",
              "      <th>0</th>\n",
              "      <td>Aitkin County</td>\n",
              "      <td>Aitkin</td>\n",
              "      <td>46.571482</td>\n",
              "      <td>-93.384760</td>\n",
              "    </tr>\n",
              "    <tr>\n",
              "      <th>1</th>\n",
              "      <td>Anoka County</td>\n",
              "      <td>Anoka</td>\n",
              "      <td>45.271020</td>\n",
              "      <td>-93.282763</td>\n",
              "    </tr>\n",
              "    <tr>\n",
              "      <th>2</th>\n",
              "      <td>Becker County</td>\n",
              "      <td>Detroit Lakes</td>\n",
              "      <td>46.817181</td>\n",
              "      <td>-95.845325</td>\n",
              "    </tr>\n",
              "    <tr>\n",
              "      <th>3</th>\n",
              "      <td>Beltrami County</td>\n",
              "      <td>Bemidji</td>\n",
              "      <td>47.478542</td>\n",
              "      <td>-94.890787</td>\n",
              "    </tr>\n",
              "    <tr>\n",
              "      <th>4</th>\n",
              "      <td>Benton County</td>\n",
              "      <td>Foley</td>\n",
              "      <td>45.663512</td>\n",
              "      <td>-93.913728</td>\n",
              "    </tr>\n",
              "    <tr>\n",
              "      <th>...</th>\n",
              "      <td>...</td>\n",
              "      <td>...</td>\n",
              "      <td>...</td>\n",
              "      <td>...</td>\n",
              "    </tr>\n",
              "    <tr>\n",
              "      <th>82</th>\n",
              "      <td>Watonwan County</td>\n",
              "      <td>St. James</td>\n",
              "      <td>43.982458</td>\n",
              "      <td>-94.626918</td>\n",
              "    </tr>\n",
              "    <tr>\n",
              "      <th>83</th>\n",
              "      <td>Wilkin County</td>\n",
              "      <td>Breckenridge</td>\n",
              "      <td>46.265205</td>\n",
              "      <td>-96.581626</td>\n",
              "    </tr>\n",
              "    <tr>\n",
              "      <th>84</th>\n",
              "      <td>Winona County</td>\n",
              "      <td>Winona</td>\n",
              "      <td>43.958227</td>\n",
              "      <td>-91.780778</td>\n",
              "    </tr>\n",
              "    <tr>\n",
              "      <th>85</th>\n",
              "      <td>Wright County</td>\n",
              "      <td>Buffalo</td>\n",
              "      <td>45.171908</td>\n",
              "      <td>-93.874694</td>\n",
              "    </tr>\n",
              "    <tr>\n",
              "      <th>86</th>\n",
              "      <td>Yellow Medicine County</td>\n",
              "      <td>Granite Falls</td>\n",
              "      <td>44.809958</td>\n",
              "      <td>-95.545575</td>\n",
              "    </tr>\n",
              "  </tbody>\n",
              "</table>\n",
              "<p>87 rows × 4 columns</p>\n",
              "</div>"
            ],
            "text/plain": [
              "               county_name   capital_name  county_latitude  county_longitude\n",
              "0            Aitkin County         Aitkin        46.571482        -93.384760\n",
              "1             Anoka County          Anoka        45.271020        -93.282763\n",
              "2            Becker County  Detroit Lakes        46.817181        -95.845325\n",
              "3          Beltrami County        Bemidji        47.478542        -94.890787\n",
              "4            Benton County          Foley        45.663512        -93.913728\n",
              "..                     ...            ...              ...               ...\n",
              "82         Watonwan County      St. James        43.982458        -94.626918\n",
              "83           Wilkin County   Breckenridge        46.265205        -96.581626\n",
              "84           Winona County         Winona        43.958227        -91.780778\n",
              "85           Wright County        Buffalo        45.171908        -93.874694\n",
              "86  Yellow Medicine County  Granite Falls        44.809958        -95.545575\n",
              "\n",
              "[87 rows x 4 columns]"
            ]
          },
          "execution_count": 5,
          "metadata": {},
          "output_type": "execute_result"
        }
      ],
      "source": [
        "county_loc_ds = pd.read_csv(\"agri/minnesota_county_location.csv\")\n",
        "county_loc_ds"
      ]
    },
    {
      "cell_type": "code",
      "execution_count": 6,
      "metadata": {
        "colab": {
          "base_uri": "https://localhost:8080/",
          "height": 424
        },
        "id": "T_LSTmRJ1_8E",
        "outputId": "da1a40ba-cf54-4369-ddf6-1429b2eca607"
      },
      "outputs": [
        {
          "data": {
            "text/html": [
              "<div>\n",
              "<style scoped>\n",
              "    .dataframe tbody tr th:only-of-type {\n",
              "        vertical-align: middle;\n",
              "    }\n",
              "\n",
              "    .dataframe tbody tr th {\n",
              "        vertical-align: top;\n",
              "    }\n",
              "\n",
              "    .dataframe thead th {\n",
              "        text-align: right;\n",
              "    }\n",
              "</style>\n",
              "<table border=\"1\" class=\"dataframe\">\n",
              "  <thead>\n",
              "    <tr style=\"text-align: right;\">\n",
              "      <th></th>\n",
              "      <th>Year</th>\n",
              "      <th>County</th>\n",
              "      <th>Commodity</th>\n",
              "      <th>Crop</th>\n",
              "      <th>ACRES HARVESTED</th>\n",
              "      <th>PRODUCTION, MEASURED IN BU</th>\n",
              "      <th>YIELD, MEASURED IN BU / ACRE</th>\n",
              "    </tr>\n",
              "  </thead>\n",
              "  <tbody>\n",
              "    <tr>\n",
              "      <th>0</th>\n",
              "      <td>1950</td>\n",
              "      <td>AITKIN</td>\n",
              "      <td>BARLEY</td>\n",
              "      <td>BARLEY</td>\n",
              "      <td>600</td>\n",
              "      <td>16,200</td>\n",
              "      <td>27.0</td>\n",
              "    </tr>\n",
              "    <tr>\n",
              "      <th>1</th>\n",
              "      <td>1950</td>\n",
              "      <td>AITKIN</td>\n",
              "      <td>CORN</td>\n",
              "      <td>CORN, GRAIN</td>\n",
              "      <td>4,800</td>\n",
              "      <td>72,000</td>\n",
              "      <td>15.0</td>\n",
              "    </tr>\n",
              "    <tr>\n",
              "      <th>2</th>\n",
              "      <td>1950</td>\n",
              "      <td>AITKIN</td>\n",
              "      <td>FLAXSEED</td>\n",
              "      <td>FLAXSEED</td>\n",
              "      <td>1,000</td>\n",
              "      <td>7,000</td>\n",
              "      <td>7.0</td>\n",
              "    </tr>\n",
              "    <tr>\n",
              "      <th>3</th>\n",
              "      <td>1950</td>\n",
              "      <td>AITKIN</td>\n",
              "      <td>HAY</td>\n",
              "      <td>HAY</td>\n",
              "      <td>49,200</td>\n",
              "      <td>NaN</td>\n",
              "      <td>NaN</td>\n",
              "    </tr>\n",
              "    <tr>\n",
              "      <th>4</th>\n",
              "      <td>1950</td>\n",
              "      <td>AITKIN</td>\n",
              "      <td>OATS</td>\n",
              "      <td>OATS</td>\n",
              "      <td>7,900</td>\n",
              "      <td>213,300</td>\n",
              "      <td>27.0</td>\n",
              "    </tr>\n",
              "    <tr>\n",
              "      <th>...</th>\n",
              "      <td>...</td>\n",
              "      <td>...</td>\n",
              "      <td>...</td>\n",
              "      <td>...</td>\n",
              "      <td>...</td>\n",
              "      <td>...</td>\n",
              "      <td>...</td>\n",
              "    </tr>\n",
              "    <tr>\n",
              "      <th>56263</th>\n",
              "      <td>2021</td>\n",
              "      <td>WRIGHT</td>\n",
              "      <td>CORN</td>\n",
              "      <td>CORN, GRAIN</td>\n",
              "      <td>76,600</td>\n",
              "      <td>11,092,000</td>\n",
              "      <td>144.8</td>\n",
              "    </tr>\n",
              "    <tr>\n",
              "      <th>56264</th>\n",
              "      <td>2021</td>\n",
              "      <td>WRIGHT</td>\n",
              "      <td>OATS</td>\n",
              "      <td>OATS</td>\n",
              "      <td>1,350</td>\n",
              "      <td>65,600</td>\n",
              "      <td>48.6</td>\n",
              "    </tr>\n",
              "    <tr>\n",
              "      <th>56265</th>\n",
              "      <td>2021</td>\n",
              "      <td>WRIGHT</td>\n",
              "      <td>SOYBEANS</td>\n",
              "      <td>SOYBEANS</td>\n",
              "      <td>71,100</td>\n",
              "      <td>3,278,000</td>\n",
              "      <td>46.1</td>\n",
              "    </tr>\n",
              "    <tr>\n",
              "      <th>56266</th>\n",
              "      <td>2021</td>\n",
              "      <td>WRIGHT</td>\n",
              "      <td>WHEAT</td>\n",
              "      <td>WHEAT, SPRING, (EXCL DURUM)</td>\n",
              "      <td>1,110</td>\n",
              "      <td>51,200</td>\n",
              "      <td>46.1</td>\n",
              "    </tr>\n",
              "    <tr>\n",
              "      <th>56267</th>\n",
              "      <td>2021</td>\n",
              "      <td>YELLOW MEDICINE</td>\n",
              "      <td>WHEAT</td>\n",
              "      <td>WHEAT, SPRING, (EXCL DURUM)</td>\n",
              "      <td>1,530</td>\n",
              "      <td>81,400</td>\n",
              "      <td>53.2</td>\n",
              "    </tr>\n",
              "  </tbody>\n",
              "</table>\n",
              "<p>56268 rows × 7 columns</p>\n",
              "</div>"
            ],
            "text/plain": [
              "       Year           County Commodity                         Crop  \\\n",
              "0      1950           AITKIN    BARLEY                       BARLEY   \n",
              "1      1950           AITKIN      CORN                  CORN, GRAIN   \n",
              "2      1950           AITKIN  FLAXSEED                     FLAXSEED   \n",
              "3      1950           AITKIN       HAY                          HAY   \n",
              "4      1950           AITKIN      OATS                         OATS   \n",
              "...     ...              ...       ...                          ...   \n",
              "56263  2021           WRIGHT      CORN                  CORN, GRAIN   \n",
              "56264  2021           WRIGHT      OATS                         OATS   \n",
              "56265  2021           WRIGHT  SOYBEANS                     SOYBEANS   \n",
              "56266  2021           WRIGHT     WHEAT  WHEAT, SPRING, (EXCL DURUM)   \n",
              "56267  2021  YELLOW MEDICINE     WHEAT  WHEAT, SPRING, (EXCL DURUM)   \n",
              "\n",
              "      ACRES HARVESTED PRODUCTION, MEASURED IN BU  YIELD, MEASURED IN BU / ACRE  \n",
              "0                 600                     16,200                          27.0  \n",
              "1               4,800                     72,000                          15.0  \n",
              "2               1,000                      7,000                           7.0  \n",
              "3              49,200                        NaN                           NaN  \n",
              "4               7,900                    213,300                          27.0  \n",
              "...               ...                        ...                           ...  \n",
              "56263          76,600                 11,092,000                         144.8  \n",
              "56264           1,350                     65,600                          48.6  \n",
              "56265          71,100                  3,278,000                          46.1  \n",
              "56266           1,110                     51,200                          46.1  \n",
              "56267           1,530                     81,400                          53.2  \n",
              "\n",
              "[56268 rows x 7 columns]"
            ]
          },
          "execution_count": 6,
          "metadata": {},
          "output_type": "execute_result"
        }
      ],
      "source": [
        "country_yr_prd_ds = pd.read_csv(\"agri/minnesota_county_yearly_agricultural_production.csv\")\n",
        "country_yr_prd_ds"
      ]
    },
    {
      "attachments": {},
      "cell_type": "markdown",
      "metadata": {
        "id": "tJdoPhajUqi-"
      },
      "source": [
        "## Mapping"
      ]
    },
    {
      "cell_type": "markdown",
      "metadata": {
        "id": "SoVZ_MLdJrTi"
      },
      "source": [
        "State boundaries shape <br>\n",
        "https://gisdata.mn.gov/dataset/bdry-state-of-minnesota <br>\n",
        "County boundaries shape <br>\n",
        "https://gisdata.mn.gov/dataset/bdry-counties-in-minnesota"
      ]
    },
    {
      "cell_type": "code",
      "execution_count": 18,
      "metadata": {
        "colab": {
          "base_uri": "https://localhost:8080/"
        },
        "id": "xiKHROE7LcX6",
        "outputId": "82e9952b-8cf1-4723-dd48-63d345266b25"
      },
      "outputs": [
        {
          "name": "stderr",
          "output_type": "stream",
          "text": [
            "'ls' is not recognized as an internal or external command,\n",
            "operable program or batch file.\n"
          ]
        }
      ],
      "source": [
        "!ls "
      ]
    },
    {
      "cell_type": "code",
      "execution_count": 21,
      "metadata": {
        "colab": {
          "base_uri": "https://localhost:8080/",
          "height": 463
        },
        "id": "ICegaTHu2Stk",
        "outputId": "69105082-d4a4-4006-e3be-d68980c746b8"
      },
      "outputs": [
        {
          "data": {
            "text/plain": [
              "<Axes: >"
            ]
          },
          "execution_count": 21,
          "metadata": {},
          "output_type": "execute_result"
        },
        {
          "data": {
            "image/png": "[encoded data removed]",
            "text/plain": [
              "<Figure size 432x288 with 1 Axes>"
            ]
          },
          "metadata": {
            "needs_background": "light"
          },
          "output_type": "display_data"
        }
      ],
      "source": [
        "state_map = gpd.read_file(\"bdry_state_of_minnesota.gpkg\")\n",
        "state_map.plot()"
      ]
    },
    {
      "cell_type": "code",
      "execution_count": 7,
      "metadata": {
        "colab": {
          "base_uri": "https://localhost:8080/",
          "height": 1000
        },
        "id": "flL8QWq5L1Ok",
        "outputId": "f6bc5351-861a-4452-f296-e60ba2b5e1ad"
      },
      "outputs": [
        {
          "data": {
            "text/plain": [
              "<Axes: >"
            ]
          },
          "execution_count": 7,
          "metadata": {},
          "output_type": "execute_result"
        },
        {
          "data": {
            "image/png": "[encoded data removed]",
            "text/plain": [
              "<Figure size 864x864 with 1 Axes>"
            ]
          },
          "metadata": {
            "needs_background": "light"
          },
          "output_type": "display_data"
        }
      ],
      "source": [
        "counties_map = gpd.read_file(\"bdry_counties_in_minnesota.gpkg\")\n",
        "counties_map.plot(figsize =(12,12),color=\"white\", edgecolor=\"black\")"
      ]
    },
    {
      "cell_type": "code",
      "execution_count": 23,
      "metadata": {
        "colab": {
          "base_uri": "https://localhost:8080/",
          "height": 424
        },
        "id": "FNfJWkyhRupL",
        "outputId": "74d5c722-bd50-41f2-bff7-17e810df21f0"
      },
      "outputs": [
        {
          "data": {
            "text/html": [
              "<div>\n",
              "<style scoped>\n",
              "    .dataframe tbody tr th:only-of-type {\n",
              "        vertical-align: middle;\n",
              "    }\n",
              "\n",
              "    .dataframe tbody tr th {\n",
              "        vertical-align: top;\n",
              "    }\n",
              "\n",
              "    .dataframe thead th {\n",
              "        text-align: right;\n",
              "    }\n",
              "</style>\n",
              "<table border=\"1\" class=\"dataframe\">\n",
              "  <thead>\n",
              "    <tr style=\"text-align: right;\">\n",
              "      <th></th>\n",
              "      <th>AREA</th>\n",
              "      <th>PERIMETER</th>\n",
              "      <th>CTYONLY_</th>\n",
              "      <th>CTYONLY_ID</th>\n",
              "      <th>COUN</th>\n",
              "      <th>CTY_NAME</th>\n",
              "      <th>CTY_ABBR</th>\n",
              "      <th>CTY_FIPS</th>\n",
              "      <th>geometry</th>\n",
              "    </tr>\n",
              "  </thead>\n",
              "  <tbody>\n",
              "    <tr>\n",
              "      <th>0</th>\n",
              "      <td>4.608321e+09</td>\n",
              "      <td>388250.145723</td>\n",
              "      <td>2.0</td>\n",
              "      <td>1.0</td>\n",
              "      <td>39</td>\n",
              "      <td>Lake of the Woods</td>\n",
              "      <td>LOTW</td>\n",
              "      <td>77</td>\n",
              "      <td>MULTIPOLYGON (((330081.663 5429937.085, 330973...</td>\n",
              "    </tr>\n",
              "    <tr>\n",
              "      <th>1</th>\n",
              "      <td>2.862184e+09</td>\n",
              "      <td>263017.482774</td>\n",
              "      <td>3.0</td>\n",
              "      <td>2.0</td>\n",
              "      <td>35</td>\n",
              "      <td>Kittson</td>\n",
              "      <td>KITT</td>\n",
              "      <td>69</td>\n",
              "      <td>MULTIPOLYGON (((250934.678 5433053.183, 250908...</td>\n",
              "    </tr>\n",
              "    <tr>\n",
              "      <th>2</th>\n",
              "      <td>4.347099e+09</td>\n",
              "      <td>302590.752930</td>\n",
              "      <td>4.0</td>\n",
              "      <td>3.0</td>\n",
              "      <td>68</td>\n",
              "      <td>Roseau</td>\n",
              "      <td>ROSE</td>\n",
              "      <td>135</td>\n",
              "      <td>MULTIPOLYGON (((250934.678 5433053.183, 251190...</td>\n",
              "    </tr>\n",
              "    <tr>\n",
              "      <th>3</th>\n",
              "      <td>8.167238e+09</td>\n",
              "      <td>412897.435943</td>\n",
              "      <td>5.0</td>\n",
              "      <td>4.0</td>\n",
              "      <td>36</td>\n",
              "      <td>Koochiching</td>\n",
              "      <td>KOOC</td>\n",
              "      <td>71</td>\n",
              "      <td>MULTIPOLYGON (((394785.782 5395220.852, 395221...</td>\n",
              "    </tr>\n",
              "    <tr>\n",
              "      <th>4</th>\n",
              "      <td>4.698732e+09</td>\n",
              "      <td>374207.651291</td>\n",
              "      <td>6.0</td>\n",
              "      <td>5.0</td>\n",
              "      <td>45</td>\n",
              "      <td>Marshall</td>\n",
              "      <td>MARS</td>\n",
              "      <td>89</td>\n",
              "      <td>MULTIPOLYGON (((249941.883 5382327.086, 251522...</td>\n",
              "    </tr>\n",
              "    <tr>\n",
              "      <th>...</th>\n",
              "      <td>...</td>\n",
              "      <td>...</td>\n",
              "      <td>...</td>\n",
              "      <td>...</td>\n",
              "      <td>...</td>\n",
              "      <td>...</td>\n",
              "      <td>...</td>\n",
              "      <td>...</td>\n",
              "      <td>...</td>\n",
              "    </tr>\n",
              "    <tr>\n",
              "      <th>112</th>\n",
              "      <td>8.844817e+03</td>\n",
              "      <td>419.521202</td>\n",
              "      <td>114.0</td>\n",
              "      <td>113.0</td>\n",
              "      <td>16</td>\n",
              "      <td>Cook</td>\n",
              "      <td>COOK</td>\n",
              "      <td>31</td>\n",
              "      <td>MULTIPOLYGON (((754614.628 5317647.962, 754616...</td>\n",
              "    </tr>\n",
              "    <tr>\n",
              "      <th>113</th>\n",
              "      <td>4.638027e+03</td>\n",
              "      <td>312.399385</td>\n",
              "      <td>115.0</td>\n",
              "      <td>114.0</td>\n",
              "      <td>16</td>\n",
              "      <td>Cook</td>\n",
              "      <td>COOK</td>\n",
              "      <td>31</td>\n",
              "      <td>MULTIPOLYGON (((755151.634 5317121.803, 755169...</td>\n",
              "    </tr>\n",
              "    <tr>\n",
              "      <th>114</th>\n",
              "      <td>6.627648e+04</td>\n",
              "      <td>2644.849287</td>\n",
              "      <td>116.0</td>\n",
              "      <td>115.0</td>\n",
              "      <td>16</td>\n",
              "      <td>Cook</td>\n",
              "      <td>COOK</td>\n",
              "      <td>31</td>\n",
              "      <td>MULTIPOLYGON (((656853.113 5265231.379, 656857...</td>\n",
              "    </tr>\n",
              "    <tr>\n",
              "      <th>115</th>\n",
              "      <td>6.915989e+02</td>\n",
              "      <td>103.083929</td>\n",
              "      <td>117.0</td>\n",
              "      <td>116.0</td>\n",
              "      <td>38</td>\n",
              "      <td>Lake</td>\n",
              "      <td>LAKE</td>\n",
              "      <td>75</td>\n",
              "      <td>MULTIPOLYGON (((631078.163 5236647.598, 631081...</td>\n",
              "    </tr>\n",
              "    <tr>\n",
              "      <th>116</th>\n",
              "      <td>2.024763e+03</td>\n",
              "      <td>206.261146</td>\n",
              "      <td>118.0</td>\n",
              "      <td>117.0</td>\n",
              "      <td>38</td>\n",
              "      <td>Lake</td>\n",
              "      <td>LAKE</td>\n",
              "      <td>75</td>\n",
              "      <td>MULTIPOLYGON (((629929.097 5236126.329, 629934...</td>\n",
              "    </tr>\n",
              "  </tbody>\n",
              "</table>\n",
              "<p>117 rows × 9 columns</p>\n",
              "</div>"
            ],
            "text/plain": [
              "             AREA      PERIMETER  CTYONLY_  CTYONLY_ID  COUN  \\\n",
              "0    4.608321e+09  388250.145723       2.0         1.0    39   \n",
              "1    2.862184e+09  263017.482774       3.0         2.0    35   \n",
              "2    4.347099e+09  302590.752930       4.0         3.0    68   \n",
              "3    8.167238e+09  412897.435943       5.0         4.0    36   \n",
              "4    4.698732e+09  374207.651291       6.0         5.0    45   \n",
              "..            ...            ...       ...         ...   ...   \n",
              "112  8.844817e+03     419.521202     114.0       113.0    16   \n",
              "113  4.638027e+03     312.399385     115.0       114.0    16   \n",
              "114  6.627648e+04    2644.849287     116.0       115.0    16   \n",
              "115  6.915989e+02     103.083929     117.0       116.0    38   \n",
              "116  2.024763e+03     206.261146     118.0       117.0    38   \n",
              "\n",
              "              CTY_NAME CTY_ABBR  CTY_FIPS  \\\n",
              "0    Lake of the Woods     LOTW        77   \n",
              "1              Kittson     KITT        69   \n",
              "2               Roseau     ROSE       135   \n",
              "3          Koochiching     KOOC        71   \n",
              "4             Marshall     MARS        89   \n",
              "..                 ...      ...       ...   \n",
              "112               Cook     COOK        31   \n",
              "113               Cook     COOK        31   \n",
              "114               Cook     COOK        31   \n",
              "115               Lake     LAKE        75   \n",
              "116               Lake     LAKE        75   \n",
              "\n",
              "                                              geometry  \n",
              "0    MULTIPOLYGON (((330081.663 5429937.085, 330973...  \n",
              "1    MULTIPOLYGON (((250934.678 5433053.183, 250908...  \n",
              "2    MULTIPOLYGON (((250934.678 5433053.183, 251190...  \n",
              "3    MULTIPOLYGON (((394785.782 5395220.852, 395221...  \n",
              "4    MULTIPOLYGON (((249941.883 5382327.086, 251522...  \n",
              "..                                                 ...  \n",
              "112  MULTIPOLYGON (((754614.628 5317647.962, 754616...  \n",
              "113  MULTIPOLYGON (((755151.634 5317121.803, 755169...  \n",
              "114  MULTIPOLYGON (((656853.113 5265231.379, 656857...  \n",
              "115  MULTIPOLYGON (((631078.163 5236647.598, 631081...  \n",
              "116  MULTIPOLYGON (((629929.097 5236126.329, 629934...  \n",
              "\n",
              "[117 rows x 9 columns]"
            ]
          },
          "execution_count": 23,
          "metadata": {},
          "output_type": "execute_result"
        }
      ],
      "source": [
        "counties_map"
      ]
    },
    {
      "cell_type": "code",
      "execution_count": 8,
      "metadata": {
        "colab": {
          "base_uri": "https://localhost:8080/",
          "height": 424
        },
        "id": "qgdI0Az-ioGv",
        "outputId": "985c3c6c-3904-4cf1-e346-c2a829ad1103"
      },
      "outputs": [
        {
          "data": {
            "text/html": [
              "<div>\n",
              "<style scoped>\n",
              "    .dataframe tbody tr th:only-of-type {\n",
              "        vertical-align: middle;\n",
              "    }\n",
              "\n",
              "    .dataframe tbody tr th {\n",
              "        vertical-align: top;\n",
              "    }\n",
              "\n",
              "    .dataframe thead th {\n",
              "        text-align: right;\n",
              "    }\n",
              "</style>\n",
              "<table border=\"1\" class=\"dataframe\">\n",
              "  <thead>\n",
              "    <tr style=\"text-align: right;\">\n",
              "      <th></th>\n",
              "      <th>county_name</th>\n",
              "      <th>capital_name</th>\n",
              "      <th>county_latitude</th>\n",
              "      <th>county_longitude</th>\n",
              "    </tr>\n",
              "  </thead>\n",
              "  <tbody>\n",
              "    <tr>\n",
              "      <th>0</th>\n",
              "      <td>Aitkin County</td>\n",
              "      <td>Aitkin</td>\n",
              "      <td>46.571482</td>\n",
              "      <td>-93.384760</td>\n",
              "    </tr>\n",
              "    <tr>\n",
              "      <th>1</th>\n",
              "      <td>Anoka County</td>\n",
              "      <td>Anoka</td>\n",
              "      <td>45.271020</td>\n",
              "      <td>-93.282763</td>\n",
              "    </tr>\n",
              "    <tr>\n",
              "      <th>2</th>\n",
              "      <td>Becker County</td>\n",
              "      <td>Detroit Lakes</td>\n",
              "      <td>46.817181</td>\n",
              "      <td>-95.845325</td>\n",
              "    </tr>\n",
              "    <tr>\n",
              "      <th>3</th>\n",
              "      <td>Beltrami County</td>\n",
              "      <td>Bemidji</td>\n",
              "      <td>47.478542</td>\n",
              "      <td>-94.890787</td>\n",
              "    </tr>\n",
              "    <tr>\n",
              "      <th>4</th>\n",
              "      <td>Benton County</td>\n",
              "      <td>Foley</td>\n",
              "      <td>45.663512</td>\n",
              "      <td>-93.913728</td>\n",
              "    </tr>\n",
              "    <tr>\n",
              "      <th>...</th>\n",
              "      <td>...</td>\n",
              "      <td>...</td>\n",
              "      <td>...</td>\n",
              "      <td>...</td>\n",
              "    </tr>\n",
              "    <tr>\n",
              "      <th>82</th>\n",
              "      <td>Watonwan County</td>\n",
              "      <td>St. James</td>\n",
              "      <td>43.982458</td>\n",
              "      <td>-94.626918</td>\n",
              "    </tr>\n",
              "    <tr>\n",
              "      <th>83</th>\n",
              "      <td>Wilkin County</td>\n",
              "      <td>Breckenridge</td>\n",
              "      <td>46.265205</td>\n",
              "      <td>-96.581626</td>\n",
              "    </tr>\n",
              "    <tr>\n",
              "      <th>84</th>\n",
              "      <td>Winona County</td>\n",
              "      <td>Winona</td>\n",
              "      <td>43.958227</td>\n",
              "      <td>-91.780778</td>\n",
              "    </tr>\n",
              "    <tr>\n",
              "      <th>85</th>\n",
              "      <td>Wright County</td>\n",
              "      <td>Buffalo</td>\n",
              "      <td>45.171908</td>\n",
              "      <td>-93.874694</td>\n",
              "    </tr>\n",
              "    <tr>\n",
              "      <th>86</th>\n",
              "      <td>Yellow Medicine County</td>\n",
              "      <td>Granite Falls</td>\n",
              "      <td>44.809958</td>\n",
              "      <td>-95.545575</td>\n",
              "    </tr>\n",
              "  </tbody>\n",
              "</table>\n",
              "<p>87 rows × 4 columns</p>\n",
              "</div>"
            ],
            "text/plain": [
              "               county_name   capital_name  county_latitude  county_longitude\n",
              "0            Aitkin County         Aitkin        46.571482        -93.384760\n",
              "1             Anoka County          Anoka        45.271020        -93.282763\n",
              "2            Becker County  Detroit Lakes        46.817181        -95.845325\n",
              "3          Beltrami County        Bemidji        47.478542        -94.890787\n",
              "4            Benton County          Foley        45.663512        -93.913728\n",
              "..                     ...            ...              ...               ...\n",
              "82         Watonwan County      St. James        43.982458        -94.626918\n",
              "83           Wilkin County   Breckenridge        46.265205        -96.581626\n",
              "84           Winona County         Winona        43.958227        -91.780778\n",
              "85           Wright County        Buffalo        45.171908        -93.874694\n",
              "86  Yellow Medicine County  Granite Falls        44.809958        -95.545575\n",
              "\n",
              "[87 rows x 4 columns]"
            ]
          },
          "execution_count": 8,
          "metadata": {},
          "output_type": "execute_result"
        }
      ],
      "source": [
        "county_loc_ds"
      ]
    },
    {
      "cell_type": "code",
      "execution_count": null,
      "metadata": {
        "colab": {
          "base_uri": "https://localhost:8080/",
          "height": 1000
        },
        "id": "saSDKmY6OLPQ",
        "outputId": "b3030e20-ce1c-47dd-9ac3-f381843206e5"
      },
      "outputs": [],
      "source": [
        "counties_map= counties_map.drop_duplicates(subset=['CTY_ABBR'])\n",
        "ax = counties_map.plot(figsize =(20,20),color=\"white\", edgecolor=\"black\")\n",
        "plt.rcParams.update({'font.size': 10})\n",
        "counties_map.apply(lambda x: ax.annotate(text=x['CTY_ABBR'],xy=x.geometry.centroid.coords[0], ha='center'), axis=1)"
      ]
    },
    {
      "cell_type": "code",
      "execution_count": 20,
      "metadata": {
        "colab": {
          "base_uri": "https://localhost:8080/"
        },
        "id": "6LACNziWWx-o",
        "outputId": "86d45455-99c7-4b61-a8ad-9acdbf613812"
      },
      "outputs": [
        {
          "name": "stderr",
          "output_type": "stream",
          "text": [
            "c:\\Users\\XY\\AppData\\Local\\Programs\\Python\\Python310\\lib\\site-packages\\pyproj\\crs\\crs.py:141: FutureWarning: '+init=<authority>:<code>' syntax is deprecated. '<authority>:<code>' is the preferred initialization method. When making the change, be mindful of axis order changes: https://pyproj4.github.io/pyproj/stable/gotchas.html#axis-order-changes-in-proj-6\n",
            "  in_crs_string = _prepare_from_proj_string(in_crs_string)\n"
          ]
        },
        {
          "data": {
            "text/plain": [
              "<Projected CRS: EPSG:26915>\n",
              "Name: NAD83 / UTM zone 15N\n",
              "Axis Info [cartesian]:\n",
              "- E[east]: Easting (metre)\n",
              "- N[north]: Northing (metre)\n",
              "Area of Use:\n",
              "- name: North America - between 96°W and 90°W - onshore and offshore. Canada - Manitoba; Nunavut; Ontario. United States (USA) - Arkansas; Illinois; Iowa; Kansas; Louisiana; Michigan; Minnesota; Mississippi; Missouri; Nebraska; Oklahoma; Tennessee; Texas; Wisconsin.\n",
              "- bounds: (-96.0, 25.61, -90.0, 84.0)\n",
              "Coordinate Operation:\n",
              "- name: UTM zone 15N\n",
              "- method: Transverse Mercator\n",
              "Datum: North American Datum 1983\n",
              "- Ellipsoid: GRS 1980\n",
              "- Prime Meridian: Greenwich"
            ]
          },
          "execution_count": 20,
          "metadata": {},
          "output_type": "execute_result"
        }
      ],
      "source": [
        "station_pos = pd.read_csv(\"weather/Minnesota Station location list.csv\")\n",
        "crs = {'init':'EPSG:4326'}\n",
        "geometry = [Point(xy) for xy in zip(station_pos['Longitude'], station_pos['Latitude'])]\n",
        "station_pos = gpd.GeoDataFrame(station_pos, \n",
        "                          crs = crs, \n",
        "                          geometry = geometry)\n",
        "counties_map.crs\n"
      ]
    },
    {
      "cell_type": "code",
      "execution_count": 22,
      "metadata": {
        "colab": {
          "base_uri": "https://localhost:8080/"
        },
        "id": "ROnA9CdPAT5Q",
        "outputId": "c1f368da-1bf3-4aed-f28d-35c0cca888c9"
      },
      "outputs": [
        {
          "name": "stderr",
          "output_type": "stream",
          "text": [
            "c:\\Users\\XY\\AppData\\Local\\Programs\\Python\\Python310\\lib\\site-packages\\pyproj\\crs\\crs.py:141: FutureWarning: '+init=<authority>:<code>' syntax is deprecated. '<authority>:<code>' is the preferred initialization method. When making the change, be mindful of axis order changes: https://pyproj4.github.io/pyproj/stable/gotchas.html#axis-order-changes-in-proj-6\n",
            "  in_crs_string = _prepare_from_proj_string(in_crs_string)\n"
          ]
        },
        {
          "data": {
            "text/plain": [
              "<Geographic 2D CRS: +init=epsg:4326 +type=crs>\n",
              "Name: WGS 84\n",
              "Axis Info [ellipsoidal]:\n",
              "- lon[east]: Longitude (degree)\n",
              "- lat[north]: Latitude (degree)\n",
              "Area of Use:\n",
              "- name: World.\n",
              "- bounds: (-180.0, -90.0, 180.0, 90.0)\n",
              "Datum: World Geodetic System 1984 ensemble\n",
              "- Ellipsoid: WGS 84\n",
              "- Prime Meridian: Greenwich"
            ]
          },
          "execution_count": 22,
          "metadata": {},
          "output_type": "execute_result"
        }
      ],
      "source": [
        "crs = {'init':'EPSG:4326'}\n",
        "geometry = [Point(xy) for xy in zip(county_loc_ds['county_longitude'], county_loc_ds['county_latitude'])]\n",
        "counties_gds = gpd.GeoDataFrame(county_loc_ds, \n",
        "                          crs = crs, \n",
        "                          geometry = geometry)\n",
        "counties_gds.crs"
      ]
    },
    {
      "cell_type": "code",
      "execution_count": 23,
      "metadata": {
        "colab": {
          "base_uri": "https://localhost:8080/",
          "height": 1000
        },
        "id": "epxhnpfyX45H",
        "outputId": "34c4f15c-1de4-436a-c531-a13d169aecca"
      },
      "outputs": [
        {
          "ename": "TypeError",
          "evalue": "cannot unpack non-iterable NoneType object",
          "output_type": "error",
          "traceback": [
            "\u001b[1;31m---------------------------------------------------------------------------\u001b[0m",
            "\u001b[1;31mTypeError\u001b[0m                                 Traceback (most recent call last)",
            "\u001b[1;32mc:\\Users\\XY\\Desktop\\QuantCh 2023\\84\\QuantCh\\JOebiden.ipynb Cell 23\u001b[0m in \u001b[0;36m<cell line: 11>\u001b[1;34m()\u001b[0m\n\u001b[0;32m      <a href='vscode-notebook-cell:/c%3A/Users/XY/Desktop/QuantCh%202023/84/QuantCh/JOebiden.ipynb#X31sZmlsZQ%3D%3D?line=8'>9</a>\u001b[0m station_pos\u001b[39m.\u001b[39mapply(\u001b[39mlambda\u001b[39;00m x: ax\u001b[39m.\u001b[39mannotate(text\u001b[39m=\u001b[39mx[\u001b[39m'\u001b[39m\u001b[39mCode\u001b[39m\u001b[39m'\u001b[39m],xy\u001b[39m=\u001b[39mx\u001b[39m.\u001b[39mgeometry\u001b[39m.\u001b[39mcentroid\u001b[39m.\u001b[39mcoords[\u001b[39m0\u001b[39m], ha\u001b[39m=\u001b[39m\u001b[39m'\u001b[39m\u001b[39mright\u001b[39m\u001b[39m'\u001b[39m) \u001b[39mif\u001b[39;00m (x[\u001b[39m'\u001b[39m\u001b[39mCode\u001b[39m\u001b[39m'\u001b[39m] \u001b[39m==\u001b[39m \u001b[39m\"\u001b[39m\u001b[39mKAIT0\u001b[39m\u001b[39m\"\u001b[39m) \u001b[39melse\u001b[39;00m \u001b[39mNone\u001b[39;00m , axis\u001b[39m=\u001b[39m\u001b[39m1\u001b[39m)\n\u001b[0;32m     <a href='vscode-notebook-cell:/c%3A/Users/XY/Desktop/QuantCh%202023/84/QuantCh/JOebiden.ipynb#X31sZmlsZQ%3D%3D?line=9'>10</a>\u001b[0m station_pos\u001b[39m.\u001b[39mplot(ax\u001b[39m=\u001b[39max)\n\u001b[1;32m---> <a href='vscode-notebook-cell:/c%3A/Users/XY/Desktop/QuantCh%202023/84/QuantCh/JOebiden.ipynb#X31sZmlsZQ%3D%3D?line=10'>11</a>\u001b[0m counties_gds\u001b[39m.\u001b[39;49mapply(\u001b[39mlambda\u001b[39;49;00m x: ax\u001b[39m.\u001b[39;49mannotate(text\u001b[39m=\u001b[39;49mx[\u001b[39m'\u001b[39;49m\u001b[39mcounty_name\u001b[39;49m\u001b[39m'\u001b[39;49m],xy\u001b[39m=\u001b[39;49mx\u001b[39m.\u001b[39;49mgeometry\u001b[39m.\u001b[39;49mcentroid\u001b[39m.\u001b[39;49mcoords[\u001b[39m0\u001b[39;49m] \u001b[39mif\u001b[39;49;00m (x[\u001b[39m'\u001b[39;49m\u001b[39mcapital_name\u001b[39;49m\u001b[39m'\u001b[39;49m] \u001b[39m==\u001b[39;49m \u001b[39m\"\u001b[39;49m\u001b[39mAitkin\u001b[39;49m\u001b[39m\"\u001b[39;49m) \u001b[39melse\u001b[39;49;00m \u001b[39mNone\u001b[39;49;00m , ha\u001b[39m=\u001b[39;49m\u001b[39m'\u001b[39;49m\u001b[39mleft\u001b[39;49m\u001b[39m'\u001b[39;49m), axis\u001b[39m=\u001b[39;49m\u001b[39m1\u001b[39;49m)\n\u001b[0;32m     <a href='vscode-notebook-cell:/c%3A/Users/XY/Desktop/QuantCh%202023/84/QuantCh/JOebiden.ipynb#X31sZmlsZQ%3D%3D?line=11'>12</a>\u001b[0m counties_gds\u001b[39m.\u001b[39mplot(ax\u001b[39m=\u001b[39max,color\u001b[39m=\u001b[39m\u001b[39m\"\u001b[39m\u001b[39mred\u001b[39m\u001b[39m\"\u001b[39m)\n",
            "File \u001b[1;32mc:\\Users\\XY\\AppData\\Local\\Programs\\Python\\Python310\\lib\\site-packages\\geopandas\\geodataframe.py:1482\u001b[0m, in \u001b[0;36mGeoDataFrame.apply\u001b[1;34m(self, func, axis, raw, result_type, args, **kwargs)\u001b[0m\n\u001b[0;32m   1480\u001b[0m \u001b[39m@doc\u001b[39m(pd\u001b[39m.\u001b[39mDataFrame)\n\u001b[0;32m   1481\u001b[0m \u001b[39mdef\u001b[39;00m \u001b[39mapply\u001b[39m(\u001b[39mself\u001b[39m, func, axis\u001b[39m=\u001b[39m\u001b[39m0\u001b[39m, raw\u001b[39m=\u001b[39m\u001b[39mFalse\u001b[39;00m, result_type\u001b[39m=\u001b[39m\u001b[39mNone\u001b[39;00m, args\u001b[39m=\u001b[39m(), \u001b[39m*\u001b[39m\u001b[39m*\u001b[39mkwargs):\n\u001b[1;32m-> 1482\u001b[0m     result \u001b[39m=\u001b[39m \u001b[39msuper\u001b[39m()\u001b[39m.\u001b[39mapply(\n\u001b[0;32m   1483\u001b[0m         func, axis\u001b[39m=\u001b[39maxis, raw\u001b[39m=\u001b[39mraw, result_type\u001b[39m=\u001b[39mresult_type, args\u001b[39m=\u001b[39margs, \u001b[39m*\u001b[39m\u001b[39m*\u001b[39mkwargs\n\u001b[0;32m   1484\u001b[0m     )\n\u001b[0;32m   1485\u001b[0m     \u001b[39m# Reconstruct gdf if it was lost by apply\u001b[39;00m\n\u001b[0;32m   1486\u001b[0m     \u001b[39mif\u001b[39;00m (\n\u001b[0;32m   1487\u001b[0m         \u001b[39misinstance\u001b[39m(result, DataFrame)\n\u001b[0;32m   1488\u001b[0m         \u001b[39mand\u001b[39;00m \u001b[39mself\u001b[39m\u001b[39m.\u001b[39m_geometry_column_name \u001b[39min\u001b[39;00m result\u001b[39m.\u001b[39mcolumns\n\u001b[0;32m   1489\u001b[0m     ):\n\u001b[0;32m   1490\u001b[0m         \u001b[39m# axis=1 apply will split GeometryDType to object, try and cast back\u001b[39;00m\n",
            "File \u001b[1;32mc:\\Users\\XY\\AppData\\Local\\Programs\\Python\\Python310\\lib\\site-packages\\pandas\\core\\frame.py:8839\u001b[0m, in \u001b[0;36mDataFrame.apply\u001b[1;34m(self, func, axis, raw, result_type, args, **kwargs)\u001b[0m\n\u001b[0;32m   8828\u001b[0m \u001b[39mfrom\u001b[39;00m \u001b[39mpandas\u001b[39;00m\u001b[39m.\u001b[39;00m\u001b[39mcore\u001b[39;00m\u001b[39m.\u001b[39;00m\u001b[39mapply\u001b[39;00m \u001b[39mimport\u001b[39;00m frame_apply\n\u001b[0;32m   8830\u001b[0m op \u001b[39m=\u001b[39m frame_apply(\n\u001b[0;32m   8831\u001b[0m     \u001b[39mself\u001b[39m,\n\u001b[0;32m   8832\u001b[0m     func\u001b[39m=\u001b[39mfunc,\n\u001b[1;32m   (...)\u001b[0m\n\u001b[0;32m   8837\u001b[0m     kwargs\u001b[39m=\u001b[39mkwargs,\n\u001b[0;32m   8838\u001b[0m )\n\u001b[1;32m-> 8839\u001b[0m \u001b[39mreturn\u001b[39;00m op\u001b[39m.\u001b[39;49mapply()\u001b[39m.\u001b[39m__finalize__(\u001b[39mself\u001b[39m, method\u001b[39m=\u001b[39m\u001b[39m\"\u001b[39m\u001b[39mapply\u001b[39m\u001b[39m\"\u001b[39m)\n",
            "File \u001b[1;32mc:\\Users\\XY\\AppData\\Local\\Programs\\Python\\Python310\\lib\\site-packages\\pandas\\core\\apply.py:727\u001b[0m, in \u001b[0;36mFrameApply.apply\u001b[1;34m(self)\u001b[0m\n\u001b[0;32m    724\u001b[0m \u001b[39melif\u001b[39;00m \u001b[39mself\u001b[39m\u001b[39m.\u001b[39mraw:\n\u001b[0;32m    725\u001b[0m     \u001b[39mreturn\u001b[39;00m \u001b[39mself\u001b[39m\u001b[39m.\u001b[39mapply_raw()\n\u001b[1;32m--> 727\u001b[0m \u001b[39mreturn\u001b[39;00m \u001b[39mself\u001b[39;49m\u001b[39m.\u001b[39;49mapply_standard()\n",
            "File \u001b[1;32mc:\\Users\\XY\\AppData\\Local\\Programs\\Python\\Python310\\lib\\site-packages\\pandas\\core\\apply.py:851\u001b[0m, in \u001b[0;36mFrameApply.apply_standard\u001b[1;34m(self)\u001b[0m\n\u001b[0;32m    850\u001b[0m \u001b[39mdef\u001b[39;00m \u001b[39mapply_standard\u001b[39m(\u001b[39mself\u001b[39m):\n\u001b[1;32m--> 851\u001b[0m     results, res_index \u001b[39m=\u001b[39m \u001b[39mself\u001b[39;49m\u001b[39m.\u001b[39;49mapply_series_generator()\n\u001b[0;32m    853\u001b[0m     \u001b[39m# wrap results\u001b[39;00m\n\u001b[0;32m    854\u001b[0m     \u001b[39mreturn\u001b[39;00m \u001b[39mself\u001b[39m\u001b[39m.\u001b[39mwrap_results(results, res_index)\n",
            "File \u001b[1;32mc:\\Users\\XY\\AppData\\Local\\Programs\\Python\\Python310\\lib\\site-packages\\pandas\\core\\apply.py:867\u001b[0m, in \u001b[0;36mFrameApply.apply_series_generator\u001b[1;34m(self)\u001b[0m\n\u001b[0;32m    864\u001b[0m \u001b[39mwith\u001b[39;00m option_context(\u001b[39m\"\u001b[39m\u001b[39mmode.chained_assignment\u001b[39m\u001b[39m\"\u001b[39m, \u001b[39mNone\u001b[39;00m):\n\u001b[0;32m    865\u001b[0m     \u001b[39mfor\u001b[39;00m i, v \u001b[39min\u001b[39;00m \u001b[39menumerate\u001b[39m(series_gen):\n\u001b[0;32m    866\u001b[0m         \u001b[39m# ignore SettingWithCopy here in case the user mutates\u001b[39;00m\n\u001b[1;32m--> 867\u001b[0m         results[i] \u001b[39m=\u001b[39m \u001b[39mself\u001b[39;49m\u001b[39m.\u001b[39;49mf(v)\n\u001b[0;32m    868\u001b[0m         \u001b[39mif\u001b[39;00m \u001b[39misinstance\u001b[39m(results[i], ABCSeries):\n\u001b[0;32m    869\u001b[0m             \u001b[39m# If we have a view on v, we need to make a copy because\u001b[39;00m\n\u001b[0;32m    870\u001b[0m             \u001b[39m#  series_generator will swap out the underlying data\u001b[39;00m\n\u001b[0;32m    871\u001b[0m             results[i] \u001b[39m=\u001b[39m results[i]\u001b[39m.\u001b[39mcopy(deep\u001b[39m=\u001b[39m\u001b[39mFalse\u001b[39;00m)\n",
            "\u001b[1;32mc:\\Users\\XY\\Desktop\\QuantCh 2023\\84\\QuantCh\\JOebiden.ipynb Cell 23\u001b[0m in \u001b[0;36m<lambda>\u001b[1;34m(x)\u001b[0m\n\u001b[0;32m      <a href='vscode-notebook-cell:/c%3A/Users/XY/Desktop/QuantCh%202023/84/QuantCh/JOebiden.ipynb#X31sZmlsZQ%3D%3D?line=8'>9</a>\u001b[0m station_pos\u001b[39m.\u001b[39mapply(\u001b[39mlambda\u001b[39;00m x: ax\u001b[39m.\u001b[39mannotate(text\u001b[39m=\u001b[39mx[\u001b[39m'\u001b[39m\u001b[39mCode\u001b[39m\u001b[39m'\u001b[39m],xy\u001b[39m=\u001b[39mx\u001b[39m.\u001b[39mgeometry\u001b[39m.\u001b[39mcentroid\u001b[39m.\u001b[39mcoords[\u001b[39m0\u001b[39m], ha\u001b[39m=\u001b[39m\u001b[39m'\u001b[39m\u001b[39mright\u001b[39m\u001b[39m'\u001b[39m) \u001b[39mif\u001b[39;00m (x[\u001b[39m'\u001b[39m\u001b[39mCode\u001b[39m\u001b[39m'\u001b[39m] \u001b[39m==\u001b[39m \u001b[39m\"\u001b[39m\u001b[39mKAIT0\u001b[39m\u001b[39m\"\u001b[39m) \u001b[39melse\u001b[39;00m \u001b[39mNone\u001b[39;00m , axis\u001b[39m=\u001b[39m\u001b[39m1\u001b[39m)\n\u001b[0;32m     <a href='vscode-notebook-cell:/c%3A/Users/XY/Desktop/QuantCh%202023/84/QuantCh/JOebiden.ipynb#X31sZmlsZQ%3D%3D?line=9'>10</a>\u001b[0m station_pos\u001b[39m.\u001b[39mplot(ax\u001b[39m=\u001b[39max)\n\u001b[1;32m---> <a href='vscode-notebook-cell:/c%3A/Users/XY/Desktop/QuantCh%202023/84/QuantCh/JOebiden.ipynb#X31sZmlsZQ%3D%3D?line=10'>11</a>\u001b[0m counties_gds\u001b[39m.\u001b[39mapply(\u001b[39mlambda\u001b[39;00m x: ax\u001b[39m.\u001b[39;49mannotate(text\u001b[39m=\u001b[39;49mx[\u001b[39m'\u001b[39;49m\u001b[39mcounty_name\u001b[39;49m\u001b[39m'\u001b[39;49m],xy\u001b[39m=\u001b[39;49mx\u001b[39m.\u001b[39;49mgeometry\u001b[39m.\u001b[39;49mcentroid\u001b[39m.\u001b[39;49mcoords[\u001b[39m0\u001b[39;49m] \u001b[39mif\u001b[39;49;00m (x[\u001b[39m'\u001b[39;49m\u001b[39mcapital_name\u001b[39;49m\u001b[39m'\u001b[39;49m] \u001b[39m==\u001b[39;49m \u001b[39m\"\u001b[39;49m\u001b[39mAitkin\u001b[39;49m\u001b[39m\"\u001b[39;49m) \u001b[39melse\u001b[39;49;00m \u001b[39mNone\u001b[39;49;00m , ha\u001b[39m=\u001b[39;49m\u001b[39m'\u001b[39;49m\u001b[39mleft\u001b[39;49m\u001b[39m'\u001b[39;49m), axis\u001b[39m=\u001b[39m\u001b[39m1\u001b[39m)\n\u001b[0;32m     <a href='vscode-notebook-cell:/c%3A/Users/XY/Desktop/QuantCh%202023/84/QuantCh/JOebiden.ipynb#X31sZmlsZQ%3D%3D?line=11'>12</a>\u001b[0m counties_gds\u001b[39m.\u001b[39mplot(ax\u001b[39m=\u001b[39max,color\u001b[39m=\u001b[39m\u001b[39m\"\u001b[39m\u001b[39mred\u001b[39m\u001b[39m\"\u001b[39m)\n",
            "File \u001b[1;32mc:\\Users\\XY\\AppData\\Local\\Programs\\Python\\Python310\\lib\\site-packages\\matplotlib\\axes\\_axes.py:699\u001b[0m, in \u001b[0;36mAxes.annotate\u001b[1;34m(self, text, xy, xytext, xycoords, textcoords, arrowprops, annotation_clip, **kwargs)\u001b[0m\n\u001b[0;32m    694\u001b[0m \u001b[39m@_docstring\u001b[39m\u001b[39m.\u001b[39mdedent_interpd\n\u001b[0;32m    695\u001b[0m \u001b[39mdef\u001b[39;00m \u001b[39mannotate\u001b[39m(\u001b[39mself\u001b[39m, text, xy, xytext\u001b[39m=\u001b[39m\u001b[39mNone\u001b[39;00m, xycoords\u001b[39m=\u001b[39m\u001b[39m'\u001b[39m\u001b[39mdata\u001b[39m\u001b[39m'\u001b[39m, textcoords\u001b[39m=\u001b[39m\u001b[39mNone\u001b[39;00m,\n\u001b[0;32m    696\u001b[0m              arrowprops\u001b[39m=\u001b[39m\u001b[39mNone\u001b[39;00m, annotation_clip\u001b[39m=\u001b[39m\u001b[39mNone\u001b[39;00m, \u001b[39m*\u001b[39m\u001b[39m*\u001b[39mkwargs):\n\u001b[0;32m    697\u001b[0m     \u001b[39m# Signature must match Annotation. This is verified in\u001b[39;00m\n\u001b[0;32m    698\u001b[0m     \u001b[39m# test_annotate_signature().\u001b[39;00m\n\u001b[1;32m--> 699\u001b[0m     a \u001b[39m=\u001b[39m mtext\u001b[39m.\u001b[39mAnnotation(text, xy, xytext\u001b[39m=\u001b[39mxytext, xycoords\u001b[39m=\u001b[39mxycoords,\n\u001b[0;32m    700\u001b[0m                          textcoords\u001b[39m=\u001b[39mtextcoords, arrowprops\u001b[39m=\u001b[39marrowprops,\n\u001b[0;32m    701\u001b[0m                          annotation_clip\u001b[39m=\u001b[39mannotation_clip, \u001b[39m*\u001b[39m\u001b[39m*\u001b[39mkwargs)\n\u001b[0;32m    702\u001b[0m     a\u001b[39m.\u001b[39mset_transform(mtransforms\u001b[39m.\u001b[39mIdentityTransform())\n\u001b[0;32m    703\u001b[0m     \u001b[39mif\u001b[39;00m \u001b[39m'\u001b[39m\u001b[39mclip_on\u001b[39m\u001b[39m'\u001b[39m \u001b[39min\u001b[39;00m kwargs:\n",
            "File \u001b[1;32mc:\\Users\\XY\\AppData\\Local\\Programs\\Python\\Python310\\lib\\site-packages\\matplotlib\\text.py:1868\u001b[0m, in \u001b[0;36mAnnotation.__init__\u001b[1;34m(self, text, xy, xytext, xycoords, textcoords, arrowprops, annotation_clip, **kwargs)\u001b[0m\n\u001b[0;32m   1866\u001b[0m \u001b[39mif\u001b[39;00m xytext \u001b[39mis\u001b[39;00m \u001b[39mNone\u001b[39;00m:\n\u001b[0;32m   1867\u001b[0m     xytext \u001b[39m=\u001b[39m \u001b[39mself\u001b[39m\u001b[39m.\u001b[39mxy\n\u001b[1;32m-> 1868\u001b[0m x, y \u001b[39m=\u001b[39m xytext\n\u001b[0;32m   1870\u001b[0m \u001b[39mself\u001b[39m\u001b[39m.\u001b[39marrowprops \u001b[39m=\u001b[39m arrowprops\n\u001b[0;32m   1871\u001b[0m \u001b[39mif\u001b[39;00m arrowprops \u001b[39mis\u001b[39;00m \u001b[39mnot\u001b[39;00m \u001b[39mNone\u001b[39;00m:\n",
            "\u001b[1;31mTypeError\u001b[0m: cannot unpack non-iterable NoneType object"
          ]
        },
        {
          "data": {
            "image/png": "[encoded data removed]",
            "text/plain": [
              "<Figure size 1080x1080 with 1 Axes>"
            ]
          },
          "metadata": {
            "needs_background": "light"
          },
          "output_type": "display_data"
        }
      ],
      "source": [
        "import matplotlib as plt\n",
        "counties_map= counties_map.drop_duplicates(subset=['CTY_ABBR'])\n",
        "counties_map = counties_map.to_crs(\"EPSG:4326\")\n",
        "fig, ax = plt.pyplot.subplots(figsize = (15,15))\n",
        "counties_map.plot(color=\"white\", edgecolor=\"black\",ax=ax)\n",
        "plt.rcParams.update({'font.size': 10})\n",
        "#counties_map.apply(lambda x: ax.annotate(text=x['CTY_ABBR'],xy=x.geometry.centroid.coords[0], ha='center'), axis=1)\n",
        "#station_pos = station_pos.to_crs(\"EPSG:26915\")\n",
        "station_pos.apply(lambda x: ax.annotate(text=x['Code'],xy=x.geometry.centroid.coords[0], ha='right') if (x['Code'] == \"KAIT0\") else None , axis=1)\n",
        "station_pos.plot(ax=ax)\n",
        "counties_gds.apply(lambda x: ax.annotate(text=x['county_name'],xy=x.geometry.centroid.coords[0] if (x['capital_name'] == \"Aitkin\") else None , ha='left'), axis=1)\n",
        "counties_gds.plot(ax=ax,color=\"red\")"
      ]
    },
    {
      "cell_type": "markdown",
      "metadata": {
        "id": "nYr84CriBeWp"
      },
      "source": [
        "Without annotation\n"
      ]
    },
    {
      "cell_type": "code",
      "execution_count": 36,
      "metadata": {
        "colab": {
          "base_uri": "https://localhost:8080/",
          "height": 1000
        },
        "id": "W0_WKqzZBbKy",
        "outputId": "19a22f89-50f0-4a47-ace0-a4f16233e5e7"
      },
      "outputs": [
        {
          "data": {
            "text/plain": [
              "<Axes: >"
            ]
          },
          "execution_count": 36,
          "metadata": {},
          "output_type": "execute_result"
        },
        {
          "data": {
            "image/png": "[encoded data removed]",
            "text/plain": [
              "<Figure size 1080x1080 with 1 Axes>"
            ]
          },
          "metadata": {
            "needs_background": "light"
          },
          "output_type": "display_data"
        }
      ],
      "source": [
        "counties_map= counties_map.drop_duplicates(subset=['CTY_ABBR'])\n",
        "counties_map = counties_map.to_crs(\"EPSG:4326\")\n",
        "fig, ax = plt.pyplot.subplots(figsize = (15,15))\n",
        "counties_map.plot(color=\"white\", edgecolor=\"black\",ax=ax)\n",
        "plt.rcParams.update({'font.size': 10})\n",
        "#counties_map.apply(lambda x: ax.annotate(text=x['CTY_ABBR'],xy=x.geometry.centroid.coords[0], ha='center'), axis=1)\n",
        "#station_pos = station_pos.to_crs(\"EPSG:26915\")\n",
        "station_pos.plot(ax=ax)\n",
        "counties_gds.plot(ax=ax,color=\"red\")"
      ]
    },
    {
      "cell_type": "markdown",
      "metadata": {
        "id": "4hIIlahlt0cY"
      },
      "source": [
        "#Data prep"
      ]
    },
    {
      "attachments": {},
      "cell_type": "markdown",
      "metadata": {
        "id": "j4wVA1uUHpzk"
      },
      "source": [
        "## Datatypes"
      ]
    },
    {
      "cell_type": "code",
      "execution_count": 10,
      "metadata": {
        "id": "aZGF3kF7fxIS"
      },
      "outputs": [],
      "source": [
        "crop_df = pd.read_csv('agri/minnesota_county_yearly_agricultural_production.csv')"
      ]
    },
    {
      "cell_type": "code",
      "execution_count": 11,
      "metadata": {
        "colab": {
          "base_uri": "https://localhost:8080/"
        },
        "id": "q3JalLKBsCmV",
        "outputId": "95f2fba1-1e52-477c-b1da-c7fe8b822940"
      },
      "outputs": [
        {
          "data": {
            "text/plain": [
              "array(['BARLEY', 'CORN', 'FLAXSEED', 'HAY', 'OATS', 'RYE', 'SOYBEANS',\n",
              "       'WHEAT', 'SUGARBEETS', 'SUNFLOWER', 'BEANS', 'CANOLA'],\n",
              "      dtype=object)"
            ]
          },
          "execution_count": 11,
          "metadata": {},
          "output_type": "execute_result"
        }
      ],
      "source": [
        "pd.unique(crop_df['Commodity'])"
      ]
    },
    {
      "cell_type": "code",
      "execution_count": 12,
      "metadata": {
        "colab": {
          "base_uri": "https://localhost:8080/"
        },
        "id": "Ch4ivzQspVNN",
        "outputId": "bedecfcc-60c6-4c62-b3b4-4059d88db0fb"
      },
      "outputs": [
        {
          "data": {
            "text/plain": [
              "array(['AITKIN', 'ANOKA', 'BECKER', 'BELTRAMI', 'BENTON', 'BIG STONE',\n",
              "       'BLUE EARTH', 'BROWN', 'CARLTON', 'CARVER', 'CASS', 'CHIPPEWA',\n",
              "       'CHISAGO', 'CLAY', 'CLEARWATER', 'COTTONWOOD', 'CROW WING',\n",
              "       'DOUGLAS', 'FARIBAULT', 'FREEBORN', 'GRANT', 'HENNEPIN', 'HUBBARD',\n",
              "       'ISANTI', 'ITASCA', 'JACKSON', 'KANABEC', 'KANDIYOHI', 'KITTSON',\n",
              "       'KOOCHICHING', 'LAC QUI PARLE', 'LAKE', 'LAKE OF THE WOODS',\n",
              "       'LE SUEUR', 'LINCOLN', 'LYON', 'MAHNOMEN', 'MARSHALL', 'MARTIN',\n",
              "       'MCLEOD', 'MEEKER', 'MILLE LACS', 'MORRISON', 'MURRAY', 'NICOLLET',\n",
              "       'NOBLES', 'NORMAN', 'OTTER TAIL', 'PENNINGTON', 'PINE',\n",
              "       'PIPESTONE', 'POLK', 'POPE', 'RAMSEY', 'RED LAKE', 'REDWOOD',\n",
              "       'RENVILLE', 'RICE', 'ROCK', 'ROSEAU', 'SCOTT', 'SHERBURNE',\n",
              "       'SIBLEY', 'ST. LOUIS', 'STEARNS', 'STEELE', 'STEVENS', 'SWIFT',\n",
              "       'TODD', 'TRAVERSE', 'WADENA', 'WASECA', 'WASHINGTON', 'WATONWAN',\n",
              "       'WILKIN', 'WRIGHT', 'YELLOW MEDICINE', 'COOK',\n",
              "       'OTHER (COMBINED) COUNTIES'], dtype=object)"
            ]
          },
          "execution_count": 12,
          "metadata": {},
          "output_type": "execute_result"
        }
      ],
      "source": [
        "pd.unique(crop_df['County'])"
      ]
    },
    {
      "cell_type": "code",
      "execution_count": 13,
      "metadata": {
        "colab": {
          "base_uri": "https://localhost:8080/",
          "height": 424
        },
        "id": "lWO4x4TbrgbW",
        "outputId": "f11e0fb5-50be-4e4d-f47f-927ef02e1a65"
      },
      "outputs": [
        {
          "data": {
            "text/html": [
              "<div>\n",
              "<style scoped>\n",
              "    .dataframe tbody tr th:only-of-type {\n",
              "        vertical-align: middle;\n",
              "    }\n",
              "\n",
              "    .dataframe tbody tr th {\n",
              "        vertical-align: top;\n",
              "    }\n",
              "\n",
              "    .dataframe thead th {\n",
              "        text-align: right;\n",
              "    }\n",
              "</style>\n",
              "<table border=\"1\" class=\"dataframe\">\n",
              "  <thead>\n",
              "    <tr style=\"text-align: right;\">\n",
              "      <th></th>\n",
              "      <th>Year</th>\n",
              "      <th>County</th>\n",
              "      <th>Commodity</th>\n",
              "      <th>Crop</th>\n",
              "      <th>ACRES HARVESTED</th>\n",
              "      <th>PRODUCTION, MEASURED IN BU</th>\n",
              "      <th>YIELD, MEASURED IN BU / ACRE</th>\n",
              "    </tr>\n",
              "  </thead>\n",
              "  <tbody>\n",
              "    <tr>\n",
              "      <th>11</th>\n",
              "      <td>1950</td>\n",
              "      <td>ANOKA</td>\n",
              "      <td>BARLEY</td>\n",
              "      <td>BARLEY</td>\n",
              "      <td>130</td>\n",
              "      <td>3,250</td>\n",
              "      <td>25.0</td>\n",
              "    </tr>\n",
              "    <tr>\n",
              "      <th>12</th>\n",
              "      <td>1950</td>\n",
              "      <td>ANOKA</td>\n",
              "      <td>CORN</td>\n",
              "      <td>CORN, GRAIN</td>\n",
              "      <td>20,400</td>\n",
              "      <td>571,200</td>\n",
              "      <td>28.0</td>\n",
              "    </tr>\n",
              "    <tr>\n",
              "      <th>13</th>\n",
              "      <td>1950</td>\n",
              "      <td>ANOKA</td>\n",
              "      <td>FLAXSEED</td>\n",
              "      <td>FLAXSEED</td>\n",
              "      <td>10</td>\n",
              "      <td>100</td>\n",
              "      <td>10.0</td>\n",
              "    </tr>\n",
              "    <tr>\n",
              "      <th>14</th>\n",
              "      <td>1950</td>\n",
              "      <td>ANOKA</td>\n",
              "      <td>HAY</td>\n",
              "      <td>HAY</td>\n",
              "      <td>23,500</td>\n",
              "      <td>NaN</td>\n",
              "      <td>NaN</td>\n",
              "    </tr>\n",
              "    <tr>\n",
              "      <th>15</th>\n",
              "      <td>1950</td>\n",
              "      <td>ANOKA</td>\n",
              "      <td>OATS</td>\n",
              "      <td>OATS</td>\n",
              "      <td>8,700</td>\n",
              "      <td>243,600</td>\n",
              "      <td>28.0</td>\n",
              "    </tr>\n",
              "    <tr>\n",
              "      <th>...</th>\n",
              "      <td>...</td>\n",
              "      <td>...</td>\n",
              "      <td>...</td>\n",
              "      <td>...</td>\n",
              "      <td>...</td>\n",
              "      <td>...</td>\n",
              "      <td>...</td>\n",
              "    </tr>\n",
              "    <tr>\n",
              "      <th>55654</th>\n",
              "      <td>2020</td>\n",
              "      <td>ANOKA</td>\n",
              "      <td>CORN</td>\n",
              "      <td>CORN, SILAGE</td>\n",
              "      <td>280</td>\n",
              "      <td>NaN</td>\n",
              "      <td>NaN</td>\n",
              "    </tr>\n",
              "    <tr>\n",
              "      <th>55655</th>\n",
              "      <td>2020</td>\n",
              "      <td>ANOKA</td>\n",
              "      <td>SOYBEANS</td>\n",
              "      <td>SOYBEANS</td>\n",
              "      <td>3,240</td>\n",
              "      <td>148,000</td>\n",
              "      <td>45.7</td>\n",
              "    </tr>\n",
              "    <tr>\n",
              "      <th>55977</th>\n",
              "      <td>2021</td>\n",
              "      <td>ANOKA</td>\n",
              "      <td>CORN</td>\n",
              "      <td>CORN</td>\n",
              "      <td>NaN</td>\n",
              "      <td>NaN</td>\n",
              "      <td>NaN</td>\n",
              "    </tr>\n",
              "    <tr>\n",
              "      <th>55978</th>\n",
              "      <td>2021</td>\n",
              "      <td>ANOKA</td>\n",
              "      <td>CORN</td>\n",
              "      <td>CORN, GRAIN</td>\n",
              "      <td>4,100</td>\n",
              "      <td>460,000</td>\n",
              "      <td>112.2</td>\n",
              "    </tr>\n",
              "    <tr>\n",
              "      <th>55979</th>\n",
              "      <td>2021</td>\n",
              "      <td>ANOKA</td>\n",
              "      <td>SOYBEANS</td>\n",
              "      <td>SOYBEANS</td>\n",
              "      <td>3,370</td>\n",
              "      <td>116,000</td>\n",
              "      <td>34.4</td>\n",
              "    </tr>\n",
              "  </tbody>\n",
              "</table>\n",
              "<p>524 rows × 7 columns</p>\n",
              "</div>"
            ],
            "text/plain": [
              "       Year County Commodity          Crop ACRES HARVESTED  \\\n",
              "11     1950  ANOKA    BARLEY        BARLEY             130   \n",
              "12     1950  ANOKA      CORN   CORN, GRAIN          20,400   \n",
              "13     1950  ANOKA  FLAXSEED      FLAXSEED              10   \n",
              "14     1950  ANOKA       HAY           HAY          23,500   \n",
              "15     1950  ANOKA      OATS          OATS           8,700   \n",
              "...     ...    ...       ...           ...             ...   \n",
              "55654  2020  ANOKA      CORN  CORN, SILAGE             280   \n",
              "55655  2020  ANOKA  SOYBEANS      SOYBEANS           3,240   \n",
              "55977  2021  ANOKA      CORN          CORN             NaN   \n",
              "55978  2021  ANOKA      CORN   CORN, GRAIN           4,100   \n",
              "55979  2021  ANOKA  SOYBEANS      SOYBEANS           3,370   \n",
              "\n",
              "      PRODUCTION, MEASURED IN BU  YIELD, MEASURED IN BU / ACRE  \n",
              "11                         3,250                          25.0  \n",
              "12                       571,200                          28.0  \n",
              "13                           100                          10.0  \n",
              "14                           NaN                           NaN  \n",
              "15                       243,600                          28.0  \n",
              "...                          ...                           ...  \n",
              "55654                        NaN                           NaN  \n",
              "55655                    148,000                          45.7  \n",
              "55977                        NaN                           NaN  \n",
              "55978                    460,000                         112.2  \n",
              "55979                    116,000                          34.4  \n",
              "\n",
              "[524 rows x 7 columns]"
            ]
          },
          "execution_count": 13,
          "metadata": {},
          "output_type": "execute_result"
        }
      ],
      "source": [
        "crop_df.loc[crop_df['County'] == \"ANOKA\"]\n"
      ]
    },
    {
      "cell_type": "markdown",
      "metadata": {
        "id": "fZG-DyFeoBVH"
      },
      "source": [
        "Itt a County rövidítésnél feljött egy probléma:"
      ]
    },
    {
      "cell_type": "code",
      "execution_count": 14,
      "metadata": {
        "id": "E0CWdrxvp-3t"
      },
      "outputs": [],
      "source": [
        "crops = {}\n",
        "for i in pd.unique(crop_df['County']):\n",
        "  crops[i] = {}\n",
        "  for j in pd.unique(crop_df['Commodity']):\n",
        "    crops[i][j] = crop_df.loc[crop_df['County'] == i].loc[crop_df['Commodity'] == j].copy(deep=True).reset_index(drop=True)"
      ]
    },
    {
      "cell_type": "markdown",
      "metadata": {
        "id": "6boxMNSNoH5w"
      },
      "source": [
        "Ha a fenti metódust használjuk a kkor a teljes kódneve benne lesz egy egy megyének ami nem kompatibilis a később kialakított 4 betűs rövidítésekkel ezért máshogy kell majd megcsinálni a crops dict-et"
      ]
    },
    {
      "cell_type": "code",
      "execution_count": 15,
      "metadata": {
        "colab": {
          "base_uri": "https://localhost:8080/"
        },
        "id": "CxqbBw2woWYy",
        "outputId": "844abd04-15f9-467e-86f2-8281158ebab8"
      },
      "outputs": [],
      "source": [
        "crop_df_counties = pd.unique(crop_df['County'])\n",
        "crop_df_counties = [ s.replace(' ','')[:4] for s in crop_df_counties]\n"
      ]
    },
    {
      "attachments": {},
      "cell_type": "markdown",
      "metadata": {},
      "source": [
        "All kinds of commodities:\n",
        "``` 'BARLEY', 'CORN', 'FLAXSEED', 'HAY', 'OATS', 'RYE', 'SOYBEANS', 'WHEAT', 'SUGARBEETS', 'SUNFLOWER', 'BEANS', 'CANOLA' ```"
      ]
    },
    {
      "cell_type": "code",
      "execution_count": 16,
      "metadata": {
        "id": "YVDNPYTpoU2F"
      },
      "outputs": [],
      "source": [
        "crops = {}\n",
        "for i in pd.unique(crop_df['County']):\n",
        "  crops[i] = {}\n",
        "  for j in pd.unique(crop_df['Commodity']):\n",
        "    crops[i][j] = crop_df.loc[crop_df['County'] == i].loc[crop_df['Commodity'] == j].copy(deep=True).reset_index(drop=True)"
      ]
    },
    {
      "cell_type": "code",
      "execution_count": 17,
      "metadata": {
        "colab": {
          "base_uri": "https://localhost:8080/",
          "height": 424
        },
        "id": "AeNOUVlnsoBU",
        "outputId": "46fc0a10-b4ef-4be8-a45d-3ca27d6ac642"
      },
      "outputs": [
        {
          "data": {
            "text/html": [
              "<div>\n",
              "<style scoped>\n",
              "    .dataframe tbody tr th:only-of-type {\n",
              "        vertical-align: middle;\n",
              "    }\n",
              "\n",
              "    .dataframe tbody tr th {\n",
              "        vertical-align: top;\n",
              "    }\n",
              "\n",
              "    .dataframe thead th {\n",
              "        text-align: right;\n",
              "    }\n",
              "</style>\n",
              "<table border=\"1\" class=\"dataframe\">\n",
              "  <thead>\n",
              "    <tr style=\"text-align: right;\">\n",
              "      <th></th>\n",
              "      <th>Year</th>\n",
              "      <th>County</th>\n",
              "      <th>Commodity</th>\n",
              "      <th>Crop</th>\n",
              "      <th>ACRES HARVESTED</th>\n",
              "      <th>PRODUCTION, MEASURED IN BU</th>\n",
              "      <th>YIELD, MEASURED IN BU / ACRE</th>\n",
              "    </tr>\n",
              "  </thead>\n",
              "  <tbody>\n",
              "    <tr>\n",
              "      <th>0</th>\n",
              "      <td>1950</td>\n",
              "      <td>ANOKA</td>\n",
              "      <td>WHEAT</td>\n",
              "      <td>WHEAT</td>\n",
              "      <td>530</td>\n",
              "      <td>9,860</td>\n",
              "      <td>18.6</td>\n",
              "    </tr>\n",
              "    <tr>\n",
              "      <th>1</th>\n",
              "      <td>1950</td>\n",
              "      <td>ANOKA</td>\n",
              "      <td>WHEAT</td>\n",
              "      <td>WHEAT, SPRING, (EXCL DURUM)</td>\n",
              "      <td>80</td>\n",
              "      <td>960</td>\n",
              "      <td>12.0</td>\n",
              "    </tr>\n",
              "    <tr>\n",
              "      <th>2</th>\n",
              "      <td>1950</td>\n",
              "      <td>ANOKA</td>\n",
              "      <td>WHEAT</td>\n",
              "      <td>WHEAT, SPRING, DURUM</td>\n",
              "      <td>20</td>\n",
              "      <td>300</td>\n",
              "      <td>15.0</td>\n",
              "    </tr>\n",
              "    <tr>\n",
              "      <th>3</th>\n",
              "      <td>1950</td>\n",
              "      <td>ANOKA</td>\n",
              "      <td>WHEAT</td>\n",
              "      <td>WHEAT, WINTER</td>\n",
              "      <td>430</td>\n",
              "      <td>8,600</td>\n",
              "      <td>20.0</td>\n",
              "    </tr>\n",
              "    <tr>\n",
              "      <th>4</th>\n",
              "      <td>1951</td>\n",
              "      <td>ANOKA</td>\n",
              "      <td>WHEAT</td>\n",
              "      <td>WHEAT</td>\n",
              "      <td>660</td>\n",
              "      <td>12,960</td>\n",
              "      <td>19.6</td>\n",
              "    </tr>\n",
              "    <tr>\n",
              "      <th>...</th>\n",
              "      <td>...</td>\n",
              "      <td>...</td>\n",
              "      <td>...</td>\n",
              "      <td>...</td>\n",
              "      <td>...</td>\n",
              "      <td>...</td>\n",
              "      <td>...</td>\n",
              "    </tr>\n",
              "    <tr>\n",
              "      <th>69</th>\n",
              "      <td>1986</td>\n",
              "      <td>ANOKA</td>\n",
              "      <td>WHEAT</td>\n",
              "      <td>WHEAT</td>\n",
              "      <td>500</td>\n",
              "      <td>17,000</td>\n",
              "      <td>34.0</td>\n",
              "    </tr>\n",
              "    <tr>\n",
              "      <th>70</th>\n",
              "      <td>1986</td>\n",
              "      <td>ANOKA</td>\n",
              "      <td>WHEAT</td>\n",
              "      <td>WHEAT, SPRING, (EXCL DURUM)</td>\n",
              "      <td>300</td>\n",
              "      <td>10,800</td>\n",
              "      <td>36.0</td>\n",
              "    </tr>\n",
              "    <tr>\n",
              "      <th>71</th>\n",
              "      <td>1998</td>\n",
              "      <td>ANOKA</td>\n",
              "      <td>WHEAT</td>\n",
              "      <td>WHEAT</td>\n",
              "      <td>1,000</td>\n",
              "      <td>37,100</td>\n",
              "      <td>37.1</td>\n",
              "    </tr>\n",
              "    <tr>\n",
              "      <th>72</th>\n",
              "      <td>2001</td>\n",
              "      <td>ANOKA</td>\n",
              "      <td>WHEAT</td>\n",
              "      <td>WHEAT</td>\n",
              "      <td>1,400</td>\n",
              "      <td>53,200</td>\n",
              "      <td>38.0</td>\n",
              "    </tr>\n",
              "    <tr>\n",
              "      <th>73</th>\n",
              "      <td>2001</td>\n",
              "      <td>ANOKA</td>\n",
              "      <td>WHEAT</td>\n",
              "      <td>WHEAT, SPRING, (EXCL DURUM)</td>\n",
              "      <td>1,400</td>\n",
              "      <td>53,200</td>\n",
              "      <td>38.0</td>\n",
              "    </tr>\n",
              "  </tbody>\n",
              "</table>\n",
              "<p>74 rows × 7 columns</p>\n",
              "</div>"
            ],
            "text/plain": [
              "    Year County Commodity                         Crop ACRES HARVESTED  \\\n",
              "0   1950  ANOKA     WHEAT                        WHEAT             530   \n",
              "1   1950  ANOKA     WHEAT  WHEAT, SPRING, (EXCL DURUM)              80   \n",
              "2   1950  ANOKA     WHEAT         WHEAT, SPRING, DURUM              20   \n",
              "3   1950  ANOKA     WHEAT                WHEAT, WINTER             430   \n",
              "4   1951  ANOKA     WHEAT                        WHEAT             660   \n",
              "..   ...    ...       ...                          ...             ...   \n",
              "69  1986  ANOKA     WHEAT                        WHEAT             500   \n",
              "70  1986  ANOKA     WHEAT  WHEAT, SPRING, (EXCL DURUM)             300   \n",
              "71  1998  ANOKA     WHEAT                        WHEAT           1,000   \n",
              "72  2001  ANOKA     WHEAT                        WHEAT           1,400   \n",
              "73  2001  ANOKA     WHEAT  WHEAT, SPRING, (EXCL DURUM)           1,400   \n",
              "\n",
              "   PRODUCTION, MEASURED IN BU  YIELD, MEASURED IN BU / ACRE  \n",
              "0                       9,860                          18.6  \n",
              "1                         960                          12.0  \n",
              "2                         300                          15.0  \n",
              "3                       8,600                          20.0  \n",
              "4                      12,960                          19.6  \n",
              "..                        ...                           ...  \n",
              "69                     17,000                          34.0  \n",
              "70                     10,800                          36.0  \n",
              "71                     37,100                          37.1  \n",
              "72                     53,200                          38.0  \n",
              "73                     53,200                          38.0  \n",
              "\n",
              "[74 rows x 7 columns]"
            ]
          },
          "execution_count": 17,
          "metadata": {},
          "output_type": "execute_result"
        }
      ],
      "source": [
        "crops['ANOKA']['WHEAT']"
      ]
    },
    {
      "cell_type": "code",
      "execution_count": 311,
      "metadata": {},
      "outputs": [
        {
          "data": {
            "text/plain": [
              "dict_keys(['AITKIN', 'ANOKA', 'BECKER', 'BELTRAMI', 'BENTON', 'BIG STONE', 'BLUE EARTH', 'BROWN', 'CARLTON', 'CARVER', 'CASS', 'CHIPPEWA', 'CHISAGO', 'CLAY', 'CLEARWATER', 'COTTONWOOD', 'CROW WING', 'DOUGLAS', 'FARIBAULT', 'FREEBORN', 'GRANT', 'HENNEPIN', 'HUBBARD', 'ISANTI', 'ITASCA', 'JACKSON', 'KANABEC', 'KANDIYOHI', 'KITTSON', 'KOOCHICHING', 'LAC QUI PARLE', 'LAKE', 'LAKE OF THE WOODS', 'LE SUEUR', 'LINCOLN', 'LYON', 'MAHNOMEN', 'MARSHALL', 'MARTIN', 'MCLEOD', 'MEEKER', 'MILLE LACS', 'MORRISON', 'MURRAY', 'NICOLLET', 'NOBLES', 'NORMAN', 'OTTER TAIL', 'PENNINGTON', 'PINE', 'PIPESTONE', 'POLK', 'POPE', 'RAMSEY', 'RED LAKE', 'REDWOOD', 'RENVILLE', 'RICE', 'ROCK', 'ROSEAU', 'SCOTT', 'SHERBURNE', 'SIBLEY', 'ST. LOUIS', 'STEARNS', 'STEELE', 'STEVENS', 'SWIFT', 'TODD', 'TRAVERSE', 'WADENA', 'WASECA', 'WASHINGTON', 'WATONWAN', 'WILKIN', 'WRIGHT', 'YELLOW MEDICINE', 'COOK', 'OTHER (COMBINED) COUNTIES'])"
            ]
          },
          "execution_count": 311,
          "metadata": {},
          "output_type": "execute_result"
        }
      ],
      "source": [
        "crops.keys()"
      ]
    },
    {
      "cell_type": "code",
      "execution_count": 24,
      "metadata": {
        "id": "brReOIgeuMyi"
      },
      "outputs": [],
      "source": [
        "import os\n",
        "\n",
        "station_dict = {key: [] for key in station_pos['Code']}\n",
        "station_data = os.listdir('weather/minnesota_daily')\n",
        "path = 'weather/minnesota_daily/'\n",
        "for i in station_data:\n",
        "  name = i.split('.')[0]\n",
        "  station_dict[name]  = pd.read_csv(path+i,header = None,names = ['date','tavg','tmin','tmax','prcp'])\n",
        "  #station_dict[name]['date'] = pd.to_datetime(station_dict[name]['date'])\n",
        "  #station_dict[name]=station_dict[name].set_index('date')"
      ]
    },
    {
      "cell_type": "code",
      "execution_count": 19,
      "metadata": {},
      "outputs": [],
      "source": [
        "import os\n",
        "\n",
        "\n",
        "target_dict = {}\n",
        "target_data = os.listdir('weather/prediction_targets_daily/')\n",
        "path = 'weather/prediction_targets_daily/'\n",
        "for i in target_data:\n",
        "  name = i.split('.')[0]\n",
        "  target_dict[name]  = pd.read_csv(path+i,header = None,names = ['date','tavg','tmin','tmax','prcp'])\n",
        "  #station_dict[name]['date'] = pd.to_datetime(station_dict[name]['date'])\n",
        "  #station_dict[name]=station_dict[name].set_index('date')"
      ]
    },
    {
      "cell_type": "code",
      "execution_count": null,
      "metadata": {},
      "outputs": [],
      "source": [
        "target_dict"
      ]
    },
    {
      "cell_type": "code",
      "execution_count": 26,
      "metadata": {
        "id": "aHl_Q7b4EHtj"
      },
      "outputs": [],
      "source": [
        "county_ds = pd.read_csv(\"agri/minnesota_county_location.csv\")\n",
        "station_ds = pd.read_csv(\"weather/Minnesota Station location list.csv\")"
      ]
    },
    {
      "cell_type": "code",
      "execution_count": 27,
      "metadata": {
        "id": "m0MqkNPyEd0H"
      },
      "outputs": [],
      "source": [
        "county_loc_ds = county_ds[['county_latitude','county_longitude']]\n",
        "station_loc_ds = station_ds[['Latitude','Longitude']]"
      ]
    },
    {
      "cell_type": "code",
      "execution_count": 28,
      "metadata": {},
      "outputs": [
        {
          "data": {
            "text/html": [
              "<div>\n",
              "<style scoped>\n",
              "    .dataframe tbody tr th:only-of-type {\n",
              "        vertical-align: middle;\n",
              "    }\n",
              "\n",
              "    .dataframe tbody tr th {\n",
              "        vertical-align: top;\n",
              "    }\n",
              "\n",
              "    .dataframe thead th {\n",
              "        text-align: right;\n",
              "    }\n",
              "</style>\n",
              "<table border=\"1\" class=\"dataframe\">\n",
              "  <thead>\n",
              "    <tr style=\"text-align: right;\">\n",
              "      <th></th>\n",
              "      <th>county_latitude</th>\n",
              "      <th>county_longitude</th>\n",
              "    </tr>\n",
              "  </thead>\n",
              "  <tbody>\n",
              "    <tr>\n",
              "      <th>0</th>\n",
              "      <td>46.571482</td>\n",
              "      <td>-93.384760</td>\n",
              "    </tr>\n",
              "    <tr>\n",
              "      <th>1</th>\n",
              "      <td>45.271020</td>\n",
              "      <td>-93.282763</td>\n",
              "    </tr>\n",
              "    <tr>\n",
              "      <th>2</th>\n",
              "      <td>46.817181</td>\n",
              "      <td>-95.845325</td>\n",
              "    </tr>\n",
              "    <tr>\n",
              "      <th>3</th>\n",
              "      <td>47.478542</td>\n",
              "      <td>-94.890787</td>\n",
              "    </tr>\n",
              "    <tr>\n",
              "      <th>4</th>\n",
              "      <td>45.663512</td>\n",
              "      <td>-93.913728</td>\n",
              "    </tr>\n",
              "    <tr>\n",
              "      <th>...</th>\n",
              "      <td>...</td>\n",
              "      <td>...</td>\n",
              "    </tr>\n",
              "    <tr>\n",
              "      <th>82</th>\n",
              "      <td>43.982458</td>\n",
              "      <td>-94.626918</td>\n",
              "    </tr>\n",
              "    <tr>\n",
              "      <th>83</th>\n",
              "      <td>46.265205</td>\n",
              "      <td>-96.581626</td>\n",
              "    </tr>\n",
              "    <tr>\n",
              "      <th>84</th>\n",
              "      <td>43.958227</td>\n",
              "      <td>-91.780778</td>\n",
              "    </tr>\n",
              "    <tr>\n",
              "      <th>85</th>\n",
              "      <td>45.171908</td>\n",
              "      <td>-93.874694</td>\n",
              "    </tr>\n",
              "    <tr>\n",
              "      <th>86</th>\n",
              "      <td>44.809958</td>\n",
              "      <td>-95.545575</td>\n",
              "    </tr>\n",
              "  </tbody>\n",
              "</table>\n",
              "<p>87 rows × 2 columns</p>\n",
              "</div>"
            ],
            "text/plain": [
              "    county_latitude  county_longitude\n",
              "0         46.571482        -93.384760\n",
              "1         45.271020        -93.282763\n",
              "2         46.817181        -95.845325\n",
              "3         47.478542        -94.890787\n",
              "4         45.663512        -93.913728\n",
              "..              ...               ...\n",
              "82        43.982458        -94.626918\n",
              "83        46.265205        -96.581626\n",
              "84        43.958227        -91.780778\n",
              "85        45.171908        -93.874694\n",
              "86        44.809958        -95.545575\n",
              "\n",
              "[87 rows x 2 columns]"
            ]
          },
          "execution_count": 28,
          "metadata": {},
          "output_type": "execute_result"
        }
      ],
      "source": [
        "county_loc_ds"
      ]
    },
    {
      "cell_type": "markdown",
      "metadata": {
        "id": "qaUmdm7EROmB"
      },
      "source": [
        "The main idea here is that the closer the weather station the bigger impact it has on the outcome"
      ]
    },
    {
      "attachments": {},
      "cell_type": "markdown",
      "metadata": {
        "id": "dFS9KI4LRXyK"
      },
      "source": [
        "## distMatrix"
      ]
    },
    {
      "cell_type": "code",
      "execution_count": 29,
      "metadata": {
        "id": "Izrs0fCiExet"
      },
      "outputs": [],
      "source": [
        "def distance_matrix(a,b):\n",
        "  \n",
        "  res = np.zeros((len(a),len(b)))\n",
        "  n=0\n",
        "  for i in a.values:\n",
        "    m=0\n",
        "    for j in b.values:\n",
        "      res[n][m] = np.linalg.norm(i - j)\n",
        "      m+=1\n",
        "    n +=1\n",
        "  return res"
      ]
    },
    {
      "cell_type": "code",
      "execution_count": 30,
      "metadata": {
        "colab": {
          "base_uri": "https://localhost:8080/"
        },
        "id": "gioCobgifWeC",
        "outputId": "6bccffe6-2f8e-4e08-f271-1c992d0337ea"
      },
      "outputs": [
        {
          "name": "stdout",
          "output_type": "stream",
          "text": [
            "[[1.22727267 1.99527601 1.73733885 ... 2.63978464 2.81418132 1.80558107]\n",
            " [0.82455279 3.29776509 0.46653257 ... 1.93747879 1.57873734 2.77355874]\n",
            " [2.19137366 3.00673096 3.40855072 ... 2.39435404 4.43859711 1.1393118 ]\n",
            " ...\n",
            " [2.77800709 4.88465967 1.56084794 ... 3.35196787 0.72157475 4.74157643]\n",
            " [0.41796533 3.4278192  0.87935916 ... 1.35742924 1.87284138 2.55747081]\n",
            " [1.65827409 4.32626943 2.4962202  ... 0.53371586 3.17860834 2.75884207]]\n"
          ]
        }
      ],
      "source": [
        "print(distance_matrix(county_loc_ds,station_loc_ds))"
      ]
    },
    {
      "cell_type": "code",
      "execution_count": 31,
      "metadata": {},
      "outputs": [
        {
          "name": "stdout",
          "output_type": "stream",
          "text": [
            "[[1.22727267 1.99527601 1.73733885 ... 2.63978464 2.81418132 1.80558107]\n",
            " [0.82455279 3.29776509 0.46653257 ... 1.93747879 1.57873734 2.77355874]\n",
            " [2.19137366 3.00673096 3.40855072 ... 2.39435404 4.43859711 1.1393118 ]\n",
            " ...\n",
            " [2.77800709 4.88465967 1.56084794 ... 3.35196787 0.72157475 4.74157643]\n",
            " [0.41796533 3.4278192  0.87935916 ... 1.35742924 1.87284138 2.55747081]\n",
            " [1.65827409 4.32626943 2.4962202  ... 0.53371586 3.17860834 2.75884207]]\n"
          ]
        }
      ],
      "source": [
        "print(distance_matrix(county_loc_ds,station_loc_ds))"
      ]
    },
    {
      "cell_type": "code",
      "execution_count": 32,
      "metadata": {
        "id": "ybrhDPh2Uj76"
      },
      "outputs": [],
      "source": [
        "def find_closest_n(a,b,a_cols,b_cols,n=2):\n",
        "  mat=distance_matrix(a,b)\n",
        "  #df = pd.DataFrame(mat,columns=b_cols)\n",
        "  #index_m = np.zeros((len(a_cols),2))\n",
        "  res = pd.DataFrame(index=range(len(a_cols)),columns=range(n))\n",
        "  for i in range(len(mat)):\n",
        "    for d in range(n):\n",
        "      tempmat = mat[i]\n",
        "      res[d][i] =b_cols[np.where(tempmat == np.min(tempmat))[0]].values[0]\n",
        "      tempmat[np.where(tempmat == np.min(tempmat))[0]] = np.Inf\n",
        "      #print(b_cols[np.where(tempmat == np.min(tempmat))[0]].values)\n",
        "      #res[d][i] =np.where(tempmat == np.min(tempmat))[0]\n",
        "  df = pd.concat([a_cols,res],axis = 1)\n",
        "  return df"
      ]
    },
    {
      "cell_type": "code",
      "execution_count": 33,
      "metadata": {
        "colab": {
          "base_uri": "https://localhost:8080/",
          "height": 35
        },
        "id": "roldUxADc8Hd",
        "outputId": "a7ae15a9-74f4-4e0d-e6c6-12ef652c4d79"
      },
      "outputs": [
        {
          "data": {
            "text/plain": [
              "'72747'"
            ]
          },
          "execution_count": 33,
          "metadata": {},
          "output_type": "execute_result"
        }
      ],
      "source": [
        "station_ds[station_ds.columns[0]][1]"
      ]
    },
    {
      "cell_type": "code",
      "execution_count": 53,
      "metadata": {
        "colab": {
          "base_uri": "https://localhost:8080/"
        },
        "id": "2sRCkb2AWyho",
        "outputId": "2d690669-1350-4e2f-ec8e-44318fe25b9d"
      },
      "outputs": [
        {
          "data": {
            "text/plain": [
              "0     72655\n",
              "1     72747\n",
              "2     72658\n",
              "3     72745\n",
              "4     KAXN0\n",
              "      ...  \n",
              "92    X9FED\n",
              "93    9NRIJ\n",
              "94    Z7ZOG\n",
              "95    72644\n",
              "96    72755\n",
              "Name: Code, Length: 97, dtype: object"
            ]
          },
          "execution_count": 53,
          "metadata": {},
          "output_type": "execute_result"
        }
      ],
      "source": [
        "station_ds[station_ds.columns[0]]"
      ]
    },
    {
      "cell_type": "code",
      "execution_count": 36,
      "metadata": {
        "colab": {
          "base_uri": "https://localhost:8080/",
          "height": 424
        },
        "id": "VoO0wRehTF08",
        "outputId": "5229824c-1ad5-459e-db90-98465d7d33eb"
      },
      "outputs": [
        {
          "data": {
            "text/html": [
              "<div>\n",
              "<style scoped>\n",
              "    .dataframe tbody tr th:only-of-type {\n",
              "        vertical-align: middle;\n",
              "    }\n",
              "\n",
              "    .dataframe tbody tr th {\n",
              "        vertical-align: top;\n",
              "    }\n",
              "\n",
              "    .dataframe thead th {\n",
              "        text-align: right;\n",
              "    }\n",
              "</style>\n",
              "<table border=\"1\" class=\"dataframe\">\n",
              "  <thead>\n",
              "    <tr style=\"text-align: right;\">\n",
              "      <th></th>\n",
              "      <th>county_name</th>\n",
              "      <th>capital_name</th>\n",
              "      <th>county_latitude</th>\n",
              "      <th>county_longitude</th>\n",
              "      <th>county_abbr</th>\n",
              "    </tr>\n",
              "  </thead>\n",
              "  <tbody>\n",
              "    <tr>\n",
              "      <th>0</th>\n",
              "      <td>Aitkin County</td>\n",
              "      <td>Aitkin</td>\n",
              "      <td>46.571482</td>\n",
              "      <td>-93.384760</td>\n",
              "      <td>AITKIN</td>\n",
              "    </tr>\n",
              "    <tr>\n",
              "      <th>1</th>\n",
              "      <td>Anoka County</td>\n",
              "      <td>Anoka</td>\n",
              "      <td>45.271020</td>\n",
              "      <td>-93.282763</td>\n",
              "      <td>ANOKA</td>\n",
              "    </tr>\n",
              "    <tr>\n",
              "      <th>2</th>\n",
              "      <td>Becker County</td>\n",
              "      <td>Detroit Lakes</td>\n",
              "      <td>46.817181</td>\n",
              "      <td>-95.845325</td>\n",
              "      <td>BECKER</td>\n",
              "    </tr>\n",
              "    <tr>\n",
              "      <th>3</th>\n",
              "      <td>Beltrami County</td>\n",
              "      <td>Bemidji</td>\n",
              "      <td>47.478542</td>\n",
              "      <td>-94.890787</td>\n",
              "      <td>BELTRAMI</td>\n",
              "    </tr>\n",
              "    <tr>\n",
              "      <th>4</th>\n",
              "      <td>Benton County</td>\n",
              "      <td>Foley</td>\n",
              "      <td>45.663512</td>\n",
              "      <td>-93.913728</td>\n",
              "      <td>BENTON</td>\n",
              "    </tr>\n",
              "    <tr>\n",
              "      <th>...</th>\n",
              "      <td>...</td>\n",
              "      <td>...</td>\n",
              "      <td>...</td>\n",
              "      <td>...</td>\n",
              "      <td>...</td>\n",
              "    </tr>\n",
              "    <tr>\n",
              "      <th>82</th>\n",
              "      <td>Watonwan County</td>\n",
              "      <td>St. James</td>\n",
              "      <td>43.982458</td>\n",
              "      <td>-94.626918</td>\n",
              "      <td>WATONWAN</td>\n",
              "    </tr>\n",
              "    <tr>\n",
              "      <th>83</th>\n",
              "      <td>Wilkin County</td>\n",
              "      <td>Breckenridge</td>\n",
              "      <td>46.265205</td>\n",
              "      <td>-96.581626</td>\n",
              "      <td>WILKIN</td>\n",
              "    </tr>\n",
              "    <tr>\n",
              "      <th>84</th>\n",
              "      <td>Winona County</td>\n",
              "      <td>Winona</td>\n",
              "      <td>43.958227</td>\n",
              "      <td>-91.780778</td>\n",
              "      <td>WINONA</td>\n",
              "    </tr>\n",
              "    <tr>\n",
              "      <th>85</th>\n",
              "      <td>Wright County</td>\n",
              "      <td>Buffalo</td>\n",
              "      <td>45.171908</td>\n",
              "      <td>-93.874694</td>\n",
              "      <td>WRIGHT</td>\n",
              "    </tr>\n",
              "    <tr>\n",
              "      <th>86</th>\n",
              "      <td>Yellow Medicine County</td>\n",
              "      <td>Granite Falls</td>\n",
              "      <td>44.809958</td>\n",
              "      <td>-95.545575</td>\n",
              "      <td>YELLOW MEDICINE</td>\n",
              "    </tr>\n",
              "  </tbody>\n",
              "</table>\n",
              "<p>87 rows × 5 columns</p>\n",
              "</div>"
            ],
            "text/plain": [
              "               county_name   capital_name  county_latitude  county_longitude  \\\n",
              "0            Aitkin County         Aitkin        46.571482        -93.384760   \n",
              "1             Anoka County          Anoka        45.271020        -93.282763   \n",
              "2            Becker County  Detroit Lakes        46.817181        -95.845325   \n",
              "3          Beltrami County        Bemidji        47.478542        -94.890787   \n",
              "4            Benton County          Foley        45.663512        -93.913728   \n",
              "..                     ...            ...              ...               ...   \n",
              "82         Watonwan County      St. James        43.982458        -94.626918   \n",
              "83           Wilkin County   Breckenridge        46.265205        -96.581626   \n",
              "84           Winona County         Winona        43.958227        -91.780778   \n",
              "85           Wright County        Buffalo        45.171908        -93.874694   \n",
              "86  Yellow Medicine County  Granite Falls        44.809958        -95.545575   \n",
              "\n",
              "        county_abbr  \n",
              "0            AITKIN  \n",
              "1             ANOKA  \n",
              "2            BECKER  \n",
              "3          BELTRAMI  \n",
              "4            BENTON  \n",
              "..              ...  \n",
              "82         WATONWAN  \n",
              "83           WILKIN  \n",
              "84           WINONA  \n",
              "85           WRIGHT  \n",
              "86  YELLOW MEDICINE  \n",
              "\n",
              "[87 rows x 5 columns]"
            ]
          },
          "execution_count": 36,
          "metadata": {},
          "output_type": "execute_result"
        }
      ],
      "source": [
        "county_ds_abbr = county_ds.assign(county_abbr = lambda x: x['county_name'])\n",
        "#county_ds_abbr['county_abbr'] = [ s.replace('Lac qui Parle County','Lac Qui Parle County')  for s in county_ds_abbr['county_abbr']]\n",
        "#county_abbr_mod['CTY_NAME'] = [s.replace('St.', 'Saint') + ' County' for s in county_abbr['CTY_NAME']]\n",
        "county_ds_abbr['county_abbr'] = [ s.replace(' County','').replace('Saint','St.').upper() for s in county_ds_abbr['county_abbr']]\n",
        "#s = [item.capitalize() for item in s]\n",
        "county_ds_abbr"
      ]
    },
    {
      "cell_type": "code",
      "execution_count": 37,
      "metadata": {
        "id": "Jj8hpYcxgLSt"
      },
      "outputs": [
        {
          "ename": "NameError",
          "evalue": "name 'county_abbr_mod' is not defined",
          "output_type": "error",
          "traceback": [
            "\u001b[1;31m---------------------------------------------------------------------------\u001b[0m",
            "\u001b[1;31mNameError\u001b[0m                                 Traceback (most recent call last)",
            "\u001b[1;32mc:\\Users\\XY\\Desktop\\QuantCh 2023\\84\\QuantCh\\JOebiden.ipynb Cell 55\u001b[0m in \u001b[0;36m<cell line: 1>\u001b[1;34m()\u001b[0m\n\u001b[0;32m      <a href='vscode-notebook-cell:/c%3A/Users/XY/Desktop/QuantCh%202023/84/QuantCh/JOebiden.ipynb#Y111sZmlsZQ%3D%3D?line=0'>1</a>\u001b[0m \u001b[39mfor\u001b[39;00m i \u001b[39min\u001b[39;00m county_ds[county_ds\u001b[39m.\u001b[39mcolumns[\u001b[39m0\u001b[39m]]:\n\u001b[1;32m----> <a href='vscode-notebook-cell:/c%3A/Users/XY/Desktop/QuantCh%202023/84/QuantCh/JOebiden.ipynb#Y111sZmlsZQ%3D%3D?line=1'>2</a>\u001b[0m   county_abbr_mod[county_abbr_mod[\u001b[39m'\u001b[39m\u001b[39mCTY_NAME\u001b[39m\u001b[39m'\u001b[39m]\u001b[39m==\u001b[39mi][\u001b[39m'\u001b[39m\u001b[39mCTY_ABBR\u001b[39m\u001b[39m'\u001b[39m]\n",
            "\u001b[1;31mNameError\u001b[0m: name 'county_abbr_mod' is not defined"
          ]
        }
      ],
      "source": [
        "for i in county_ds[county_ds.columns[0]]:\n",
        "  county_abbr_mod[county_abbr_mod['CTY_NAME']==i]['CTY_ABBR']"
      ]
    },
    {
      "cell_type": "code",
      "execution_count": 38,
      "metadata": {
        "colab": {
          "base_uri": "https://localhost:8080/"
        },
        "id": "OTOMDcciJ7vt",
        "outputId": "1276d4d2-ff00-4099-c7f4-f160ba8b8933"
      },
      "outputs": [
        {
          "data": {
            "text/plain": [
              "Int64Index([68], dtype='int64')"
            ]
          },
          "execution_count": 38,
          "metadata": {},
          "output_type": "execute_result"
        }
      ],
      "source": [
        "county_ds[county_ds[county_ds.columns[0]] == 'Saint Louis County'].index"
      ]
    },
    {
      "cell_type": "code",
      "execution_count": 39,
      "metadata": {
        "id": "fIq5vteRhUgs"
      },
      "outputs": [],
      "source": [
        "ds = find_closest_n(county_loc_ds,station_loc_ds,county_ds_abbr[county_ds_abbr.columns[-1]],station_ds[station_ds.columns[0]])"
      ]
    },
    {
      "cell_type": "code",
      "execution_count": 40,
      "metadata": {
        "colab": {
          "base_uri": "https://localhost:8080/",
          "height": 424
        },
        "id": "V9tPQ5MRjh5z",
        "outputId": "97a28899-fb50-44ae-8278-d6bbd91aee42"
      },
      "outputs": [
        {
          "data": {
            "text/html": [
              "<div>\n",
              "<style scoped>\n",
              "    .dataframe tbody tr th:only-of-type {\n",
              "        vertical-align: middle;\n",
              "    }\n",
              "\n",
              "    .dataframe tbody tr th {\n",
              "        vertical-align: top;\n",
              "    }\n",
              "\n",
              "    .dataframe thead th {\n",
              "        text-align: right;\n",
              "    }\n",
              "</style>\n",
              "<table border=\"1\" class=\"dataframe\">\n",
              "  <thead>\n",
              "    <tr style=\"text-align: right;\">\n",
              "      <th></th>\n",
              "      <th>county_abbr</th>\n",
              "      <th>0</th>\n",
              "      <th>1</th>\n",
              "    </tr>\n",
              "  </thead>\n",
              "  <tbody>\n",
              "    <tr>\n",
              "      <th>0</th>\n",
              "      <td>AITKIN</td>\n",
              "      <td>KHZX0</td>\n",
              "      <td>KAIT0</td>\n",
              "    </tr>\n",
              "    <tr>\n",
              "      <th>1</th>\n",
              "      <td>ANOKA</td>\n",
              "      <td>9NRIJ</td>\n",
              "      <td>KMIC0</td>\n",
              "    </tr>\n",
              "    <tr>\n",
              "      <th>2</th>\n",
              "      <td>BECKER</td>\n",
              "      <td>KDTL0</td>\n",
              "      <td>KFFM0</td>\n",
              "    </tr>\n",
              "    <tr>\n",
              "      <th>3</th>\n",
              "      <td>BELTRAMI</td>\n",
              "      <td>72755</td>\n",
              "      <td>KY490</td>\n",
              "    </tr>\n",
              "    <tr>\n",
              "      <th>4</th>\n",
              "      <td>BENTON</td>\n",
              "      <td>72655</td>\n",
              "      <td>KPNM0</td>\n",
              "    </tr>\n",
              "    <tr>\n",
              "      <th>...</th>\n",
              "      <td>...</td>\n",
              "      <td>...</td>\n",
              "      <td>...</td>\n",
              "    </tr>\n",
              "    <tr>\n",
              "      <th>82</th>\n",
              "      <td>WATONWAN</td>\n",
              "      <td>KJYG0</td>\n",
              "      <td>KULM0</td>\n",
              "    </tr>\n",
              "    <tr>\n",
              "      <th>83</th>\n",
              "      <td>WILKIN</td>\n",
              "      <td>KFFM0</td>\n",
              "      <td>KETH0</td>\n",
              "    </tr>\n",
              "    <tr>\n",
              "      <th>84</th>\n",
              "      <td>WINONA</td>\n",
              "      <td>KONA0</td>\n",
              "      <td>KFKA0</td>\n",
              "    </tr>\n",
              "    <tr>\n",
              "      <th>85</th>\n",
              "      <td>WRIGHT</td>\n",
              "      <td>KCFE0</td>\n",
              "      <td>KMGG0</td>\n",
              "    </tr>\n",
              "    <tr>\n",
              "      <th>86</th>\n",
              "      <td>YELLOW MEDICINE</td>\n",
              "      <td>KGDB0</td>\n",
              "      <td>KMVE0</td>\n",
              "    </tr>\n",
              "  </tbody>\n",
              "</table>\n",
              "<p>87 rows × 3 columns</p>\n",
              "</div>"
            ],
            "text/plain": [
              "        county_abbr      0      1\n",
              "0            AITKIN  KHZX0  KAIT0\n",
              "1             ANOKA  9NRIJ  KMIC0\n",
              "2            BECKER  KDTL0  KFFM0\n",
              "3          BELTRAMI  72755  KY490\n",
              "4            BENTON  72655  KPNM0\n",
              "..              ...    ...    ...\n",
              "82         WATONWAN  KJYG0  KULM0\n",
              "83           WILKIN  KFFM0  KETH0\n",
              "84           WINONA  KONA0  KFKA0\n",
              "85           WRIGHT  KCFE0  KMGG0\n",
              "86  YELLOW MEDICINE  KGDB0  KMVE0\n",
              "\n",
              "[87 rows x 3 columns]"
            ]
          },
          "execution_count": 40,
          "metadata": {},
          "output_type": "execute_result"
        }
      ],
      "source": [
        "ds"
      ]
    },
    {
      "cell_type": "code",
      "execution_count": 41,
      "metadata": {
        "colab": {
          "base_uri": "https://localhost:8080/",
          "height": 424
        },
        "id": "boTBVx07jHAl",
        "outputId": "acaca800-cbb5-45d9-d906-472bcb3d8796"
      },
      "outputs": [
        {
          "data": {
            "text/html": [
              "<div>\n",
              "<style scoped>\n",
              "    .dataframe tbody tr th:only-of-type {\n",
              "        vertical-align: middle;\n",
              "    }\n",
              "\n",
              "    .dataframe tbody tr th {\n",
              "        vertical-align: top;\n",
              "    }\n",
              "\n",
              "    .dataframe thead th {\n",
              "        text-align: right;\n",
              "    }\n",
              "</style>\n",
              "<table border=\"1\" class=\"dataframe\">\n",
              "  <thead>\n",
              "    <tr style=\"text-align: right;\">\n",
              "      <th></th>\n",
              "      <th>date</th>\n",
              "      <th>tavg</th>\n",
              "      <th>tmin</th>\n",
              "      <th>tmax</th>\n",
              "      <th>prcp</th>\n",
              "    </tr>\n",
              "  </thead>\n",
              "  <tbody>\n",
              "    <tr>\n",
              "      <th>0</th>\n",
              "      <td>2006-01-01</td>\n",
              "      <td>-4.3</td>\n",
              "      <td>-12.0</td>\n",
              "      <td>0.0</td>\n",
              "      <td>NaN</td>\n",
              "    </tr>\n",
              "    <tr>\n",
              "      <th>1</th>\n",
              "      <td>2006-01-02</td>\n",
              "      <td>-0.4</td>\n",
              "      <td>-1.0</td>\n",
              "      <td>0.0</td>\n",
              "      <td>NaN</td>\n",
              "    </tr>\n",
              "    <tr>\n",
              "      <th>2</th>\n",
              "      <td>2006-01-03</td>\n",
              "      <td>0.3</td>\n",
              "      <td>0.0</td>\n",
              "      <td>1.0</td>\n",
              "      <td>NaN</td>\n",
              "    </tr>\n",
              "    <tr>\n",
              "      <th>3</th>\n",
              "      <td>2006-01-04</td>\n",
              "      <td>-0.4</td>\n",
              "      <td>-2.0</td>\n",
              "      <td>0.0</td>\n",
              "      <td>NaN</td>\n",
              "    </tr>\n",
              "    <tr>\n",
              "      <th>4</th>\n",
              "      <td>2006-01-05</td>\n",
              "      <td>-2.0</td>\n",
              "      <td>-3.0</td>\n",
              "      <td>-1.0</td>\n",
              "      <td>NaN</td>\n",
              "    </tr>\n",
              "    <tr>\n",
              "      <th>...</th>\n",
              "      <td>...</td>\n",
              "      <td>...</td>\n",
              "      <td>...</td>\n",
              "      <td>...</td>\n",
              "      <td>...</td>\n",
              "    </tr>\n",
              "    <tr>\n",
              "      <th>4829</th>\n",
              "      <td>2022-06-13</td>\n",
              "      <td>16.0</td>\n",
              "      <td>12.0</td>\n",
              "      <td>23.0</td>\n",
              "      <td>21.6</td>\n",
              "    </tr>\n",
              "    <tr>\n",
              "      <th>4830</th>\n",
              "      <td>2022-06-14</td>\n",
              "      <td>22.0</td>\n",
              "      <td>11.0</td>\n",
              "      <td>32.0</td>\n",
              "      <td>0.0</td>\n",
              "    </tr>\n",
              "    <tr>\n",
              "      <th>4831</th>\n",
              "      <td>2022-06-15</td>\n",
              "      <td>20.5</td>\n",
              "      <td>17.0</td>\n",
              "      <td>25.0</td>\n",
              "      <td>11.8</td>\n",
              "    </tr>\n",
              "    <tr>\n",
              "      <th>4832</th>\n",
              "      <td>2022-06-16</td>\n",
              "      <td>19.3</td>\n",
              "      <td>16.4</td>\n",
              "      <td>21.5</td>\n",
              "      <td>0.2</td>\n",
              "    </tr>\n",
              "    <tr>\n",
              "      <th>4833</th>\n",
              "      <td>2022-06-17</td>\n",
              "      <td>18.5</td>\n",
              "      <td>13.8</td>\n",
              "      <td>23.3</td>\n",
              "      <td>0.0</td>\n",
              "    </tr>\n",
              "  </tbody>\n",
              "</table>\n",
              "<p>4834 rows × 5 columns</p>\n",
              "</div>"
            ],
            "text/plain": [
              "            date  tavg  tmin  tmax  prcp\n",
              "0     2006-01-01  -4.3 -12.0   0.0   NaN\n",
              "1     2006-01-02  -0.4  -1.0   0.0   NaN\n",
              "2     2006-01-03   0.3   0.0   1.0   NaN\n",
              "3     2006-01-04  -0.4  -2.0   0.0   NaN\n",
              "4     2006-01-05  -2.0  -3.0  -1.0   NaN\n",
              "...          ...   ...   ...   ...   ...\n",
              "4829  2022-06-13  16.0  12.0  23.0  21.6\n",
              "4830  2022-06-14  22.0  11.0  32.0   0.0\n",
              "4831  2022-06-15  20.5  17.0  25.0  11.8\n",
              "4832  2022-06-16  19.3  16.4  21.5   0.2\n",
              "4833  2022-06-17  18.5  13.8  23.3   0.0\n",
              "\n",
              "[4834 rows x 5 columns]"
            ]
          },
          "execution_count": 41,
          "metadata": {},
          "output_type": "execute_result"
        }
      ],
      "source": [
        "station_dict[ds[0][0]]"
      ]
    },
    {
      "attachments": {},
      "cell_type": "markdown",
      "metadata": {
        "id": "zNi0bNyrkE0T"
      },
      "source": [
        "# Imputálás\n"
      ]
    },
    {
      "attachments": {},
      "cell_type": "markdown",
      "metadata": {
        "id": "An-VSsaxUMjn"
      },
      "source": [
        "## gigadf"
      ]
    },
    {
      "cell_type": "markdown",
      "metadata": {
        "id": "WpmsV1m10llz"
      },
      "source": [
        "Ennek a résznek az a lényege hogy egy mergelt ds-t csináljunk amiben az összes adatra rá tud trainelni és nem csak egyféle ds-en dolgozik hanem egyszerre az összesen"
      ]
    },
    {
      "cell_type": "code",
      "execution_count": 65,
      "metadata": {
        "colab": {
          "base_uri": "https://localhost:8080/"
        },
        "id": "VNfn2S9sVquN",
        "outputId": "6a29abf3-ec5d-4c7b-c05b-bb148710f924"
      },
      "outputs": [
        {
          "data": {
            "text/plain": [
              "Index(['date', 'tavg', 'tmin', 'tmax', 'prcp'], dtype='object')"
            ]
          },
          "execution_count": 65,
          "metadata": {},
          "output_type": "execute_result"
        }
      ],
      "source": [
        "station_dict['72655'].columns"
      ]
    },
    {
      "cell_type": "code",
      "execution_count": 66,
      "metadata": {
        "id": "hcpRHIOYUJxI"
      },
      "outputs": [],
      "source": [
        "gigadf = pd.DataFrame(columns=station_dict['72655'].columns)"
      ]
    },
    {
      "cell_type": "code",
      "execution_count": 67,
      "metadata": {
        "id": "-j9MQOs4U5Tm"
      },
      "outputs": [],
      "source": [
        "for i in station_dict:\n",
        "  gigadf = pd.concat([gigadf,station_dict[i]],ignore_index=True)"
      ]
    },
    {
      "cell_type": "markdown",
      "metadata": {
        "id": "EqED4DvFW33i"
      },
      "source": [
        "Ignore indexes :\n",
        "False 1317972 **<**1976958 True"
      ]
    },
    {
      "cell_type": "code",
      "execution_count": 68,
      "metadata": {
        "id": "Y_1DD6wXV1UG"
      },
      "outputs": [],
      "source": [
        "gigadf['date'] = pd.to_datetime(gigadf['date'])\n",
        "  #station_dict[name]=station_dict[name].set_index('date')"
      ]
    },
    {
      "cell_type": "code",
      "execution_count": 69,
      "metadata": {
        "id": "rVOO_wVpzaQ8"
      },
      "outputs": [],
      "source": [
        "gigadf['year'] = pd.to_datetime(gigadf['date']).dt.year\n",
        "gigadf['month'] = pd.to_datetime(gigadf['date']).dt.month\n",
        "gigadf['day'] = pd.to_datetime(gigadf['date']).dt.day\n"
      ]
    },
    {
      "cell_type": "code",
      "execution_count": null,
      "metadata": {
        "colab": {
          "base_uri": "https://localhost:8080/",
          "height": 424
        },
        "id": "RGj-uN8tzDTg",
        "outputId": "18aa43d3-b264-4852-de44-60dffb168f63"
      },
      "outputs": [],
      "source": [
        "gigadf"
      ]
    },
    {
      "cell_type": "code",
      "execution_count": 47,
      "metadata": {
        "id": "UYSiIUHjXT9l"
      },
      "outputs": [
        {
          "ename": "KeyError",
          "evalue": "\"['year', 'month', 'day'] not in index\"",
          "output_type": "error",
          "traceback": [
            "\u001b[1;31m---------------------------------------------------------------------------\u001b[0m",
            "\u001b[1;31mKeyError\u001b[0m                                  Traceback (most recent call last)",
            "\u001b[1;32mc:\\Users\\XY\\Desktop\\QuantCh 2023\\84\\QuantCh\\JOebiden.ipynb Cell 70\u001b[0m in \u001b[0;36m<cell line: 1>\u001b[1;34m()\u001b[0m\n\u001b[1;32m----> <a href='vscode-notebook-cell:/c%3A/Users/XY/Desktop/QuantCh%202023/84/QuantCh/JOebiden.ipynb#Y132sZmlsZQ%3D%3D?line=0'>1</a>\u001b[0m gigadf_vals \u001b[39m=\u001b[39m gigadf[[\u001b[39m'\u001b[39;49m\u001b[39mtavg\u001b[39;49m\u001b[39m'\u001b[39;49m, \u001b[39m'\u001b[39;49m\u001b[39mtmin\u001b[39;49m\u001b[39m'\u001b[39;49m, \u001b[39m'\u001b[39;49m\u001b[39mtmax\u001b[39;49m\u001b[39m'\u001b[39;49m, \u001b[39m'\u001b[39;49m\u001b[39mprcp\u001b[39;49m\u001b[39m'\u001b[39;49m,\u001b[39m'\u001b[39;49m\u001b[39myear\u001b[39;49m\u001b[39m'\u001b[39;49m,\u001b[39m'\u001b[39;49m\u001b[39mmonth\u001b[39;49m\u001b[39m'\u001b[39;49m,\u001b[39m'\u001b[39;49m\u001b[39mday\u001b[39;49m\u001b[39m'\u001b[39;49m]]\n",
            "File \u001b[1;32mc:\\Users\\XY\\AppData\\Local\\Programs\\Python\\Python310\\lib\\site-packages\\pandas\\core\\frame.py:3511\u001b[0m, in \u001b[0;36mDataFrame.__getitem__\u001b[1;34m(self, key)\u001b[0m\n\u001b[0;32m   3509\u001b[0m     \u001b[39mif\u001b[39;00m is_iterator(key):\n\u001b[0;32m   3510\u001b[0m         key \u001b[39m=\u001b[39m \u001b[39mlist\u001b[39m(key)\n\u001b[1;32m-> 3511\u001b[0m     indexer \u001b[39m=\u001b[39m \u001b[39mself\u001b[39;49m\u001b[39m.\u001b[39;49mcolumns\u001b[39m.\u001b[39;49m_get_indexer_strict(key, \u001b[39m\"\u001b[39;49m\u001b[39mcolumns\u001b[39;49m\u001b[39m\"\u001b[39;49m)[\u001b[39m1\u001b[39m]\n\u001b[0;32m   3513\u001b[0m \u001b[39m# take() does not accept boolean indexers\u001b[39;00m\n\u001b[0;32m   3514\u001b[0m \u001b[39mif\u001b[39;00m \u001b[39mgetattr\u001b[39m(indexer, \u001b[39m\"\u001b[39m\u001b[39mdtype\u001b[39m\u001b[39m\"\u001b[39m, \u001b[39mNone\u001b[39;00m) \u001b[39m==\u001b[39m \u001b[39mbool\u001b[39m:\n",
            "File \u001b[1;32mc:\\Users\\XY\\AppData\\Local\\Programs\\Python\\Python310\\lib\\site-packages\\pandas\\core\\indexes\\base.py:5782\u001b[0m, in \u001b[0;36mIndex._get_indexer_strict\u001b[1;34m(self, key, axis_name)\u001b[0m\n\u001b[0;32m   5779\u001b[0m \u001b[39melse\u001b[39;00m:\n\u001b[0;32m   5780\u001b[0m     keyarr, indexer, new_indexer \u001b[39m=\u001b[39m \u001b[39mself\u001b[39m\u001b[39m.\u001b[39m_reindex_non_unique(keyarr)\n\u001b[1;32m-> 5782\u001b[0m \u001b[39mself\u001b[39;49m\u001b[39m.\u001b[39;49m_raise_if_missing(keyarr, indexer, axis_name)\n\u001b[0;32m   5784\u001b[0m keyarr \u001b[39m=\u001b[39m \u001b[39mself\u001b[39m\u001b[39m.\u001b[39mtake(indexer)\n\u001b[0;32m   5785\u001b[0m \u001b[39mif\u001b[39;00m \u001b[39misinstance\u001b[39m(key, Index):\n\u001b[0;32m   5786\u001b[0m     \u001b[39m# GH 42790 - Preserve name from an Index\u001b[39;00m\n",
            "File \u001b[1;32mc:\\Users\\XY\\AppData\\Local\\Programs\\Python\\Python310\\lib\\site-packages\\pandas\\core\\indexes\\base.py:5845\u001b[0m, in \u001b[0;36mIndex._raise_if_missing\u001b[1;34m(self, key, indexer, axis_name)\u001b[0m\n\u001b[0;32m   5842\u001b[0m     \u001b[39mraise\u001b[39;00m \u001b[39mKeyError\u001b[39;00m(\u001b[39mf\u001b[39m\u001b[39m\"\u001b[39m\u001b[39mNone of [\u001b[39m\u001b[39m{\u001b[39;00mkey\u001b[39m}\u001b[39;00m\u001b[39m] are in the [\u001b[39m\u001b[39m{\u001b[39;00maxis_name\u001b[39m}\u001b[39;00m\u001b[39m]\u001b[39m\u001b[39m\"\u001b[39m)\n\u001b[0;32m   5844\u001b[0m not_found \u001b[39m=\u001b[39m \u001b[39mlist\u001b[39m(ensure_index(key)[missing_mask\u001b[39m.\u001b[39mnonzero()[\u001b[39m0\u001b[39m]]\u001b[39m.\u001b[39munique())\n\u001b[1;32m-> 5845\u001b[0m \u001b[39mraise\u001b[39;00m \u001b[39mKeyError\u001b[39;00m(\u001b[39mf\u001b[39m\u001b[39m\"\u001b[39m\u001b[39m{\u001b[39;00mnot_found\u001b[39m}\u001b[39;00m\u001b[39m not in index\u001b[39m\u001b[39m\"\u001b[39m)\n",
            "\u001b[1;31mKeyError\u001b[0m: \"['year', 'month', 'day'] not in index\""
          ]
        }
      ],
      "source": [
        "gigadf_vals = gigadf[['tavg', 'tmin', 'tmax', 'prcp','year','month','day']]"
      ]
    },
    {
      "cell_type": "markdown",
      "metadata": {
        "id": "9oYzAEEiBQwD"
      },
      "source": []
    },
    {
      "attachments": {},
      "cell_type": "markdown",
      "metadata": {},
      "source": [
        "## extended gigadf"
      ]
    },
    {
      "attachments": {},
      "cell_type": "markdown",
      "metadata": {},
      "source": [
        "The main idea is to use all available data to impute weatherdata to a certain extent"
      ]
    },
    {
      "cell_type": "code",
      "execution_count": null,
      "metadata": {},
      "outputs": [],
      "source": []
    },
    {
      "cell_type": "code",
      "execution_count": 48,
      "metadata": {},
      "outputs": [],
      "source": [
        "gigadf = pd.DataFrame(columns=station_dict['72655'].columns)\n",
        "for i in station_dict:\n",
        "  gigadf = pd.concat([gigadf,station_dict[i].dropna()],ignore_index=True)\n",
        "for i in target_dict:\n",
        "  gigadf = pd.concat([gigadf,target_dict[i].dropna()],ignore_index=True)\n",
        "gigadf['date'] = pd.to_datetime(gigadf['date'])\n",
        "gigadf['year'] = pd.to_datetime(gigadf['date']).dt.year\n",
        "gigadf['month'] = pd.to_datetime(gigadf['date']).dt.month\n",
        "gigadf['day'] = pd.to_datetime(gigadf['date']).dt.day\n",
        "gigadf_vals = gigadf[['tavg', 'tmin', 'tmax', 'prcp','year','month','day']]"
      ]
    },
    {
      "cell_type": "code",
      "execution_count": 43,
      "metadata": {},
      "outputs": [
        {
          "data": {
            "text/plain": [
              "3608325"
            ]
          },
          "execution_count": 43,
          "metadata": {},
          "output_type": "execute_result"
        }
      ],
      "source": [
        "gigadf.size"
      ]
    },
    {
      "attachments": {},
      "cell_type": "markdown",
      "metadata": {
        "id": "jjc-zOyB_6-J"
      },
      "source": [
        "## SimpleImputer"
      ]
    },
    {
      "cell_type": "code",
      "execution_count": 75,
      "metadata": {
        "id": "98AlLFw45BGS"
      },
      "outputs": [],
      "source": [
        "from sklearn.impute import SimpleImputer"
      ]
    },
    {
      "cell_type": "code",
      "execution_count": 76,
      "metadata": {
        "id": "epcOXwhL5N4k"
      },
      "outputs": [],
      "source": [
        "imputer = SimpleImputer(strategy='mean',missing_values=np.nan)"
      ]
    },
    {
      "cell_type": "code",
      "execution_count": 77,
      "metadata": {
        "id": "4TBofGnj5Nym"
      },
      "outputs": [],
      "source": [
        "imputer = SimpleImputer(strategy='median',missing_values=np.nan)"
      ]
    },
    {
      "cell_type": "code",
      "execution_count": 78,
      "metadata": {
        "id": "P24XZ6M35XNh"
      },
      "outputs": [],
      "source": [
        "imputer = SimpleImputer(strategy='most_frequent',missing_values=np.nan)"
      ]
    },
    {
      "cell_type": "code",
      "execution_count": null,
      "metadata": {
        "id": "XzamT0By5Npe"
      },
      "outputs": [],
      "source": [
        "imputer = SimpleImputer(strategy='constant',missing_values=np.nan)"
      ]
    },
    {
      "cell_type": "markdown",
      "metadata": {
        "id": "UleTZYZH9HD2"
      },
      "source": [
        "Goes trough all data and imputes it in a simple way"
      ]
    },
    {
      "cell_type": "code",
      "execution_count": null,
      "metadata": {
        "id": "rHIv_rLn0A7m"
      },
      "outputs": [],
      "source": [
        "station_dict_imp = {}\n",
        "for i in station_dict:\n",
        "  curr_df = station_dict[i].copy(deep=True)\n",
        "  for c in curr_df.columns:\n",
        "    if( c != 'date'):\n",
        "      curr_df[c] = imputer.fit_transform(curr_df[c].values.reshape(-1,1))\n",
        "  station_dict_imp[i] = curr_df "
      ]
    },
    {
      "cell_type": "code",
      "execution_count": null,
      "metadata": {
        "colab": {
          "base_uri": "https://localhost:8080/",
          "height": 424
        },
        "id": "YuU4MNDP9k70",
        "outputId": "cb475232-c1bf-4c20-ada6-47756c74363d"
      },
      "outputs": [
        {
          "data": {
            "text/html": [
              "\n",
              "  <div id=\"df-aea1dca2-7600-44b1-804e-d733b23bd4ae\">\n",
              "    <div class=\"colab-df-container\">\n",
              "      <div>\n",
              "<style scoped>\n",
              "    .dataframe tbody tr th:only-of-type {\n",
              "        vertical-align: middle;\n",
              "    }\n",
              "\n",
              "    .dataframe tbody tr th {\n",
              "        vertical-align: top;\n",
              "    }\n",
              "\n",
              "    .dataframe thead th {\n",
              "        text-align: right;\n",
              "    }\n",
              "</style>\n",
              "<table border=\"1\" class=\"dataframe\">\n",
              "  <thead>\n",
              "    <tr style=\"text-align: right;\">\n",
              "      <th></th>\n",
              "      <th>date</th>\n",
              "      <th>tavg</th>\n",
              "      <th>tmin</th>\n",
              "      <th>tmax</th>\n",
              "      <th>prcp</th>\n",
              "    </tr>\n",
              "  </thead>\n",
              "  <tbody>\n",
              "    <tr>\n",
              "      <th>0</th>\n",
              "      <td>1904-09-01</td>\n",
              "      <td>0.0</td>\n",
              "      <td>0.0</td>\n",
              "      <td>0.0</td>\n",
              "      <td>0.0</td>\n",
              "    </tr>\n",
              "    <tr>\n",
              "      <th>1</th>\n",
              "      <td>1904-09-02</td>\n",
              "      <td>0.0</td>\n",
              "      <td>0.0</td>\n",
              "      <td>0.0</td>\n",
              "      <td>41.4</td>\n",
              "    </tr>\n",
              "    <tr>\n",
              "      <th>2</th>\n",
              "      <td>1904-09-03</td>\n",
              "      <td>0.0</td>\n",
              "      <td>0.0</td>\n",
              "      <td>0.0</td>\n",
              "      <td>48.5</td>\n",
              "    </tr>\n",
              "    <tr>\n",
              "      <th>3</th>\n",
              "      <td>1904-09-04</td>\n",
              "      <td>0.0</td>\n",
              "      <td>0.0</td>\n",
              "      <td>0.0</td>\n",
              "      <td>0.0</td>\n",
              "    </tr>\n",
              "    <tr>\n",
              "      <th>4</th>\n",
              "      <td>1904-09-05</td>\n",
              "      <td>0.0</td>\n",
              "      <td>0.0</td>\n",
              "      <td>0.0</td>\n",
              "      <td>0.0</td>\n",
              "    </tr>\n",
              "    <tr>\n",
              "      <th>...</th>\n",
              "      <td>...</td>\n",
              "      <td>...</td>\n",
              "      <td>...</td>\n",
              "      <td>...</td>\n",
              "      <td>...</td>\n",
              "    </tr>\n",
              "    <tr>\n",
              "      <th>30673</th>\n",
              "      <td>2022-06-13</td>\n",
              "      <td>22.4</td>\n",
              "      <td>20.6</td>\n",
              "      <td>26.7</td>\n",
              "      <td>1.9</td>\n",
              "    </tr>\n",
              "    <tr>\n",
              "      <th>30674</th>\n",
              "      <td>2022-06-14</td>\n",
              "      <td>27.6</td>\n",
              "      <td>21.0</td>\n",
              "      <td>35.0</td>\n",
              "      <td>0.0</td>\n",
              "    </tr>\n",
              "    <tr>\n",
              "      <th>30675</th>\n",
              "      <td>2022-06-15</td>\n",
              "      <td>21.3</td>\n",
              "      <td>18.3</td>\n",
              "      <td>25.5</td>\n",
              "      <td>8.6</td>\n",
              "    </tr>\n",
              "    <tr>\n",
              "      <th>30676</th>\n",
              "      <td>2022-06-16</td>\n",
              "      <td>21.4</td>\n",
              "      <td>18.0</td>\n",
              "      <td>24.6</td>\n",
              "      <td>0.0</td>\n",
              "    </tr>\n",
              "    <tr>\n",
              "      <th>30677</th>\n",
              "      <td>2022-06-17</td>\n",
              "      <td>20.3</td>\n",
              "      <td>14.0</td>\n",
              "      <td>25.9</td>\n",
              "      <td>0.0</td>\n",
              "    </tr>\n",
              "  </tbody>\n",
              "</table>\n",
              "<p>30678 rows × 5 columns</p>\n",
              "</div>\n",
              "      <button class=\"colab-df-convert\" onclick=\"convertToInteractive('df-aea1dca2-7600-44b1-804e-d733b23bd4ae')\"\n",
              "              title=\"Convert this dataframe to an interactive table.\"\n",
              "              style=\"display:none;\">\n",
              "        \n",
              "  <svg xmlns=\"http://www.w3.org/2000/svg\" height=\"24px\"viewBox=\"0 0 24 24\"\n",
              "       width=\"24px\">\n",
              "    <path d=\"M0 0h24v24H0V0z\" fill=\"none\"/>\n",
              "    <path d=\"M18.56 5.44l.94 2.06.94-2.06 2.06-.94-2.06-.94-.94-2.06-.94 2.06-2.06.94zm-11 1L8.5 8.5l.94-2.06 2.06-.94-2.06-.94L8.5 2.5l-.94 2.06-2.06.94zm10 10l.94 2.06.94-2.06 2.06-.94-2.06-.94-.94-2.06-.94 2.06-2.06.94z\"/><path d=\"M17.41 7.96l-1.37-1.37c-.4-.4-.92-.59-1.43-.59-.52 0-1.04.2-1.43.59L10.3 9.45l-7.72 7.72c-.78.78-.78 2.05 0 2.83L4 21.41c.39.39.9.59 1.41.59.51 0 1.02-.2 1.41-.59l7.78-7.78 2.81-2.81c.8-.78.8-2.07 0-2.86zM5.41 20L4 18.59l7.72-7.72 1.47 1.35L5.41 20z\"/>\n",
              "  </svg>\n",
              "      </button>\n",
              "      \n",
              "  <style>\n",
              "    .colab-df-container {\n",
              "      display:flex;\n",
              "      flex-wrap:wrap;\n",
              "      gap: 12px;\n",
              "    }\n",
              "\n",
              "    .colab-df-convert {\n",
              "      background-color: #E8F0FE;\n",
              "      border: none;\n",
              "      border-radius: 50%;\n",
              "      cursor: pointer;\n",
              "      display: none;\n",
              "      fill: #1967D2;\n",
              "      height: 32px;\n",
              "      padding: 0 0 0 0;\n",
              "      width: 32px;\n",
              "    }\n",
              "\n",
              "    .colab-df-convert:hover {\n",
              "      background-color: #E2EBFA;\n",
              "      box-shadow: 0px 1px 2px rgba(60, 64, 67, 0.3), 0px 1px 3px 1px rgba(60, 64, 67, 0.15);\n",
              "      fill: #174EA6;\n",
              "    }\n",
              "\n",
              "    [theme=dark] .colab-df-convert {\n",
              "      background-color: #3B4455;\n",
              "      fill: #D2E3FC;\n",
              "    }\n",
              "\n",
              "    [theme=dark] .colab-df-convert:hover {\n",
              "      background-color: #434B5C;\n",
              "      box-shadow: 0px 1px 3px 1px rgba(0, 0, 0, 0.15);\n",
              "      filter: drop-shadow(0px 1px 2px rgba(0, 0, 0, 0.3));\n",
              "      fill: #FFFFFF;\n",
              "    }\n",
              "  </style>\n",
              "\n",
              "      <script>\n",
              "        const buttonEl =\n",
              "          document.querySelector('#df-aea1dca2-7600-44b1-804e-d733b23bd4ae button.colab-df-convert');\n",
              "        buttonEl.style.display =\n",
              "          google.colab.kernel.accessAllowed ? 'block' : 'none';\n",
              "\n",
              "        async function convertToInteractive(key) {\n",
              "          const element = document.querySelector('#df-aea1dca2-7600-44b1-804e-d733b23bd4ae');\n",
              "          const dataTable =\n",
              "            await google.colab.kernel.invokeFunction('convertToInteractive',\n",
              "                                                     [key], {});\n",
              "          if (!dataTable) return;\n",
              "\n",
              "          const docLinkHtml = 'Like what you see? Visit the ' +\n",
              "            '<a target=\"_blank\" href=https://colab.research.google.com/notebooks/data_table.ipynb>data table notebook</a>'\n",
              "            + ' to learn more about interactive tables.';\n",
              "          element.innerHTML = '';\n",
              "          dataTable['output_type'] = 'display_data';\n",
              "          await google.colab.output.renderOutput(dataTable, element);\n",
              "          const docLink = document.createElement('div');\n",
              "          docLink.innerHTML = docLinkHtml;\n",
              "          element.appendChild(docLink);\n",
              "        }\n",
              "      </script>\n",
              "    </div>\n",
              "  </div>\n",
              "  "
            ],
            "text/plain": [
              "             date  tavg  tmin  tmax  prcp\n",
              "0      1904-09-01   0.0   0.0   0.0   0.0\n",
              "1      1904-09-02   0.0   0.0   0.0  41.4\n",
              "2      1904-09-03   0.0   0.0   0.0  48.5\n",
              "3      1904-09-04   0.0   0.0   0.0   0.0\n",
              "4      1904-09-05   0.0   0.0   0.0   0.0\n",
              "...           ...   ...   ...   ...   ...\n",
              "30673  2022-06-13  22.4  20.6  26.7   1.9\n",
              "30674  2022-06-14  27.6  21.0  35.0   0.0\n",
              "30675  2022-06-15  21.3  18.3  25.5   8.6\n",
              "30676  2022-06-16  21.4  18.0  24.6   0.0\n",
              "30677  2022-06-17  20.3  14.0  25.9   0.0\n",
              "\n",
              "[30678 rows x 5 columns]"
            ]
          },
          "execution_count": 66,
          "metadata": {},
          "output_type": "execute_result"
        }
      ],
      "source": [
        "station_dict_imp['72655']"
      ]
    },
    {
      "cell_type": "code",
      "execution_count": null,
      "metadata": {
        "colab": {
          "base_uri": "https://localhost:8080/",
          "height": 424
        },
        "id": "GbAjR8fd9A52",
        "outputId": "cd907424-eb0c-451d-93a4-1c057109beb5"
      },
      "outputs": [
        {
          "data": {
            "text/html": [
              "\n",
              "  <div id=\"df-671da24d-d4b8-41de-a2c3-719932f57bce\">\n",
              "    <div class=\"colab-df-container\">\n",
              "      <div>\n",
              "<style scoped>\n",
              "    .dataframe tbody tr th:only-of-type {\n",
              "        vertical-align: middle;\n",
              "    }\n",
              "\n",
              "    .dataframe tbody tr th {\n",
              "        vertical-align: top;\n",
              "    }\n",
              "\n",
              "    .dataframe thead th {\n",
              "        text-align: right;\n",
              "    }\n",
              "</style>\n",
              "<table border=\"1\" class=\"dataframe\">\n",
              "  <thead>\n",
              "    <tr style=\"text-align: right;\">\n",
              "      <th></th>\n",
              "      <th>date</th>\n",
              "      <th>tavg</th>\n",
              "      <th>tmin</th>\n",
              "      <th>tmax</th>\n",
              "      <th>prcp</th>\n",
              "    </tr>\n",
              "  </thead>\n",
              "  <tbody>\n",
              "    <tr>\n",
              "      <th>0</th>\n",
              "      <td>1904-09-01</td>\n",
              "      <td>NaN</td>\n",
              "      <td>NaN</td>\n",
              "      <td>NaN</td>\n",
              "      <td>0.0</td>\n",
              "    </tr>\n",
              "    <tr>\n",
              "      <th>1</th>\n",
              "      <td>1904-09-02</td>\n",
              "      <td>NaN</td>\n",
              "      <td>NaN</td>\n",
              "      <td>NaN</td>\n",
              "      <td>41.4</td>\n",
              "    </tr>\n",
              "    <tr>\n",
              "      <th>2</th>\n",
              "      <td>1904-09-03</td>\n",
              "      <td>NaN</td>\n",
              "      <td>NaN</td>\n",
              "      <td>NaN</td>\n",
              "      <td>48.5</td>\n",
              "    </tr>\n",
              "    <tr>\n",
              "      <th>3</th>\n",
              "      <td>1904-09-04</td>\n",
              "      <td>NaN</td>\n",
              "      <td>NaN</td>\n",
              "      <td>NaN</td>\n",
              "      <td>0.0</td>\n",
              "    </tr>\n",
              "    <tr>\n",
              "      <th>4</th>\n",
              "      <td>1904-09-05</td>\n",
              "      <td>NaN</td>\n",
              "      <td>NaN</td>\n",
              "      <td>NaN</td>\n",
              "      <td>0.0</td>\n",
              "    </tr>\n",
              "    <tr>\n",
              "      <th>...</th>\n",
              "      <td>...</td>\n",
              "      <td>...</td>\n",
              "      <td>...</td>\n",
              "      <td>...</td>\n",
              "      <td>...</td>\n",
              "    </tr>\n",
              "    <tr>\n",
              "      <th>30673</th>\n",
              "      <td>2022-06-13</td>\n",
              "      <td>22.4</td>\n",
              "      <td>20.6</td>\n",
              "      <td>26.7</td>\n",
              "      <td>1.9</td>\n",
              "    </tr>\n",
              "    <tr>\n",
              "      <th>30674</th>\n",
              "      <td>2022-06-14</td>\n",
              "      <td>27.6</td>\n",
              "      <td>21.0</td>\n",
              "      <td>35.0</td>\n",
              "      <td>0.0</td>\n",
              "    </tr>\n",
              "    <tr>\n",
              "      <th>30675</th>\n",
              "      <td>2022-06-15</td>\n",
              "      <td>21.3</td>\n",
              "      <td>18.3</td>\n",
              "      <td>25.5</td>\n",
              "      <td>8.6</td>\n",
              "    </tr>\n",
              "    <tr>\n",
              "      <th>30676</th>\n",
              "      <td>2022-06-16</td>\n",
              "      <td>21.4</td>\n",
              "      <td>18.0</td>\n",
              "      <td>24.6</td>\n",
              "      <td>0.0</td>\n",
              "    </tr>\n",
              "    <tr>\n",
              "      <th>30677</th>\n",
              "      <td>2022-06-17</td>\n",
              "      <td>20.3</td>\n",
              "      <td>14.0</td>\n",
              "      <td>25.9</td>\n",
              "      <td>0.0</td>\n",
              "    </tr>\n",
              "  </tbody>\n",
              "</table>\n",
              "<p>30678 rows × 5 columns</p>\n",
              "</div>\n",
              "      <button class=\"colab-df-convert\" onclick=\"convertToInteractive('df-671da24d-d4b8-41de-a2c3-719932f57bce')\"\n",
              "              title=\"Convert this dataframe to an interactive table.\"\n",
              "              style=\"display:none;\">\n",
              "        \n",
              "  <svg xmlns=\"http://www.w3.org/2000/svg\" height=\"24px\"viewBox=\"0 0 24 24\"\n",
              "       width=\"24px\">\n",
              "    <path d=\"M0 0h24v24H0V0z\" fill=\"none\"/>\n",
              "    <path d=\"M18.56 5.44l.94 2.06.94-2.06 2.06-.94-2.06-.94-.94-2.06-.94 2.06-2.06.94zm-11 1L8.5 8.5l.94-2.06 2.06-.94-2.06-.94L8.5 2.5l-.94 2.06-2.06.94zm10 10l.94 2.06.94-2.06 2.06-.94-2.06-.94-.94-2.06-.94 2.06-2.06.94z\"/><path d=\"M17.41 7.96l-1.37-1.37c-.4-.4-.92-.59-1.43-.59-.52 0-1.04.2-1.43.59L10.3 9.45l-7.72 7.72c-.78.78-.78 2.05 0 2.83L4 21.41c.39.39.9.59 1.41.59.51 0 1.02-.2 1.41-.59l7.78-7.78 2.81-2.81c.8-.78.8-2.07 0-2.86zM5.41 20L4 18.59l7.72-7.72 1.47 1.35L5.41 20z\"/>\n",
              "  </svg>\n",
              "      </button>\n",
              "      \n",
              "  <style>\n",
              "    .colab-df-container {\n",
              "      display:flex;\n",
              "      flex-wrap:wrap;\n",
              "      gap: 12px;\n",
              "    }\n",
              "\n",
              "    .colab-df-convert {\n",
              "      background-color: #E8F0FE;\n",
              "      border: none;\n",
              "      border-radius: 50%;\n",
              "      cursor: pointer;\n",
              "      display: none;\n",
              "      fill: #1967D2;\n",
              "      height: 32px;\n",
              "      padding: 0 0 0 0;\n",
              "      width: 32px;\n",
              "    }\n",
              "\n",
              "    .colab-df-convert:hover {\n",
              "      background-color: #E2EBFA;\n",
              "      box-shadow: 0px 1px 2px rgba(60, 64, 67, 0.3), 0px 1px 3px 1px rgba(60, 64, 67, 0.15);\n",
              "      fill: #174EA6;\n",
              "    }\n",
              "\n",
              "    [theme=dark] .colab-df-convert {\n",
              "      background-color: #3B4455;\n",
              "      fill: #D2E3FC;\n",
              "    }\n",
              "\n",
              "    [theme=dark] .colab-df-convert:hover {\n",
              "      background-color: #434B5C;\n",
              "      box-shadow: 0px 1px 3px 1px rgba(0, 0, 0, 0.15);\n",
              "      filter: drop-shadow(0px 1px 2px rgba(0, 0, 0, 0.3));\n",
              "      fill: #FFFFFF;\n",
              "    }\n",
              "  </style>\n",
              "\n",
              "      <script>\n",
              "        const buttonEl =\n",
              "          document.querySelector('#df-671da24d-d4b8-41de-a2c3-719932f57bce button.colab-df-convert');\n",
              "        buttonEl.style.display =\n",
              "          google.colab.kernel.accessAllowed ? 'block' : 'none';\n",
              "\n",
              "        async function convertToInteractive(key) {\n",
              "          const element = document.querySelector('#df-671da24d-d4b8-41de-a2c3-719932f57bce');\n",
              "          const dataTable =\n",
              "            await google.colab.kernel.invokeFunction('convertToInteractive',\n",
              "                                                     [key], {});\n",
              "          if (!dataTable) return;\n",
              "\n",
              "          const docLinkHtml = 'Like what you see? Visit the ' +\n",
              "            '<a target=\"_blank\" href=https://colab.research.google.com/notebooks/data_table.ipynb>data table notebook</a>'\n",
              "            + ' to learn more about interactive tables.';\n",
              "          element.innerHTML = '';\n",
              "          dataTable['output_type'] = 'display_data';\n",
              "          await google.colab.output.renderOutput(dataTable, element);\n",
              "          const docLink = document.createElement('div');\n",
              "          docLink.innerHTML = docLinkHtml;\n",
              "          element.appendChild(docLink);\n",
              "        }\n",
              "      </script>\n",
              "    </div>\n",
              "  </div>\n",
              "  "
            ],
            "text/plain": [
              "             date  tavg  tmin  tmax  prcp\n",
              "0      1904-09-01   NaN   NaN   NaN   0.0\n",
              "1      1904-09-02   NaN   NaN   NaN  41.4\n",
              "2      1904-09-03   NaN   NaN   NaN  48.5\n",
              "3      1904-09-04   NaN   NaN   NaN   0.0\n",
              "4      1904-09-05   NaN   NaN   NaN   0.0\n",
              "...           ...   ...   ...   ...   ...\n",
              "30673  2022-06-13  22.4  20.6  26.7   1.9\n",
              "30674  2022-06-14  27.6  21.0  35.0   0.0\n",
              "30675  2022-06-15  21.3  18.3  25.5   8.6\n",
              "30676  2022-06-16  21.4  18.0  24.6   0.0\n",
              "30677  2022-06-17  20.3  14.0  25.9   0.0\n",
              "\n",
              "[30678 rows x 5 columns]"
            ]
          },
          "execution_count": 67,
          "metadata": {},
          "output_type": "execute_result"
        }
      ],
      "source": [
        "station_dict['72655']"
      ]
    },
    {
      "cell_type": "markdown",
      "metadata": {
        "id": "1MqOvMIj__f9"
      },
      "source": [
        "## df.fillna"
      ]
    },
    {
      "cell_type": "markdown",
      "metadata": {
        "id": "rYnuuCFQC8Sb"
      },
      "source": [
        "pretty poénos mert valahol a bfill megy valahol meg a ffill de either way, ha bfill nem válik be akkor rányom egy ffill-t"
      ]
    },
    {
      "cell_type": "code",
      "execution_count": null,
      "metadata": {
        "id": "C4wIo3_DAfzg"
      },
      "outputs": [],
      "source": [
        "station_dict_imp = {}\n",
        "for i in station_dict:\n",
        "  curr_df = station_dict[i].copy(deep=True)\n",
        "  station_dict_imp[i] = curr_df.fillna(method = 'bfill',axis = 0)\n",
        "  station_dict_imp[i] = station_dict_imp[i].fillna(method = 'ffill',axis = 0)"
      ]
    },
    {
      "cell_type": "code",
      "execution_count": null,
      "metadata": {
        "colab": {
          "base_uri": "https://localhost:8080/",
          "height": 424
        },
        "id": "v11yQ9owC0He",
        "outputId": "9555abf9-9f14-40b9-9ac0-903dc4b386f0"
      },
      "outputs": [
        {
          "data": {
            "text/html": [
              "\n",
              "  <div id=\"df-cf546ea3-fb75-417b-b1ab-c3d36531ae3b\">\n",
              "    <div class=\"colab-df-container\">\n",
              "      <div>\n",
              "<style scoped>\n",
              "    .dataframe tbody tr th:only-of-type {\n",
              "        vertical-align: middle;\n",
              "    }\n",
              "\n",
              "    .dataframe tbody tr th {\n",
              "        vertical-align: top;\n",
              "    }\n",
              "\n",
              "    .dataframe thead th {\n",
              "        text-align: right;\n",
              "    }\n",
              "</style>\n",
              "<table border=\"1\" class=\"dataframe\">\n",
              "  <thead>\n",
              "    <tr style=\"text-align: right;\">\n",
              "      <th></th>\n",
              "      <th>date</th>\n",
              "      <th>tavg</th>\n",
              "      <th>tmin</th>\n",
              "      <th>tmax</th>\n",
              "      <th>prcp</th>\n",
              "    </tr>\n",
              "  </thead>\n",
              "  <tbody>\n",
              "    <tr>\n",
              "      <th>0</th>\n",
              "      <td>1904-09-01</td>\n",
              "      <td>-5.3</td>\n",
              "      <td>6.7</td>\n",
              "      <td>18.3</td>\n",
              "      <td>0.0</td>\n",
              "    </tr>\n",
              "    <tr>\n",
              "      <th>1</th>\n",
              "      <td>1904-09-02</td>\n",
              "      <td>-5.3</td>\n",
              "      <td>6.7</td>\n",
              "      <td>18.3</td>\n",
              "      <td>41.4</td>\n",
              "    </tr>\n",
              "    <tr>\n",
              "      <th>2</th>\n",
              "      <td>1904-09-03</td>\n",
              "      <td>-5.3</td>\n",
              "      <td>6.7</td>\n",
              "      <td>18.3</td>\n",
              "      <td>48.5</td>\n",
              "    </tr>\n",
              "    <tr>\n",
              "      <th>3</th>\n",
              "      <td>1904-09-04</td>\n",
              "      <td>-5.3</td>\n",
              "      <td>6.7</td>\n",
              "      <td>18.3</td>\n",
              "      <td>0.0</td>\n",
              "    </tr>\n",
              "    <tr>\n",
              "      <th>4</th>\n",
              "      <td>1904-09-05</td>\n",
              "      <td>-5.3</td>\n",
              "      <td>6.7</td>\n",
              "      <td>18.3</td>\n",
              "      <td>0.0</td>\n",
              "    </tr>\n",
              "    <tr>\n",
              "      <th>...</th>\n",
              "      <td>...</td>\n",
              "      <td>...</td>\n",
              "      <td>...</td>\n",
              "      <td>...</td>\n",
              "      <td>...</td>\n",
              "    </tr>\n",
              "    <tr>\n",
              "      <th>30673</th>\n",
              "      <td>2022-06-13</td>\n",
              "      <td>22.4</td>\n",
              "      <td>20.6</td>\n",
              "      <td>26.7</td>\n",
              "      <td>1.9</td>\n",
              "    </tr>\n",
              "    <tr>\n",
              "      <th>30674</th>\n",
              "      <td>2022-06-14</td>\n",
              "      <td>27.6</td>\n",
              "      <td>21.0</td>\n",
              "      <td>35.0</td>\n",
              "      <td>0.0</td>\n",
              "    </tr>\n",
              "    <tr>\n",
              "      <th>30675</th>\n",
              "      <td>2022-06-15</td>\n",
              "      <td>21.3</td>\n",
              "      <td>18.3</td>\n",
              "      <td>25.5</td>\n",
              "      <td>8.6</td>\n",
              "    </tr>\n",
              "    <tr>\n",
              "      <th>30676</th>\n",
              "      <td>2022-06-16</td>\n",
              "      <td>21.4</td>\n",
              "      <td>18.0</td>\n",
              "      <td>24.6</td>\n",
              "      <td>0.0</td>\n",
              "    </tr>\n",
              "    <tr>\n",
              "      <th>30677</th>\n",
              "      <td>2022-06-17</td>\n",
              "      <td>20.3</td>\n",
              "      <td>14.0</td>\n",
              "      <td>25.9</td>\n",
              "      <td>0.0</td>\n",
              "    </tr>\n",
              "  </tbody>\n",
              "</table>\n",
              "<p>30678 rows × 5 columns</p>\n",
              "</div>\n",
              "      <button class=\"colab-df-convert\" onclick=\"convertToInteractive('df-cf546ea3-fb75-417b-b1ab-c3d36531ae3b')\"\n",
              "              title=\"Convert this dataframe to an interactive table.\"\n",
              "              style=\"display:none;\">\n",
              "        \n",
              "  <svg xmlns=\"http://www.w3.org/2000/svg\" height=\"24px\"viewBox=\"0 0 24 24\"\n",
              "       width=\"24px\">\n",
              "    <path d=\"M0 0h24v24H0V0z\" fill=\"none\"/>\n",
              "    <path d=\"M18.56 5.44l.94 2.06.94-2.06 2.06-.94-2.06-.94-.94-2.06-.94 2.06-2.06.94zm-11 1L8.5 8.5l.94-2.06 2.06-.94-2.06-.94L8.5 2.5l-.94 2.06-2.06.94zm10 10l.94 2.06.94-2.06 2.06-.94-2.06-.94-.94-2.06-.94 2.06-2.06.94z\"/><path d=\"M17.41 7.96l-1.37-1.37c-.4-.4-.92-.59-1.43-.59-.52 0-1.04.2-1.43.59L10.3 9.45l-7.72 7.72c-.78.78-.78 2.05 0 2.83L4 21.41c.39.39.9.59 1.41.59.51 0 1.02-.2 1.41-.59l7.78-7.78 2.81-2.81c.8-.78.8-2.07 0-2.86zM5.41 20L4 18.59l7.72-7.72 1.47 1.35L5.41 20z\"/>\n",
              "  </svg>\n",
              "      </button>\n",
              "      \n",
              "  <style>\n",
              "    .colab-df-container {\n",
              "      display:flex;\n",
              "      flex-wrap:wrap;\n",
              "      gap: 12px;\n",
              "    }\n",
              "\n",
              "    .colab-df-convert {\n",
              "      background-color: #E8F0FE;\n",
              "      border: none;\n",
              "      border-radius: 50%;\n",
              "      cursor: pointer;\n",
              "      display: none;\n",
              "      fill: #1967D2;\n",
              "      height: 32px;\n",
              "      padding: 0 0 0 0;\n",
              "      width: 32px;\n",
              "    }\n",
              "\n",
              "    .colab-df-convert:hover {\n",
              "      background-color: #E2EBFA;\n",
              "      box-shadow: 0px 1px 2px rgba(60, 64, 67, 0.3), 0px 1px 3px 1px rgba(60, 64, 67, 0.15);\n",
              "      fill: #174EA6;\n",
              "    }\n",
              "\n",
              "    [theme=dark] .colab-df-convert {\n",
              "      background-color: #3B4455;\n",
              "      fill: #D2E3FC;\n",
              "    }\n",
              "\n",
              "    [theme=dark] .colab-df-convert:hover {\n",
              "      background-color: #434B5C;\n",
              "      box-shadow: 0px 1px 3px 1px rgba(0, 0, 0, 0.15);\n",
              "      filter: drop-shadow(0px 1px 2px rgba(0, 0, 0, 0.3));\n",
              "      fill: #FFFFFF;\n",
              "    }\n",
              "  </style>\n",
              "\n",
              "      <script>\n",
              "        const buttonEl =\n",
              "          document.querySelector('#df-cf546ea3-fb75-417b-b1ab-c3d36531ae3b button.colab-df-convert');\n",
              "        buttonEl.style.display =\n",
              "          google.colab.kernel.accessAllowed ? 'block' : 'none';\n",
              "\n",
              "        async function convertToInteractive(key) {\n",
              "          const element = document.querySelector('#df-cf546ea3-fb75-417b-b1ab-c3d36531ae3b');\n",
              "          const dataTable =\n",
              "            await google.colab.kernel.invokeFunction('convertToInteractive',\n",
              "                                                     [key], {});\n",
              "          if (!dataTable) return;\n",
              "\n",
              "          const docLinkHtml = 'Like what you see? Visit the ' +\n",
              "            '<a target=\"_blank\" href=https://colab.research.google.com/notebooks/data_table.ipynb>data table notebook</a>'\n",
              "            + ' to learn more about interactive tables.';\n",
              "          element.innerHTML = '';\n",
              "          dataTable['output_type'] = 'display_data';\n",
              "          await google.colab.output.renderOutput(dataTable, element);\n",
              "          const docLink = document.createElement('div');\n",
              "          docLink.innerHTML = docLinkHtml;\n",
              "          element.appendChild(docLink);\n",
              "        }\n",
              "      </script>\n",
              "    </div>\n",
              "  </div>\n",
              "  "
            ],
            "text/plain": [
              "             date  tavg  tmin  tmax  prcp\n",
              "0      1904-09-01  -5.3   6.7  18.3   0.0\n",
              "1      1904-09-02  -5.3   6.7  18.3  41.4\n",
              "2      1904-09-03  -5.3   6.7  18.3  48.5\n",
              "3      1904-09-04  -5.3   6.7  18.3   0.0\n",
              "4      1904-09-05  -5.3   6.7  18.3   0.0\n",
              "...           ...   ...   ...   ...   ...\n",
              "30673  2022-06-13  22.4  20.6  26.7   1.9\n",
              "30674  2022-06-14  27.6  21.0  35.0   0.0\n",
              "30675  2022-06-15  21.3  18.3  25.5   8.6\n",
              "30676  2022-06-16  21.4  18.0  24.6   0.0\n",
              "30677  2022-06-17  20.3  14.0  25.9   0.0\n",
              "\n",
              "[30678 rows x 5 columns]"
            ]
          },
          "execution_count": 69,
          "metadata": {},
          "output_type": "execute_result"
        }
      ],
      "source": [
        "station_dict_imp['72655']"
      ]
    },
    {
      "cell_type": "markdown",
      "metadata": {
        "id": "CnUi9esxAJXe"
      },
      "source": [
        "## df.interpolate\n"
      ]
    },
    {
      "cell_type": "markdown",
      "metadata": {
        "id": "GG62DssOERNl"
      },
      "source": [
        "Interpolation technique to use. One of:\n",
        "\n",
        "‘linear’: Ignore the index and treat the values as equally spaced. This is the only method supported on MultiIndexes.\n",
        "\n",
        "‘time’: Works on daily and higher resolution data to interpolate given length of interval.\n",
        "\n",
        "‘index’, ‘values’: use the actual numerical values of the index.\n",
        "\n",
        "‘pad’: Fill in NaNs using existing values.\n",
        "\n",
        "‘nearest’, ‘zero’, ‘slinear’, ‘quadratic’, ‘cubic’, ‘spline’, ‘barycentric’, ‘polynomial’: Passed to scipy.interpolate.interp1d. These methods use the numerical values of the index. Both ‘polynomial’ and ‘spline’ require that you also specify an order (int), e.g. df.interpolate(method='polynomial', order=5).\n",
        "\n",
        "‘krogh’, ‘piecewise_polynomial’, ‘spline’, ‘pchip’, ‘akima’, ‘cubicspline’: Wrappers around the SciPy interpolation methods of similar names. See Notes.\n",
        "\n",
        "‘from_derivatives’: Refers to scipy.interpolate.BPoly.from_derivatives which replaces ‘piecewise_polynomial’ interpolation method in scipy 0.18."
      ]
    },
    {
      "cell_type": "code",
      "execution_count": null,
      "metadata": {
        "id": "EnNJ7_0CETGI"
      },
      "outputs": [],
      "source": [
        "m = 'linear'"
      ]
    },
    {
      "cell_type": "code",
      "execution_count": null,
      "metadata": {
        "id": "Odz_ojcYEcHC"
      },
      "outputs": [],
      "source": [
        "m = 'from_derivatives'"
      ]
    },
    {
      "cell_type": "code",
      "execution_count": null,
      "metadata": {
        "id": "_0wL9ozSOldE"
      },
      "outputs": [],
      "source": [
        "m = 'spline'"
      ]
    },
    {
      "cell_type": "code",
      "execution_count": null,
      "metadata": {
        "id": "0tYBsMLWRG2p"
      },
      "outputs": [],
      "source": []
    },
    {
      "cell_type": "code",
      "execution_count": null,
      "metadata": {
        "id": "tqtOTo9jAgOD"
      },
      "outputs": [],
      "source": [
        "station_dict_imp = {}\n",
        "for i in station_dict:\n",
        "  curr_df = station_dict[i].copy(deep=True)\n",
        "  for c in curr_df.columns:\n",
        "    if( c != 'date'):\n",
        "      curr_df[c] = curr_df[c].interpolate(method =m ,limit_direction = 'both',order=5)\n",
        "  station_dict_imp[i] = curr_df"
      ]
    },
    {
      "cell_type": "code",
      "execution_count": null,
      "metadata": {
        "id": "-COa-sh5Ep_r"
      },
      "outputs": [],
      "source": [
        "station_dict_imp['72655']"
      ]
    },
    {
      "attachments": {},
      "cell_type": "markdown",
      "metadata": {
        "id": "gqGPMkT4PVwB"
      },
      "source": [
        "##  K-Means interpolation"
      ]
    },
    {
      "cell_type": "markdown",
      "metadata": {
        "id": "knYxY3_CPZJU"
      },
      "source": [
        "Az előző próbában csak 1 setet használtunk fit-re de az nem tűnt jó megközelítésnek, ezért date címke nélkül fogunk fit-elni adatokat a "
      ]
    },
    {
      "attachments": {},
      "cell_type": "markdown",
      "metadata": {},
      "source": [
        "Ez nem tűnik jónak, mert évekig fut a fit_transform és a fit és a transform is külön külön"
      ]
    },
    {
      "cell_type": "code",
      "execution_count": null,
      "metadata": {},
      "outputs": [],
      "source": []
    },
    {
      "attachments": {},
      "cell_type": "markdown",
      "metadata": {},
      "source": [
        "## gigadf route"
      ]
    },
    {
      "cell_type": "code",
      "execution_count": 115,
      "metadata": {
        "id": "B-ClFfTrUGrW"
      },
      "outputs": [],
      "source": [
        "from sklearn.impute import KNNImputer"
      ]
    },
    {
      "cell_type": "code",
      "execution_count": 116,
      "metadata": {
        "id": "8NCa6tg1YSrM"
      },
      "outputs": [],
      "source": [
        "knn_imputer=KNNImputer(n_neighbors=3, weights='distance', metric='nan_euclidean')"
      ]
    },
    {
      "cell_type": "code",
      "execution_count": 117,
      "metadata": {
        "id": "9-ILQGqgE2e_"
      },
      "outputs": [
        {
          "data": {
            "text/plain": [
              "KNNImputer(n_neighbors=3, weights='distance')"
            ]
          },
          "execution_count": 117,
          "metadata": {},
          "output_type": "execute_result"
        }
      ],
      "source": [
        "knn_imputer.fit(gigadf_vals)"
      ]
    },
    {
      "cell_type": "code",
      "execution_count": 119,
      "metadata": {
        "id": "LW2S-XU4ZHXS"
      },
      "outputs": [],
      "source": [
        "station_dict_imp = {}\n",
        "c = ['tavg', 'tmin', 'tmax', 'prcp','year','month','day']\n",
        "for i in station_dict:\n",
        "  curr_df = station_dict[i].copy(deep=True)\n",
        "  curr_df['date'] = pd.to_datetime(curr_df['date'])\n",
        "  dmin = min(curr_df['date'])\n",
        "  dmax = max(curr_df['date'])\n",
        "  new_dates = pd.date_range(start=dmin,end=dmax,freq='D')\n",
        "  curr_df = curr_df.set_index('date')\n",
        "  \n",
        "  curr_df =curr_df.reindex(new_dates)\n",
        "  curr_df['year'] = curr_df.index.year\n",
        "  curr_df['month'] = curr_df.index.month\n",
        "  curr_df['day'] = curr_df.index.day\n",
        "  curr_df[c] = imputer.transform(curr_df[c])\n",
        "  station_dict_imp[i] = curr_df "
      ]
    },
    {
      "cell_type": "code",
      "execution_count": null,
      "metadata": {
        "id": "aVM7oAGAZovw"
      },
      "outputs": [],
      "source": [
        "station_dict_imp['72655']"
      ]
    },
    {
      "attachments": {},
      "cell_type": "markdown",
      "metadata": {},
      "source": [
        "### local route"
      ]
    },
    {
      "cell_type": "code",
      "execution_count": 109,
      "metadata": {},
      "outputs": [],
      "source": [
        "from sklearn.impute import KNNImputer\n",
        "knn_imputer=KNNImputer(n_neighbors=3, weights='distance', metric='nan_euclidean')"
      ]
    },
    {
      "cell_type": "code",
      "execution_count": 113,
      "metadata": {},
      "outputs": [],
      "source": [
        "from sklearn.impute import KNNImputer\n",
        "imputer=KNNImputer(n_neighbors=3, weights='distance', metric='nan_euclidean')\n",
        "station_dict_imp = {}\n",
        "c = ['tavg', 'tmin', 'tmax', 'prcp','year','month','day']\n",
        "for i in station_dict:\n",
        "  curr_df = station_dict[i].copy(deep=True)\n",
        "  curr_df['date'] = pd.to_datetime(curr_df['date'])\n",
        "  dmin = min(curr_df['date'])\n",
        "  dmax = max(curr_df['date'])\n",
        "  new_dates = pd.date_range(start=dmin,end=dmax,freq='D')\n",
        "  curr_df = curr_df.set_index('date')\n",
        "  \n",
        "  curr_df =curr_df.reindex(new_dates)\n",
        "  curr_df['year'] = curr_df.index.year\n",
        "  curr_df['month'] = curr_df.index.month\n",
        "  curr_df['day'] = curr_df.index.day\n",
        "  imputer.fit(curr_df[c])\n",
        "  curr_df[c] = imputer.transform(curr_df[c])\n",
        "  station_dict_imp[i] = curr_df "
      ]
    },
    {
      "attachments": {},
      "cell_type": "markdown",
      "metadata": {
        "id": "Js77qIfkaYz_"
      },
      "source": [
        "## IterativeImputer"
      ]
    },
    {
      "cell_type": "code",
      "execution_count": 44,
      "metadata": {
        "id": "8_sCIsn8abZG"
      },
      "outputs": [],
      "source": [
        "from sklearn.experimental import enable_iterative_imputer\n",
        "from sklearn.impute import IterativeImputer"
      ]
    },
    {
      "cell_type": "code",
      "execution_count": 45,
      "metadata": {
        "id": "fw70I-6wanLR"
      },
      "outputs": [],
      "source": [
        "imputer = IterativeImputer(missing_values = np.nan, initial_strategy = 'mean')"
      ]
    },
    {
      "cell_type": "code",
      "execution_count": 49,
      "metadata": {
        "id": "io6xJajreaIb"
      },
      "outputs": [
        {
          "data": {
            "text/plain": [
              "IterativeImputer()"
            ]
          },
          "execution_count": 49,
          "metadata": {},
          "output_type": "execute_result"
        }
      ],
      "source": [
        "imputer.fit(gigadf_vals)"
      ]
    },
    {
      "cell_type": "code",
      "execution_count": 50,
      "metadata": {
        "id": "33y9R3Y8fGXh"
      },
      "outputs": [
        {
          "data": {
            "text/plain": [
              "97"
            ]
          },
          "execution_count": 50,
          "metadata": {},
          "output_type": "execute_result"
        }
      ],
      "source": [
        "len(station_dict)"
      ]
    },
    {
      "attachments": {},
      "cell_type": "markdown",
      "metadata": {},
      "source": [
        "### deprecated"
      ]
    },
    {
      "cell_type": "code",
      "execution_count": null,
      "metadata": {
        "id": "iyVcNL5me3-m"
      },
      "outputs": [],
      "source": [
        "c = ['tavg', 'tmin', 'tmax', 'prcp']\n",
        "curr_df = station_dict['72655'].copy(deep=True)\n",
        "curr_df[c] = imputer.transform(curr_df[c])\n",
        "curr_df"
      ]
    },
    {
      "cell_type": "code",
      "execution_count": null,
      "metadata": {
        "id": "WB5IDyU8GUGJ"
      },
      "outputs": [],
      "source": [
        "station_dict_imp = {}\n",
        "c = ['tavg', 'tmin', 'tmax', 'prcp']\n",
        "for i in station_dict:\n",
        "  curr_df = station_dict[i].copy(deep=True)\n",
        "  curr_df[c] = imputer.transform(curr_df[c])\n",
        "  station_dict_imp[i] = curr_df"
      ]
    },
    {
      "attachments": {},
      "cell_type": "markdown",
      "metadata": {},
      "source": [
        "### Current"
      ]
    },
    {
      "cell_type": "code",
      "execution_count": 60,
      "metadata": {
        "id": "2Q8LOgu51aP5"
      },
      "outputs": [],
      "source": [
        "station_dict_imp = {}\n",
        "c = ['tavg', 'tmin', 'tmax', 'prcp','year','month','day']\n",
        "for i in station_dict:\n",
        "  curr_df = station_dict[i].copy(deep=True)\n",
        "  curr_df['date'] = pd.to_datetime(curr_df['date'])\n",
        "  curr_df['year'] = pd.to_datetime(curr_df['date']).dt.year\n",
        "  curr_df['month'] = pd.to_datetime(curr_df['date']).dt.month\n",
        "  curr_df['day'] = pd.to_datetime(curr_df['date']).dt.day\n",
        "  curr_df = curr_df.set_index('date')\n",
        "  imputer.fit(curr_df[c].dropna())\n",
        "  curr_df[c] = imputer.transform(curr_df[c])\n",
        "  station_dict_imp[i] = curr_df "
      ]
    },
    {
      "attachments": {},
      "cell_type": "markdown",
      "metadata": {},
      "source": [
        "### non gigadf"
      ]
    },
    {
      "cell_type": "code",
      "execution_count": 94,
      "metadata": {},
      "outputs": [],
      "source": [
        "station_dict_imp = {}\n",
        "c = ['tavg', 'tmin', 'tmax', 'prcp','year','month','day']\n",
        "for i in station_dict:\n",
        "  curr_df = station_dict[i].copy(deep=True)\n",
        "  curr_df['date'] = pd.to_datetime(curr_df['date'])\n",
        "  dmin = min(curr_df['date'])\n",
        "  dmax = max(curr_df['date'])\n",
        "  new_dates = pd.date_range(start=dmin,end=dmax,freq='D')\n",
        "  curr_df = curr_df.set_index('date')\n",
        "  \n",
        "  curr_df =curr_df.reindex(new_dates)\n",
        "  curr_df['year'] = curr_df.index.year\n",
        "  curr_df['month'] = curr_df.index.month\n",
        "  curr_df['day'] = curr_df.index.day\n",
        "  imputer.fit(curr_df[c])\n",
        "  curr_df[c] = imputer.transform(curr_df[c])\n",
        "  station_dict_imp[i] = curr_df "
      ]
    },
    {
      "cell_type": "code",
      "execution_count": 126,
      "metadata": {},
      "outputs": [
        {
          "data": {
            "text/plain": [
              "<Axes: >"
            ]
          },
          "execution_count": 126,
          "metadata": {},
          "output_type": "execute_result"
        },
        {
          "data": {
            "image/png": "[encoded data removed]",
            "text/plain": [
              "<Figure size 432x288 with 1 Axes>"
            ]
          },
          "metadata": {
            "needs_background": "light"
          },
          "output_type": "display_data"
        }
      ],
      "source": [
        "station_dict[list(station_dict_imp.keys())[8]][['tavg','tmin','tmax','prcp']].tail(500).plot()"
      ]
    },
    {
      "cell_type": "code",
      "execution_count": 127,
      "metadata": {},
      "outputs": [
        {
          "data": {
            "text/plain": [
              "<Axes: >"
            ]
          },
          "execution_count": 127,
          "metadata": {},
          "output_type": "execute_result"
        },
        {
          "data": {
            "image/png": "[encoded data removed]",
            "text/plain": [
              "<Figure size 432x288 with 1 Axes>"
            ]
          },
          "metadata": {
            "needs_background": "light"
          },
          "output_type": "display_data"
        }
      ],
      "source": [
        "station_dict_imp[list(station_dict_imp.keys())[8]][['tavg','tmin','tmax','prcp']][-500:].plot()"
      ]
    },
    {
      "attachments": {},
      "cell_type": "markdown",
      "metadata": {},
      "source": [
        "Weird, hogy az esőzést engedte negatívba menni"
      ]
    },
    {
      "attachments": {},
      "cell_type": "markdown",
      "metadata": {
        "id": "cT29-WnmzwaE"
      },
      "source": [
        "# Tanulóhalmaz konstruálása"
      ]
    },
    {
      "cell_type": "code",
      "execution_count": 79,
      "metadata": {
        "id": "PM6PZ56xmTDX"
      },
      "outputs": [
        {
          "data": {
            "text/plain": [
              "dict_keys(['AITKIN', 'ANOKA', 'BECKER', 'BELTRAMI', 'BENTON', 'BIG STONE', 'BLUE EARTH', 'BROWN', 'CARLTON', 'CARVER', 'CASS', 'CHIPPEWA', 'CHISAGO', 'CLAY', 'CLEARWATER', 'COTTONWOOD', 'CROW WING', 'DOUGLAS', 'FARIBAULT', 'FREEBORN', 'GRANT', 'HENNEPIN', 'HUBBARD', 'ISANTI', 'ITASCA', 'JACKSON', 'KANABEC', 'KANDIYOHI', 'KITTSON', 'KOOCHICHING', 'LAC QUI PARLE', 'LAKE', 'LAKE OF THE WOODS', 'LE SUEUR', 'LINCOLN', 'LYON', 'MAHNOMEN', 'MARSHALL', 'MARTIN', 'MCLEOD', 'MEEKER', 'MILLE LACS', 'MORRISON', 'MURRAY', 'NICOLLET', 'NOBLES', 'NORMAN', 'OTTER TAIL', 'PENNINGTON', 'PINE', 'PIPESTONE', 'POLK', 'POPE', 'RAMSEY', 'RED LAKE', 'REDWOOD', 'RENVILLE', 'RICE', 'ROCK', 'ROSEAU', 'SCOTT', 'SHERBURNE', 'SIBLEY', 'ST. LOUIS', 'STEARNS', 'STEELE', 'STEVENS', 'SWIFT', 'TODD', 'TRAVERSE', 'WADENA', 'WASECA', 'WASHINGTON', 'WATONWAN', 'WILKIN', 'WRIGHT', 'YELLOW MEDICINE', 'COOK', 'OTHER (COMBINED) COUNTIES'])"
            ]
          },
          "execution_count": 79,
          "metadata": {},
          "output_type": "execute_result"
        }
      ],
      "source": [
        "crops.keys()"
      ]
    },
    {
      "cell_type": "code",
      "execution_count": 142,
      "metadata": {
        "id": "1eWi9WdJsAbC"
      },
      "outputs": [
        {
          "data": {
            "text/html": [
              "<div>\n",
              "<style scoped>\n",
              "    .dataframe tbody tr th:only-of-type {\n",
              "        vertical-align: middle;\n",
              "    }\n",
              "\n",
              "    .dataframe tbody tr th {\n",
              "        vertical-align: top;\n",
              "    }\n",
              "\n",
              "    .dataframe thead th {\n",
              "        text-align: right;\n",
              "    }\n",
              "</style>\n",
              "<table border=\"1\" class=\"dataframe\">\n",
              "  <thead>\n",
              "    <tr style=\"text-align: right;\">\n",
              "      <th></th>\n",
              "      <th>Year</th>\n",
              "      <th>County</th>\n",
              "      <th>Commodity</th>\n",
              "      <th>Crop</th>\n",
              "      <th>ACRES HARVESTED</th>\n",
              "      <th>PRODUCTION, MEASURED IN BU</th>\n",
              "      <th>YIELD, MEASURED IN BU / ACRE</th>\n",
              "    </tr>\n",
              "  </thead>\n",
              "  <tbody>\n",
              "    <tr>\n",
              "      <th>0</th>\n",
              "      <td>1950</td>\n",
              "      <td>AITKIN</td>\n",
              "      <td>CORN</td>\n",
              "      <td>CORN, GRAIN</td>\n",
              "      <td>4,800</td>\n",
              "      <td>72,000</td>\n",
              "      <td>15.0</td>\n",
              "    </tr>\n",
              "    <tr>\n",
              "      <th>1</th>\n",
              "      <td>1951</td>\n",
              "      <td>AITKIN</td>\n",
              "      <td>CORN</td>\n",
              "      <td>CORN, GRAIN</td>\n",
              "      <td>4,000</td>\n",
              "      <td>128,000</td>\n",
              "      <td>32.0</td>\n",
              "    </tr>\n",
              "    <tr>\n",
              "      <th>2</th>\n",
              "      <td>1952</td>\n",
              "      <td>AITKIN</td>\n",
              "      <td>CORN</td>\n",
              "      <td>CORN, GRAIN</td>\n",
              "      <td>3,300</td>\n",
              "      <td>105,600</td>\n",
              "      <td>32.0</td>\n",
              "    </tr>\n",
              "    <tr>\n",
              "      <th>3</th>\n",
              "      <td>1953</td>\n",
              "      <td>AITKIN</td>\n",
              "      <td>CORN</td>\n",
              "      <td>CORN, GRAIN</td>\n",
              "      <td>3,000</td>\n",
              "      <td>87,000</td>\n",
              "      <td>29.0</td>\n",
              "    </tr>\n",
              "    <tr>\n",
              "      <th>4</th>\n",
              "      <td>1954</td>\n",
              "      <td>AITKIN</td>\n",
              "      <td>CORN</td>\n",
              "      <td>CORN, GRAIN</td>\n",
              "      <td>2,700</td>\n",
              "      <td>86,400</td>\n",
              "      <td>32.0</td>\n",
              "    </tr>\n",
              "    <tr>\n",
              "      <th>...</th>\n",
              "      <td>...</td>\n",
              "      <td>...</td>\n",
              "      <td>...</td>\n",
              "      <td>...</td>\n",
              "      <td>...</td>\n",
              "      <td>...</td>\n",
              "      <td>...</td>\n",
              "    </tr>\n",
              "    <tr>\n",
              "      <th>108</th>\n",
              "      <td>2020</td>\n",
              "      <td>AITKIN</td>\n",
              "      <td>CORN</td>\n",
              "      <td>CORN, GRAIN</td>\n",
              "      <td>690</td>\n",
              "      <td>92,900</td>\n",
              "      <td>134.6</td>\n",
              "    </tr>\n",
              "    <tr>\n",
              "      <th>109</th>\n",
              "      <td>2020</td>\n",
              "      <td>AITKIN</td>\n",
              "      <td>CORN</td>\n",
              "      <td>CORN, SILAGE</td>\n",
              "      <td>1,300</td>\n",
              "      <td>NaN</td>\n",
              "      <td>NaN</td>\n",
              "    </tr>\n",
              "    <tr>\n",
              "      <th>110</th>\n",
              "      <td>2021</td>\n",
              "      <td>AITKIN</td>\n",
              "      <td>CORN</td>\n",
              "      <td>CORN</td>\n",
              "      <td>NaN</td>\n",
              "      <td>NaN</td>\n",
              "      <td>NaN</td>\n",
              "    </tr>\n",
              "    <tr>\n",
              "      <th>111</th>\n",
              "      <td>2021</td>\n",
              "      <td>AITKIN</td>\n",
              "      <td>CORN</td>\n",
              "      <td>CORN, GRAIN</td>\n",
              "      <td>800</td>\n",
              "      <td>76,000</td>\n",
              "      <td>95.0</td>\n",
              "    </tr>\n",
              "    <tr>\n",
              "      <th>112</th>\n",
              "      <td>2021</td>\n",
              "      <td>AITKIN</td>\n",
              "      <td>CORN</td>\n",
              "      <td>CORN, SILAGE</td>\n",
              "      <td>880</td>\n",
              "      <td>NaN</td>\n",
              "      <td>NaN</td>\n",
              "    </tr>\n",
              "  </tbody>\n",
              "</table>\n",
              "<p>113 rows × 7 columns</p>\n",
              "</div>"
            ],
            "text/plain": [
              "     Year  County Commodity          Crop ACRES HARVESTED  \\\n",
              "0    1950  AITKIN      CORN   CORN, GRAIN           4,800   \n",
              "1    1951  AITKIN      CORN   CORN, GRAIN           4,000   \n",
              "2    1952  AITKIN      CORN   CORN, GRAIN           3,300   \n",
              "3    1953  AITKIN      CORN   CORN, GRAIN           3,000   \n",
              "4    1954  AITKIN      CORN   CORN, GRAIN           2,700   \n",
              "..    ...     ...       ...           ...             ...   \n",
              "108  2020  AITKIN      CORN   CORN, GRAIN             690   \n",
              "109  2020  AITKIN      CORN  CORN, SILAGE           1,300   \n",
              "110  2021  AITKIN      CORN          CORN             NaN   \n",
              "111  2021  AITKIN      CORN   CORN, GRAIN             800   \n",
              "112  2021  AITKIN      CORN  CORN, SILAGE             880   \n",
              "\n",
              "    PRODUCTION, MEASURED IN BU  YIELD, MEASURED IN BU / ACRE  \n",
              "0                       72,000                          15.0  \n",
              "1                      128,000                          32.0  \n",
              "2                      105,600                          32.0  \n",
              "3                       87,000                          29.0  \n",
              "4                       86,400                          32.0  \n",
              "..                         ...                           ...  \n",
              "108                     92,900                         134.6  \n",
              "109                        NaN                           NaN  \n",
              "110                        NaN                           NaN  \n",
              "111                     76,000                          95.0  \n",
              "112                        NaN                           NaN  \n",
              "\n",
              "[113 rows x 7 columns]"
            ]
          },
          "execution_count": 142,
          "metadata": {},
          "output_type": "execute_result"
        }
      ],
      "source": [
        "stlcorn = crops['AITKIN']['CORN']\n",
        "stlcorn"
      ]
    },
    {
      "cell_type": "code",
      "execution_count": null,
      "metadata": {},
      "outputs": [],
      "source": [
        "crops['ST. LOUIS']['CORN']"
      ]
    },
    {
      "cell_type": "code",
      "execution_count": 81,
      "metadata": {
        "id": "oUZA0omAsaWu"
      },
      "outputs": [
        {
          "data": {
            "text/plain": [
              "<Axes: >"
            ]
          },
          "execution_count": 81,
          "metadata": {},
          "output_type": "execute_result"
        },
        {
          "data": {
            "image/png": "[encoded data removed]",
            "text/plain": [
              "<Figure size 432x288 with 1 Axes>"
            ]
          },
          "metadata": {
            "needs_background": "light"
          },
          "output_type": "display_data"
        }
      ],
      "source": [
        "station_dict['KDYT0'].dropna().plot()"
      ]
    },
    {
      "cell_type": "code",
      "execution_count": 101,
      "metadata": {
        "id": "NDJe_HhKDM-Y"
      },
      "outputs": [
        {
          "data": {
            "text/plain": [
              "<Axes: xlabel='date'>"
            ]
          },
          "execution_count": 101,
          "metadata": {},
          "output_type": "execute_result"
        },
        {
          "data": {
            "image/png": "[encoded data removed]",
            "text/plain": [
              "<Figure size 432x288 with 1 Axes>"
            ]
          },
          "metadata": {
            "needs_background": "light"
          },
          "output_type": "display_data"
        }
      ],
      "source": [
        "station_dict_imp['KDYT0'][['tavg', 'tmin', 'tmax', 'prcp']][-500:].plot()"
      ]
    },
    {
      "cell_type": "code",
      "execution_count": 103,
      "metadata": {
        "id": "-mAO-fuXEZ_H"
      },
      "outputs": [
        {
          "data": {
            "text/html": [
              "<div>\n",
              "<style scoped>\n",
              "    .dataframe tbody tr th:only-of-type {\n",
              "        vertical-align: middle;\n",
              "    }\n",
              "\n",
              "    .dataframe tbody tr th {\n",
              "        vertical-align: top;\n",
              "    }\n",
              "\n",
              "    .dataframe thead th {\n",
              "        text-align: right;\n",
              "    }\n",
              "</style>\n",
              "<table border=\"1\" class=\"dataframe\">\n",
              "  <thead>\n",
              "    <tr style=\"text-align: right;\">\n",
              "      <th></th>\n",
              "      <th>county_abbr</th>\n",
              "      <th>0</th>\n",
              "    </tr>\n",
              "  </thead>\n",
              "  <tbody>\n",
              "    <tr>\n",
              "      <th>0</th>\n",
              "      <td>AITKIN</td>\n",
              "      <td>KHZX0</td>\n",
              "    </tr>\n",
              "    <tr>\n",
              "      <th>1</th>\n",
              "      <td>ANOKA</td>\n",
              "      <td>9NRIJ</td>\n",
              "    </tr>\n",
              "    <tr>\n",
              "      <th>2</th>\n",
              "      <td>BECKER</td>\n",
              "      <td>KDTL0</td>\n",
              "    </tr>\n",
              "    <tr>\n",
              "      <th>3</th>\n",
              "      <td>BELTRAMI</td>\n",
              "      <td>72755</td>\n",
              "    </tr>\n",
              "    <tr>\n",
              "      <th>4</th>\n",
              "      <td>BENTON</td>\n",
              "      <td>72655</td>\n",
              "    </tr>\n",
              "    <tr>\n",
              "      <th>...</th>\n",
              "      <td>...</td>\n",
              "      <td>...</td>\n",
              "    </tr>\n",
              "    <tr>\n",
              "      <th>82</th>\n",
              "      <td>WATONWAN</td>\n",
              "      <td>KJYG0</td>\n",
              "    </tr>\n",
              "    <tr>\n",
              "      <th>83</th>\n",
              "      <td>WILKIN</td>\n",
              "      <td>KFFM0</td>\n",
              "    </tr>\n",
              "    <tr>\n",
              "      <th>84</th>\n",
              "      <td>WINONA</td>\n",
              "      <td>KONA0</td>\n",
              "    </tr>\n",
              "    <tr>\n",
              "      <th>85</th>\n",
              "      <td>WRIGHT</td>\n",
              "      <td>KCFE0</td>\n",
              "    </tr>\n",
              "    <tr>\n",
              "      <th>86</th>\n",
              "      <td>YELLOW MEDICINE</td>\n",
              "      <td>KGDB0</td>\n",
              "    </tr>\n",
              "  </tbody>\n",
              "</table>\n",
              "<p>87 rows × 2 columns</p>\n",
              "</div>"
            ],
            "text/plain": [
              "        county_abbr      0\n",
              "0            AITKIN  KHZX0\n",
              "1             ANOKA  9NRIJ\n",
              "2            BECKER  KDTL0\n",
              "3          BELTRAMI  72755\n",
              "4            BENTON  72655\n",
              "..              ...    ...\n",
              "82         WATONWAN  KJYG0\n",
              "83           WILKIN  KFFM0\n",
              "84           WINONA  KONA0\n",
              "85           WRIGHT  KCFE0\n",
              "86  YELLOW MEDICINE  KGDB0\n",
              "\n",
              "[87 rows x 2 columns]"
            ]
          },
          "execution_count": 103,
          "metadata": {},
          "output_type": "execute_result"
        }
      ],
      "source": [
        "closest_stations = find_closest_n(county_loc_ds,station_loc_ds,county_ds_abbr[county_ds_abbr.columns[-1]],station_ds[station_ds.columns[0]],n=1)\n",
        "closest_stations"
      ]
    },
    {
      "cell_type": "code",
      "execution_count": null,
      "metadata": {
        "colab": {
          "base_uri": "https://localhost:8080/",
          "height": 424
        },
        "id": "mkEyQ9Omp0Uu",
        "outputId": "6c346364-cd1f-4a02-fe66-15ef8a68014a"
      },
      "outputs": [
        {
          "data": {
            "text/html": [
              "\n",
              "  <div id=\"df-e451a096-3827-4c0b-8595-fc0846bfa8d7\">\n",
              "    <div class=\"colab-df-container\">\n",
              "      <div>\n",
              "<style scoped>\n",
              "    .dataframe tbody tr th:only-of-type {\n",
              "        vertical-align: middle;\n",
              "    }\n",
              "\n",
              "    .dataframe tbody tr th {\n",
              "        vertical-align: top;\n",
              "    }\n",
              "\n",
              "    .dataframe thead th {\n",
              "        text-align: right;\n",
              "    }\n",
              "</style>\n",
              "<table border=\"1\" class=\"dataframe\">\n",
              "  <thead>\n",
              "    <tr style=\"text-align: right;\">\n",
              "      <th></th>\n",
              "      <th>county_abbr</th>\n",
              "      <th>0</th>\n",
              "      <th>1</th>\n",
              "    </tr>\n",
              "  </thead>\n",
              "  <tbody>\n",
              "    <tr>\n",
              "      <th>0</th>\n",
              "      <td>AITKIN</td>\n",
              "      <td>KHZX0</td>\n",
              "      <td>KAIT0</td>\n",
              "    </tr>\n",
              "    <tr>\n",
              "      <th>1</th>\n",
              "      <td>ANOKA</td>\n",
              "      <td>9NRIJ</td>\n",
              "      <td>KMIC0</td>\n",
              "    </tr>\n",
              "    <tr>\n",
              "      <th>2</th>\n",
              "      <td>BECKER</td>\n",
              "      <td>KDTL0</td>\n",
              "      <td>KFFM0</td>\n",
              "    </tr>\n",
              "    <tr>\n",
              "      <th>3</th>\n",
              "      <td>BELTRAMI</td>\n",
              "      <td>72755</td>\n",
              "      <td>KY490</td>\n",
              "    </tr>\n",
              "    <tr>\n",
              "      <th>4</th>\n",
              "      <td>BENTON</td>\n",
              "      <td>72655</td>\n",
              "      <td>KPNM0</td>\n",
              "    </tr>\n",
              "    <tr>\n",
              "      <th>...</th>\n",
              "      <td>...</td>\n",
              "      <td>...</td>\n",
              "      <td>...</td>\n",
              "    </tr>\n",
              "    <tr>\n",
              "      <th>82</th>\n",
              "      <td>WATONWAN</td>\n",
              "      <td>KJYG0</td>\n",
              "      <td>KULM0</td>\n",
              "    </tr>\n",
              "    <tr>\n",
              "      <th>83</th>\n",
              "      <td>WILKIN</td>\n",
              "      <td>KFFM0</td>\n",
              "      <td>KETH0</td>\n",
              "    </tr>\n",
              "    <tr>\n",
              "      <th>84</th>\n",
              "      <td>WINONA</td>\n",
              "      <td>KONA0</td>\n",
              "      <td>KFKA0</td>\n",
              "    </tr>\n",
              "    <tr>\n",
              "      <th>85</th>\n",
              "      <td>WRIGHT</td>\n",
              "      <td>KCFE0</td>\n",
              "      <td>KMGG0</td>\n",
              "    </tr>\n",
              "    <tr>\n",
              "      <th>86</th>\n",
              "      <td>YELLOW MEDICINE</td>\n",
              "      <td>KGDB0</td>\n",
              "      <td>KMVE0</td>\n",
              "    </tr>\n",
              "  </tbody>\n",
              "</table>\n",
              "<p>87 rows × 3 columns</p>\n",
              "</div>\n",
              "      <button class=\"colab-df-convert\" onclick=\"convertToInteractive('df-e451a096-3827-4c0b-8595-fc0846bfa8d7')\"\n",
              "              title=\"Convert this dataframe to an interactive table.\"\n",
              "              style=\"display:none;\">\n",
              "        \n",
              "  <svg xmlns=\"http://www.w3.org/2000/svg\" height=\"24px\"viewBox=\"0 0 24 24\"\n",
              "       width=\"24px\">\n",
              "    <path d=\"M0 0h24v24H0V0z\" fill=\"none\"/>\n",
              "    <path d=\"M18.56 5.44l.94 2.06.94-2.06 2.06-.94-2.06-.94-.94-2.06-.94 2.06-2.06.94zm-11 1L8.5 8.5l.94-2.06 2.06-.94-2.06-.94L8.5 2.5l-.94 2.06-2.06.94zm10 10l.94 2.06.94-2.06 2.06-.94-2.06-.94-.94-2.06-.94 2.06-2.06.94z\"/><path d=\"M17.41 7.96l-1.37-1.37c-.4-.4-.92-.59-1.43-.59-.52 0-1.04.2-1.43.59L10.3 9.45l-7.72 7.72c-.78.78-.78 2.05 0 2.83L4 21.41c.39.39.9.59 1.41.59.51 0 1.02-.2 1.41-.59l7.78-7.78 2.81-2.81c.8-.78.8-2.07 0-2.86zM5.41 20L4 18.59l7.72-7.72 1.47 1.35L5.41 20z\"/>\n",
              "  </svg>\n",
              "      </button>\n",
              "      \n",
              "  <style>\n",
              "    .colab-df-container {\n",
              "      display:flex;\n",
              "      flex-wrap:wrap;\n",
              "      gap: 12px;\n",
              "    }\n",
              "\n",
              "    .colab-df-convert {\n",
              "      background-color: #E8F0FE;\n",
              "      border: none;\n",
              "      border-radius: 50%;\n",
              "      cursor: pointer;\n",
              "      display: none;\n",
              "      fill: #1967D2;\n",
              "      height: 32px;\n",
              "      padding: 0 0 0 0;\n",
              "      width: 32px;\n",
              "    }\n",
              "\n",
              "    .colab-df-convert:hover {\n",
              "      background-color: #E2EBFA;\n",
              "      box-shadow: 0px 1px 2px rgba(60, 64, 67, 0.3), 0px 1px 3px 1px rgba(60, 64, 67, 0.15);\n",
              "      fill: #174EA6;\n",
              "    }\n",
              "\n",
              "    [theme=dark] .colab-df-convert {\n",
              "      background-color: #3B4455;\n",
              "      fill: #D2E3FC;\n",
              "    }\n",
              "\n",
              "    [theme=dark] .colab-df-convert:hover {\n",
              "      background-color: #434B5C;\n",
              "      box-shadow: 0px 1px 3px 1px rgba(0, 0, 0, 0.15);\n",
              "      filter: drop-shadow(0px 1px 2px rgba(0, 0, 0, 0.3));\n",
              "      fill: #FFFFFF;\n",
              "    }\n",
              "  </style>\n",
              "\n",
              "      <script>\n",
              "        const buttonEl =\n",
              "          document.querySelector('#df-e451a096-3827-4c0b-8595-fc0846bfa8d7 button.colab-df-convert');\n",
              "        buttonEl.style.display =\n",
              "          google.colab.kernel.accessAllowed ? 'block' : 'none';\n",
              "\n",
              "        async function convertToInteractive(key) {\n",
              "          const element = document.querySelector('#df-e451a096-3827-4c0b-8595-fc0846bfa8d7');\n",
              "          const dataTable =\n",
              "            await google.colab.kernel.invokeFunction('convertToInteractive',\n",
              "                                                     [key], {});\n",
              "          if (!dataTable) return;\n",
              "\n",
              "          const docLinkHtml = 'Like what you see? Visit the ' +\n",
              "            '<a target=\"_blank\" href=https://colab.research.google.com/notebooks/data_table.ipynb>data table notebook</a>'\n",
              "            + ' to learn more about interactive tables.';\n",
              "          element.innerHTML = '';\n",
              "          dataTable['output_type'] = 'display_data';\n",
              "          await google.colab.output.renderOutput(dataTable, element);\n",
              "          const docLink = document.createElement('div');\n",
              "          docLink.innerHTML = docLinkHtml;\n",
              "          element.appendChild(docLink);\n",
              "        }\n",
              "      </script>\n",
              "    </div>\n",
              "  </div>\n",
              "  "
            ],
            "text/plain": [
              "        county_abbr      0      1\n",
              "0            AITKIN  KHZX0  KAIT0\n",
              "1             ANOKA  9NRIJ  KMIC0\n",
              "2            BECKER  KDTL0  KFFM0\n",
              "3          BELTRAMI  72755  KY490\n",
              "4            BENTON  72655  KPNM0\n",
              "..              ...    ...    ...\n",
              "82         WATONWAN  KJYG0  KULM0\n",
              "83           WILKIN  KFFM0  KETH0\n",
              "84           WINONA  KONA0  KFKA0\n",
              "85           WRIGHT  KCFE0  KMGG0\n",
              "86  YELLOW MEDICINE  KGDB0  KMVE0\n",
              "\n",
              "[87 rows x 3 columns]"
            ]
          },
          "execution_count": 129,
          "metadata": {},
          "output_type": "execute_result"
        }
      ],
      "source": [
        "ds\n",
        "ds[\"county_abbr\"]\n",
        "station_dict_imp\n",
        "ds"
      ]
    },
    {
      "cell_type": "code",
      "execution_count": null,
      "metadata": {
        "colab": {
          "base_uri": "https://localhost:8080/",
          "height": 424
        },
        "id": "6BZrdLYwp3y3",
        "outputId": "e681501e-85fb-4ac5-a95a-c5f3b9d09228"
      },
      "outputs": [
        {
          "data": {
            "text/html": [
              "\n",
              "  <div id=\"df-318b2fdb-0253-4e4a-a67e-6e805baa915b\">\n",
              "    <div class=\"colab-df-container\">\n",
              "      <div>\n",
              "<style scoped>\n",
              "    .dataframe tbody tr th:only-of-type {\n",
              "        vertical-align: middle;\n",
              "    }\n",
              "\n",
              "    .dataframe tbody tr th {\n",
              "        vertical-align: top;\n",
              "    }\n",
              "\n",
              "    .dataframe thead th {\n",
              "        text-align: right;\n",
              "    }\n",
              "</style>\n",
              "<table border=\"1\" class=\"dataframe\">\n",
              "  <thead>\n",
              "    <tr style=\"text-align: right;\">\n",
              "      <th></th>\n",
              "      <th>Year</th>\n",
              "      <th>County</th>\n",
              "      <th>Commodity</th>\n",
              "      <th>Crop</th>\n",
              "      <th>ACRES HARVESTED</th>\n",
              "      <th>PRODUCTION, MEASURED IN BU</th>\n",
              "      <th>YIELD, MEASURED IN BU / ACRE</th>\n",
              "    </tr>\n",
              "  </thead>\n",
              "  <tbody>\n",
              "    <tr>\n",
              "      <th>0</th>\n",
              "      <td>1950</td>\n",
              "      <td>AITKIN</td>\n",
              "      <td>CORN</td>\n",
              "      <td>CORN, GRAIN</td>\n",
              "      <td>4,800</td>\n",
              "      <td>72,000</td>\n",
              "      <td>15.0</td>\n",
              "    </tr>\n",
              "    <tr>\n",
              "      <th>1</th>\n",
              "      <td>1951</td>\n",
              "      <td>AITKIN</td>\n",
              "      <td>CORN</td>\n",
              "      <td>CORN, GRAIN</td>\n",
              "      <td>4,000</td>\n",
              "      <td>128,000</td>\n",
              "      <td>32.0</td>\n",
              "    </tr>\n",
              "    <tr>\n",
              "      <th>2</th>\n",
              "      <td>1952</td>\n",
              "      <td>AITKIN</td>\n",
              "      <td>CORN</td>\n",
              "      <td>CORN, GRAIN</td>\n",
              "      <td>3,300</td>\n",
              "      <td>105,600</td>\n",
              "      <td>32.0</td>\n",
              "    </tr>\n",
              "    <tr>\n",
              "      <th>3</th>\n",
              "      <td>1953</td>\n",
              "      <td>AITKIN</td>\n",
              "      <td>CORN</td>\n",
              "      <td>CORN, GRAIN</td>\n",
              "      <td>3,000</td>\n",
              "      <td>87,000</td>\n",
              "      <td>29.0</td>\n",
              "    </tr>\n",
              "    <tr>\n",
              "      <th>4</th>\n",
              "      <td>1954</td>\n",
              "      <td>AITKIN</td>\n",
              "      <td>CORN</td>\n",
              "      <td>CORN, GRAIN</td>\n",
              "      <td>2,700</td>\n",
              "      <td>86,400</td>\n",
              "      <td>32.0</td>\n",
              "    </tr>\n",
              "    <tr>\n",
              "      <th>...</th>\n",
              "      <td>...</td>\n",
              "      <td>...</td>\n",
              "      <td>...</td>\n",
              "      <td>...</td>\n",
              "      <td>...</td>\n",
              "      <td>...</td>\n",
              "      <td>...</td>\n",
              "    </tr>\n",
              "    <tr>\n",
              "      <th>108</th>\n",
              "      <td>2020</td>\n",
              "      <td>AITKIN</td>\n",
              "      <td>CORN</td>\n",
              "      <td>CORN, GRAIN</td>\n",
              "      <td>690</td>\n",
              "      <td>92,900</td>\n",
              "      <td>134.6</td>\n",
              "    </tr>\n",
              "    <tr>\n",
              "      <th>109</th>\n",
              "      <td>2020</td>\n",
              "      <td>AITKIN</td>\n",
              "      <td>CORN</td>\n",
              "      <td>CORN, SILAGE</td>\n",
              "      <td>1,300</td>\n",
              "      <td>NaN</td>\n",
              "      <td>NaN</td>\n",
              "    </tr>\n",
              "    <tr>\n",
              "      <th>110</th>\n",
              "      <td>2021</td>\n",
              "      <td>AITKIN</td>\n",
              "      <td>CORN</td>\n",
              "      <td>CORN</td>\n",
              "      <td>NaN</td>\n",
              "      <td>NaN</td>\n",
              "      <td>NaN</td>\n",
              "    </tr>\n",
              "    <tr>\n",
              "      <th>111</th>\n",
              "      <td>2021</td>\n",
              "      <td>AITKIN</td>\n",
              "      <td>CORN</td>\n",
              "      <td>CORN, GRAIN</td>\n",
              "      <td>800</td>\n",
              "      <td>76,000</td>\n",
              "      <td>95.0</td>\n",
              "    </tr>\n",
              "    <tr>\n",
              "      <th>112</th>\n",
              "      <td>2021</td>\n",
              "      <td>AITKIN</td>\n",
              "      <td>CORN</td>\n",
              "      <td>CORN, SILAGE</td>\n",
              "      <td>880</td>\n",
              "      <td>NaN</td>\n",
              "      <td>NaN</td>\n",
              "    </tr>\n",
              "  </tbody>\n",
              "</table>\n",
              "<p>113 rows × 7 columns</p>\n",
              "</div>\n",
              "      <button class=\"colab-df-convert\" onclick=\"convertToInteractive('df-318b2fdb-0253-4e4a-a67e-6e805baa915b')\"\n",
              "              title=\"Convert this dataframe to an interactive table.\"\n",
              "              style=\"display:none;\">\n",
              "        \n",
              "  <svg xmlns=\"http://www.w3.org/2000/svg\" height=\"24px\"viewBox=\"0 0 24 24\"\n",
              "       width=\"24px\">\n",
              "    <path d=\"M0 0h24v24H0V0z\" fill=\"none\"/>\n",
              "    <path d=\"M18.56 5.44l.94 2.06.94-2.06 2.06-.94-2.06-.94-.94-2.06-.94 2.06-2.06.94zm-11 1L8.5 8.5l.94-2.06 2.06-.94-2.06-.94L8.5 2.5l-.94 2.06-2.06.94zm10 10l.94 2.06.94-2.06 2.06-.94-2.06-.94-.94-2.06-.94 2.06-2.06.94z\"/><path d=\"M17.41 7.96l-1.37-1.37c-.4-.4-.92-.59-1.43-.59-.52 0-1.04.2-1.43.59L10.3 9.45l-7.72 7.72c-.78.78-.78 2.05 0 2.83L4 21.41c.39.39.9.59 1.41.59.51 0 1.02-.2 1.41-.59l7.78-7.78 2.81-2.81c.8-.78.8-2.07 0-2.86zM5.41 20L4 18.59l7.72-7.72 1.47 1.35L5.41 20z\"/>\n",
              "  </svg>\n",
              "      </button>\n",
              "      \n",
              "  <style>\n",
              "    .colab-df-container {\n",
              "      display:flex;\n",
              "      flex-wrap:wrap;\n",
              "      gap: 12px;\n",
              "    }\n",
              "\n",
              "    .colab-df-convert {\n",
              "      background-color: #E8F0FE;\n",
              "      border: none;\n",
              "      border-radius: 50%;\n",
              "      cursor: pointer;\n",
              "      display: none;\n",
              "      fill: #1967D2;\n",
              "      height: 32px;\n",
              "      padding: 0 0 0 0;\n",
              "      width: 32px;\n",
              "    }\n",
              "\n",
              "    .colab-df-convert:hover {\n",
              "      background-color: #E2EBFA;\n",
              "      box-shadow: 0px 1px 2px rgba(60, 64, 67, 0.3), 0px 1px 3px 1px rgba(60, 64, 67, 0.15);\n",
              "      fill: #174EA6;\n",
              "    }\n",
              "\n",
              "    [theme=dark] .colab-df-convert {\n",
              "      background-color: #3B4455;\n",
              "      fill: #D2E3FC;\n",
              "    }\n",
              "\n",
              "    [theme=dark] .colab-df-convert:hover {\n",
              "      background-color: #434B5C;\n",
              "      box-shadow: 0px 1px 3px 1px rgba(0, 0, 0, 0.15);\n",
              "      filter: drop-shadow(0px 1px 2px rgba(0, 0, 0, 0.3));\n",
              "      fill: #FFFFFF;\n",
              "    }\n",
              "  </style>\n",
              "\n",
              "      <script>\n",
              "        const buttonEl =\n",
              "          document.querySelector('#df-318b2fdb-0253-4e4a-a67e-6e805baa915b button.colab-df-convert');\n",
              "        buttonEl.style.display =\n",
              "          google.colab.kernel.accessAllowed ? 'block' : 'none';\n",
              "\n",
              "        async function convertToInteractive(key) {\n",
              "          const element = document.querySelector('#df-318b2fdb-0253-4e4a-a67e-6e805baa915b');\n",
              "          const dataTable =\n",
              "            await google.colab.kernel.invokeFunction('convertToInteractive',\n",
              "                                                     [key], {});\n",
              "          if (!dataTable) return;\n",
              "\n",
              "          const docLinkHtml = 'Like what you see? Visit the ' +\n",
              "            '<a target=\"_blank\" href=https://colab.research.google.com/notebooks/data_table.ipynb>data table notebook</a>'\n",
              "            + ' to learn more about interactive tables.';\n",
              "          element.innerHTML = '';\n",
              "          dataTable['output_type'] = 'display_data';\n",
              "          await google.colab.output.renderOutput(dataTable, element);\n",
              "          const docLink = document.createElement('div');\n",
              "          docLink.innerHTML = docLinkHtml;\n",
              "          element.appendChild(docLink);\n",
              "        }\n",
              "      </script>\n",
              "    </div>\n",
              "  </div>\n",
              "  "
            ],
            "text/plain": [
              "     Year  County Commodity          Crop ACRES HARVESTED  \\\n",
              "0    1950  AITKIN      CORN   CORN, GRAIN           4,800   \n",
              "1    1951  AITKIN      CORN   CORN, GRAIN           4,000   \n",
              "2    1952  AITKIN      CORN   CORN, GRAIN           3,300   \n",
              "3    1953  AITKIN      CORN   CORN, GRAIN           3,000   \n",
              "4    1954  AITKIN      CORN   CORN, GRAIN           2,700   \n",
              "..    ...     ...       ...           ...             ...   \n",
              "108  2020  AITKIN      CORN   CORN, GRAIN             690   \n",
              "109  2020  AITKIN      CORN  CORN, SILAGE           1,300   \n",
              "110  2021  AITKIN      CORN          CORN             NaN   \n",
              "111  2021  AITKIN      CORN   CORN, GRAIN             800   \n",
              "112  2021  AITKIN      CORN  CORN, SILAGE             880   \n",
              "\n",
              "    PRODUCTION, MEASURED IN BU  YIELD, MEASURED IN BU / ACRE  \n",
              "0                       72,000                          15.0  \n",
              "1                      128,000                          32.0  \n",
              "2                      105,600                          32.0  \n",
              "3                       87,000                          29.0  \n",
              "4                       86,400                          32.0  \n",
              "..                         ...                           ...  \n",
              "108                     92,900                         134.6  \n",
              "109                        NaN                           NaN  \n",
              "110                        NaN                           NaN  \n",
              "111                     76,000                          95.0  \n",
              "112                        NaN                           NaN  \n",
              "\n",
              "[113 rows x 7 columns]"
            ]
          },
          "execution_count": 128,
          "metadata": {},
          "output_type": "execute_result"
        }
      ],
      "source": [
        "crops[ds[\"county_abbr\"][0]][\"CORN\"]\n"
      ]
    },
    {
      "cell_type": "code",
      "execution_count": null,
      "metadata": {
        "colab": {
          "base_uri": "https://localhost:8080/",
          "height": 614
        },
        "id": "rAGwAA9YtdEX",
        "outputId": "b695577a-372a-41de-b598-25ed7a7b5052"
      },
      "outputs": [
        {
          "data": {
            "text/html": [
              "\n",
              "  <div id=\"df-19620ed4-446f-4798-934c-302a94d91a51\">\n",
              "    <div class=\"colab-df-container\">\n",
              "      <div>\n",
              "<style scoped>\n",
              "    .dataframe tbody tr th:only-of-type {\n",
              "        vertical-align: middle;\n",
              "    }\n",
              "\n",
              "    .dataframe tbody tr th {\n",
              "        vertical-align: top;\n",
              "    }\n",
              "\n",
              "    .dataframe thead th {\n",
              "        text-align: right;\n",
              "    }\n",
              "</style>\n",
              "<table border=\"1\" class=\"dataframe\">\n",
              "  <thead>\n",
              "    <tr style=\"text-align: right;\">\n",
              "      <th></th>\n",
              "      <th>date</th>\n",
              "    </tr>\n",
              "    <tr>\n",
              "      <th>date</th>\n",
              "      <th></th>\n",
              "    </tr>\n",
              "  </thead>\n",
              "  <tbody>\n",
              "    <tr>\n",
              "      <th>2006</th>\n",
              "      <td>175</td>\n",
              "    </tr>\n",
              "    <tr>\n",
              "      <th>2007</th>\n",
              "      <td>332</td>\n",
              "    </tr>\n",
              "    <tr>\n",
              "      <th>2008</th>\n",
              "      <td>199</td>\n",
              "    </tr>\n",
              "    <tr>\n",
              "      <th>2009</th>\n",
              "      <td>350</td>\n",
              "    </tr>\n",
              "    <tr>\n",
              "      <th>2010</th>\n",
              "      <td>322</td>\n",
              "    </tr>\n",
              "    <tr>\n",
              "      <th>2011</th>\n",
              "      <td>350</td>\n",
              "    </tr>\n",
              "    <tr>\n",
              "      <th>2012</th>\n",
              "      <td>272</td>\n",
              "    </tr>\n",
              "    <tr>\n",
              "      <th>2013</th>\n",
              "      <td>279</td>\n",
              "    </tr>\n",
              "    <tr>\n",
              "      <th>2014</th>\n",
              "      <td>74</td>\n",
              "    </tr>\n",
              "    <tr>\n",
              "      <th>2015</th>\n",
              "      <td>264</td>\n",
              "    </tr>\n",
              "    <tr>\n",
              "      <th>2016</th>\n",
              "      <td>323</td>\n",
              "    </tr>\n",
              "    <tr>\n",
              "      <th>2017</th>\n",
              "      <td>348</td>\n",
              "    </tr>\n",
              "    <tr>\n",
              "      <th>2018</th>\n",
              "      <td>344</td>\n",
              "    </tr>\n",
              "    <tr>\n",
              "      <th>2019</th>\n",
              "      <td>344</td>\n",
              "    </tr>\n",
              "    <tr>\n",
              "      <th>2020</th>\n",
              "      <td>327</td>\n",
              "    </tr>\n",
              "    <tr>\n",
              "      <th>2021</th>\n",
              "      <td>364</td>\n",
              "    </tr>\n",
              "    <tr>\n",
              "      <th>2022</th>\n",
              "      <td>167</td>\n",
              "    </tr>\n",
              "  </tbody>\n",
              "</table>\n",
              "</div>\n",
              "      <button class=\"colab-df-convert\" onclick=\"convertToInteractive('df-19620ed4-446f-4798-934c-302a94d91a51')\"\n",
              "              title=\"Convert this dataframe to an interactive table.\"\n",
              "              style=\"display:none;\">\n",
              "        \n",
              "  <svg xmlns=\"http://www.w3.org/2000/svg\" height=\"24px\"viewBox=\"0 0 24 24\"\n",
              "       width=\"24px\">\n",
              "    <path d=\"M0 0h24v24H0V0z\" fill=\"none\"/>\n",
              "    <path d=\"M18.56 5.44l.94 2.06.94-2.06 2.06-.94-2.06-.94-.94-2.06-.94 2.06-2.06.94zm-11 1L8.5 8.5l.94-2.06 2.06-.94-2.06-.94L8.5 2.5l-.94 2.06-2.06.94zm10 10l.94 2.06.94-2.06 2.06-.94-2.06-.94-.94-2.06-.94 2.06-2.06.94z\"/><path d=\"M17.41 7.96l-1.37-1.37c-.4-.4-.92-.59-1.43-.59-.52 0-1.04.2-1.43.59L10.3 9.45l-7.72 7.72c-.78.78-.78 2.05 0 2.83L4 21.41c.39.39.9.59 1.41.59.51 0 1.02-.2 1.41-.59l7.78-7.78 2.81-2.81c.8-.78.8-2.07 0-2.86zM5.41 20L4 18.59l7.72-7.72 1.47 1.35L5.41 20z\"/>\n",
              "  </svg>\n",
              "      </button>\n",
              "      \n",
              "  <style>\n",
              "    .colab-df-container {\n",
              "      display:flex;\n",
              "      flex-wrap:wrap;\n",
              "      gap: 12px;\n",
              "    }\n",
              "\n",
              "    .colab-df-convert {\n",
              "      background-color: #E8F0FE;\n",
              "      border: none;\n",
              "      border-radius: 50%;\n",
              "      cursor: pointer;\n",
              "      display: none;\n",
              "      fill: #1967D2;\n",
              "      height: 32px;\n",
              "      padding: 0 0 0 0;\n",
              "      width: 32px;\n",
              "    }\n",
              "\n",
              "    .colab-df-convert:hover {\n",
              "      background-color: #E2EBFA;\n",
              "      box-shadow: 0px 1px 2px rgba(60, 64, 67, 0.3), 0px 1px 3px 1px rgba(60, 64, 67, 0.15);\n",
              "      fill: #174EA6;\n",
              "    }\n",
              "\n",
              "    [theme=dark] .colab-df-convert {\n",
              "      background-color: #3B4455;\n",
              "      fill: #D2E3FC;\n",
              "    }\n",
              "\n",
              "    [theme=dark] .colab-df-convert:hover {\n",
              "      background-color: #434B5C;\n",
              "      box-shadow: 0px 1px 3px 1px rgba(0, 0, 0, 0.15);\n",
              "      filter: drop-shadow(0px 1px 2px rgba(0, 0, 0, 0.3));\n",
              "      fill: #FFFFFF;\n",
              "    }\n",
              "  </style>\n",
              "\n",
              "      <script>\n",
              "        const buttonEl =\n",
              "          document.querySelector('#df-19620ed4-446f-4798-934c-302a94d91a51 button.colab-df-convert');\n",
              "        buttonEl.style.display =\n",
              "          google.colab.kernel.accessAllowed ? 'block' : 'none';\n",
              "\n",
              "        async function convertToInteractive(key) {\n",
              "          const element = document.querySelector('#df-19620ed4-446f-4798-934c-302a94d91a51');\n",
              "          const dataTable =\n",
              "            await google.colab.kernel.invokeFunction('convertToInteractive',\n",
              "                                                     [key], {});\n",
              "          if (!dataTable) return;\n",
              "\n",
              "          const docLinkHtml = 'Like what you see? Visit the ' +\n",
              "            '<a target=\"_blank\" href=https://colab.research.google.com/notebooks/data_table.ipynb>data table notebook</a>'\n",
              "            + ' to learn more about interactive tables.';\n",
              "          element.innerHTML = '';\n",
              "          dataTable['output_type'] = 'display_data';\n",
              "          await google.colab.output.renderOutput(dataTable, element);\n",
              "          const docLink = document.createElement('div');\n",
              "          docLink.innerHTML = docLinkHtml;\n",
              "          element.appendChild(docLink);\n",
              "        }\n",
              "      </script>\n",
              "    </div>\n",
              "  </div>\n",
              "  "
            ],
            "text/plain": [
              "      date\n",
              "date      \n",
              "2006   175\n",
              "2007   332\n",
              "2008   199\n",
              "2009   350\n",
              "2010   322\n",
              "2011   350\n",
              "2012   272\n",
              "2013   279\n",
              "2014    74\n",
              "2015   264\n",
              "2016   323\n",
              "2017   348\n",
              "2018   344\n",
              "2019   344\n",
              "2020   327\n",
              "2021   364\n",
              "2022   167"
            ]
          },
          "execution_count": 124,
          "metadata": {},
          "output_type": "execute_result"
        }
      ],
      "source": [
        "this = station_dict_imp[ds[0][0]][:][\"date\"]\n",
        "that = pd.DataFrame.from_dict(this)\n",
        "that['date']= pd.to_datetime(that['date'])\n",
        "that.groupby(that.date.dt.year).count()"
      ]
    },
    {
      "cell_type": "code",
      "execution_count": null,
      "metadata": {
        "id": "kD4auOQrre_g"
      },
      "outputs": [],
      "source": [
        "count=0\n",
        "for county in ds[\"county_abbr\"]:\n",
        "  print(county)\n",
        "  try:\n",
        "    county_crops = crops[county][\"CORN\"].Year.unique()\n",
        "  except KeyError:\n",
        "    pass\n",
        "  print(county_crops)\n",
        "  for i in range(2):\n",
        "    this = station_dict_imp[ds[i][count]][\"year\"]\n",
        "    print(ds[i][count])\n",
        "    print(this.unique())\n",
        "  count+=1    "
      ]
    },
    {
      "cell_type": "code",
      "execution_count": null,
      "metadata": {},
      "outputs": [],
      "source": []
    },
    {
      "attachments": {},
      "cell_type": "markdown",
      "metadata": {},
      "source": [
        "# Getting the useful data out"
      ]
    },
    {
      "cell_type": "code",
      "execution_count": 143,
      "metadata": {},
      "outputs": [
        {
          "data": {
            "text/html": [
              "<div>\n",
              "<style scoped>\n",
              "    .dataframe tbody tr th:only-of-type {\n",
              "        vertical-align: middle;\n",
              "    }\n",
              "\n",
              "    .dataframe tbody tr th {\n",
              "        vertical-align: top;\n",
              "    }\n",
              "\n",
              "    .dataframe thead th {\n",
              "        text-align: right;\n",
              "    }\n",
              "</style>\n",
              "<table border=\"1\" class=\"dataframe\">\n",
              "  <thead>\n",
              "    <tr style=\"text-align: right;\">\n",
              "      <th></th>\n",
              "      <th>county_abbr</th>\n",
              "      <th>0</th>\n",
              "    </tr>\n",
              "  </thead>\n",
              "  <tbody>\n",
              "    <tr>\n",
              "      <th>0</th>\n",
              "      <td>AITKIN</td>\n",
              "      <td>KHZX0</td>\n",
              "    </tr>\n",
              "    <tr>\n",
              "      <th>1</th>\n",
              "      <td>ANOKA</td>\n",
              "      <td>9NRIJ</td>\n",
              "    </tr>\n",
              "    <tr>\n",
              "      <th>2</th>\n",
              "      <td>BECKER</td>\n",
              "      <td>KDTL0</td>\n",
              "    </tr>\n",
              "    <tr>\n",
              "      <th>3</th>\n",
              "      <td>BELTRAMI</td>\n",
              "      <td>72755</td>\n",
              "    </tr>\n",
              "    <tr>\n",
              "      <th>4</th>\n",
              "      <td>BENTON</td>\n",
              "      <td>72655</td>\n",
              "    </tr>\n",
              "    <tr>\n",
              "      <th>...</th>\n",
              "      <td>...</td>\n",
              "      <td>...</td>\n",
              "    </tr>\n",
              "    <tr>\n",
              "      <th>82</th>\n",
              "      <td>WATONWAN</td>\n",
              "      <td>KJYG0</td>\n",
              "    </tr>\n",
              "    <tr>\n",
              "      <th>83</th>\n",
              "      <td>WILKIN</td>\n",
              "      <td>KFFM0</td>\n",
              "    </tr>\n",
              "    <tr>\n",
              "      <th>84</th>\n",
              "      <td>WINONA</td>\n",
              "      <td>KONA0</td>\n",
              "    </tr>\n",
              "    <tr>\n",
              "      <th>85</th>\n",
              "      <td>WRIGHT</td>\n",
              "      <td>KCFE0</td>\n",
              "    </tr>\n",
              "    <tr>\n",
              "      <th>86</th>\n",
              "      <td>YELLOW MEDICINE</td>\n",
              "      <td>KGDB0</td>\n",
              "    </tr>\n",
              "  </tbody>\n",
              "</table>\n",
              "<p>87 rows × 2 columns</p>\n",
              "</div>"
            ],
            "text/plain": [
              "        county_abbr      0\n",
              "0            AITKIN  KHZX0\n",
              "1             ANOKA  9NRIJ\n",
              "2            BECKER  KDTL0\n",
              "3          BELTRAMI  72755\n",
              "4            BENTON  72655\n",
              "..              ...    ...\n",
              "82         WATONWAN  KJYG0\n",
              "83           WILKIN  KFFM0\n",
              "84           WINONA  KONA0\n",
              "85           WRIGHT  KCFE0\n",
              "86  YELLOW MEDICINE  KGDB0\n",
              "\n",
              "[87 rows x 2 columns]"
            ]
          },
          "execution_count": 143,
          "metadata": {},
          "output_type": "execute_result"
        }
      ],
      "source": [
        "closest_stations = find_closest_n(county_loc_ds,station_loc_ds,county_ds_abbr[county_ds_abbr.columns[-1]],station_ds[station_ds.columns[0]],n=1)\n",
        "closest_stations"
      ]
    },
    {
      "attachments": {},
      "cell_type": "markdown",
      "metadata": {},
      "source": [
        "sort for only those states where is relevant data"
      ]
    },
    {
      "cell_type": "code",
      "execution_count": 66,
      "metadata": {},
      "outputs": [],
      "source": [
        "def sorter(n):\n",
        "    closest_stations = find_closest_n(county_loc_ds,station_loc_ds,county_ds_abbr[county_ds_abbr.columns[-1]],station_ds[station_ds.columns[0]],n=n)\n",
        "    relevant = closest_stations.copy(deep = True)\n",
        "    l = []\n",
        "    for i in range(len(relevant.values)):\n",
        "        if(relevant['county_abbr'][i] not in crops.keys()):\n",
        "            \n",
        "            l.append(i)\n",
        "    return relevant.drop(l).reset_index(drop = True)"
      ]
    },
    {
      "cell_type": "code",
      "execution_count": 53,
      "metadata": {},
      "outputs": [],
      "source": [
        "del crops['OTHER (COMBINED) COUNTIES']"
      ]
    },
    {
      "cell_type": "code",
      "execution_count": 65,
      "metadata": {},
      "outputs": [],
      "source": [
        "def get_useful_weather_preds_for_commodity(commodity = 'CORN',n=1):\n",
        "    #n means the number of places our algo will look at when making the feature set\n",
        "    relevant = sorter(n)\n",
        "    harvest = []\n",
        "    weather = []\n",
        "    index = 0\n",
        "    for ca in crops.keys():\n",
        "        crps = crops[ca][commodity].dropna()\n",
        "        years = crps['Year']\n",
        "        crp_min_year = np.min(years)\n",
        "        crp_max_year = np.max(years)\n",
        "\n",
        "        if(len(years)!=0 ):\n",
        "            #ha dict lenne:\n",
        "            #corn[ca] = crps\n",
        "            #ha lista lenne:\n",
        "            harvest.append(crps)\n",
        "            temp_l = []\n",
        "            for i in range(n):\n",
        "                temp_l.append(station_dict_imp[relevant[i][index]]\n",
        "                [(station_dict_imp[relevant[i][index]]['year']>=crp_min_year)\n",
        "                & (station_dict_imp[relevant[i][index]]['year']<=crp_max_year)])\n",
        "                \n",
        "            weather.append(temp_l)\n",
        "        index +=1\n",
        "    return weather,harvest    "
      ]
    },
    {
      "cell_type": "code",
      "execution_count": 279,
      "metadata": {},
      "outputs": [
        {
          "data": {
            "text/plain": [
              "dict_keys(['BARLEY', 'CORN', 'FLAXSEED', 'HAY', 'OATS', 'RYE', 'SOYBEANS', 'WHEAT', 'SUGARBEETS', 'SUNFLOWER', 'BEANS', 'CANOLA'])"
            ]
          },
          "execution_count": 279,
          "metadata": {},
          "output_type": "execute_result"
        }
      ],
      "source": [
        "crops[list(crops.keys())[1]].keys()"
      ]
    },
    {
      "cell_type": "code",
      "execution_count": 263,
      "metadata": {},
      "outputs": [
        {
          "data": {
            "text/plain": [
              "78"
            ]
          },
          "execution_count": 263,
          "metadata": {},
          "output_type": "execute_result"
        }
      ],
      "source": [
        "len(list(crops.keys()))"
      ]
    },
    {
      "cell_type": "code",
      "execution_count": 78,
      "metadata": {},
      "outputs": [
        {
          "data": {
            "text/plain": [
              "Timestamp('2021-12-31 00:00:00')"
            ]
          },
          "execution_count": 78,
          "metadata": {},
          "output_type": "execute_result"
        }
      ],
      "source": [
        "weather,corn = get_useful_weather_preds_for_commodity(n=3)\n",
        "min(weather[0][0].index)\n",
        "max(weather[0][0].index)"
      ]
    },
    {
      "cell_type": "code",
      "execution_count": 73,
      "metadata": {},
      "outputs": [
        {
          "data": {
            "text/plain": [
              "Index(['Year', 'County', 'Commodity', 'Crop', 'ACRES HARVESTED',\n",
              "       'PRODUCTION, MEASURED IN BU', 'YIELD, MEASURED IN BU / ACRE'],\n",
              "      dtype='object')"
            ]
          },
          "execution_count": 73,
          "metadata": {},
          "output_type": "execute_result"
        }
      ],
      "source": [
        "corn[0].columns"
      ]
    },
    {
      "attachments": {},
      "cell_type": "markdown",
      "metadata": {},
      "source": [
        "# Feature generation"
      ]
    },
    {
      "attachments": {},
      "cell_type": "markdown",
      "metadata": {},
      "source": [
        "A crops és a weather is egy egy DF\n",
        "ebből csinálunk egy feature setet"
      ]
    },
    {
      "attachments": {},
      "cell_type": "markdown",
      "metadata": {},
      "source": [
        "## corn"
      ]
    },
    {
      "attachments": {},
      "cell_type": "markdown",
      "metadata": {},
      "source": [
        "### Komplex modell"
      ]
    },
    {
      "attachments": {},
      "cell_type": "markdown",
      "metadata": {},
      "source": [
        "In the United States, corn planting typically begins in April or May, depending on the region and weather conditions. Corn emergence can occur as early as late April in the southern United States and as late as June in the northern United States."
      ]
    },
    {
      "attachments": {},
      "cell_type": "markdown",
      "metadata": {},
      "source": [
        "- 'year', year of harvest\n",
        "- 'harv_acr', harvested acres\n",
        "- 'prod_in_bu',PRODUCTION, MEASURED IN BU\n",
        "- 'yield_in_bu_per_acr',YIELD, MEASURED IN BU / ACRE\n",
        "- 'tmax', max temp\n",
        "- 'tavg', avg temp\n",
        "- 'tmin', min temp\n",
        "- 'tmed', med temp\n",
        "- 'prcpts', total percipitation\n",
        "- 'avg_prcpt', avg percipitation \n",
        "- 'tmaxt', max temp trend angle\n",
        "- 'tavgt', avg temp trend angle\n",
        "- 'tmint', min temp trend angle\n",
        "- 'tmedt', med temp trend angle\n",
        "- 'prcptst', total percipitation trend angle\n",
        "- 'avg_prcptt', avg percipitation trend angle\n",
        "- 'tid', the avg temperature deviation from the ideal 15-32°C from april to september\n",
        "- 'tidd', days when the avg tmp is not in the range of 15-32°C from april to september\n",
        "- 'tregslope', slope of the linear regression in temperatures\n",
        "- 'gstagefrost', number of frosty days in the typical planting season of april to june\n",
        "- 'gstagetavg', the avg temperature the typical planting season of april to june\n",
        "- 'gstagemin',the min temperature the typical planting season of april to june\n",
        "- 'gstagemax', the max temperature the typical planting season of april to june"
      ]
    },
    {
      "cell_type": "code",
      "execution_count": null,
      "metadata": {},
      "outputs": [],
      "source": [
        "features = ['year', 'harv_acr', 'prod_in_bu', 'yield_in_bu_per_acr', 'tmax', 'tavg','tmin','tmed','prcpts',\n",
        "            'avg_prcpt','tmaxt','tavgt','tmint', 'tmedt','prcptst', 'avg_prcptt','tid', 'tidd','tregslope',\n",
        "            'gstagefrost', 'gstagetavg','gstagemin','gstagemax']"
      ]
    },
    {
      "cell_type": "code",
      "execution_count": 149,
      "metadata": {},
      "outputs": [],
      "source": [
        "#a df egy weather adathalmaz lesz amiből kiszopkodjuk az adatot\n",
        "def get_features(weather,crop):\n",
        "    training_set = pd.DataFrame(columns=['year','harv_acr','prod_in_bu','yield_in_bu_per_acr','tmax','tavg','tmin','tmed','ti', 'tregslope','gstagefrost', 'gstagetavg', 'gstagemin','gstagemax'])\n",
        "    for i in crop['Year'][(crop['Year']>min(weather['year']))]:\n",
        "        print(i)\n",
        "\n",
        "    return training_set"
      ]
    },
    {
      "cell_type": "code",
      "execution_count": null,
      "metadata": {},
      "outputs": [],
      "source": [
        "corn[0]['year'][(corn[0]['year']>min(weather[0][0]['year']))]"
      ]
    },
    {
      "cell_type": "code",
      "execution_count": 145,
      "metadata": {},
      "outputs": [],
      "source": [
        "#crops[list(crops.keys())[0]]['CORN']"
      ]
    },
    {
      "cell_type": "code",
      "execution_count": 151,
      "metadata": {},
      "outputs": [
        {
          "name": "stdout",
          "output_type": "stream",
          "text": [
            "2007\n",
            "2010\n",
            "2013\n",
            "2014\n",
            "2016\n",
            "2018\n",
            "2020\n",
            "2021\n"
          ]
        },
        {
          "data": {
            "text/html": [
              "<div>\n",
              "<style scoped>\n",
              "    .dataframe tbody tr th:only-of-type {\n",
              "        vertical-align: middle;\n",
              "    }\n",
              "\n",
              "    .dataframe tbody tr th {\n",
              "        vertical-align: top;\n",
              "    }\n",
              "\n",
              "    .dataframe thead th {\n",
              "        text-align: right;\n",
              "    }\n",
              "</style>\n",
              "<table border=\"1\" class=\"dataframe\">\n",
              "  <thead>\n",
              "    <tr style=\"text-align: right;\">\n",
              "      <th></th>\n",
              "      <th>year</th>\n",
              "      <th>harv_acr</th>\n",
              "      <th>prod_in_bu</th>\n",
              "      <th>yield_in_bu_per_acr</th>\n",
              "      <th>tmax</th>\n",
              "      <th>tavg</th>\n",
              "      <th>tmin</th>\n",
              "      <th>tmed</th>\n",
              "      <th>ti</th>\n",
              "      <th>tregslope</th>\n",
              "      <th>gstagefrost</th>\n",
              "      <th>gstagetavg</th>\n",
              "      <th>gstagemin</th>\n",
              "      <th>gstagemax</th>\n",
              "    </tr>\n",
              "  </thead>\n",
              "  <tbody>\n",
              "  </tbody>\n",
              "</table>\n",
              "</div>"
            ],
            "text/plain": [
              "Empty DataFrame\n",
              "Columns: [year, harv_acr, prod_in_bu, yield_in_bu_per_acr, tmax, tavg, tmin, tmed, ti, tregslope, gstagefrost, gstagetavg, gstagemin, gstagemax]\n",
              "Index: []"
            ]
          },
          "execution_count": 151,
          "metadata": {},
          "output_type": "execute_result"
        }
      ],
      "source": [
        "get_features(weather = weather[0][0],crop=corn[0])"
      ]
    },
    {
      "attachments": {},
      "cell_type": "markdown",
      "metadata": {},
      "source": [
        "### Egyszerűsített modell"
      ]
    },
    {
      "cell_type": "code",
      "execution_count": 220,
      "metadata": {},
      "outputs": [],
      "source": [
        "cols = ['year', 'yield', 'tmax', 'tavg','tmin','tmed','prcptsum','prcptavg','prcptmax']\n",
        "#a df egy weather adathalmaz lesz amiből kiszopkodjuk az adatot\n",
        "def get_features(weather,crop):\n",
        "    training_set = pd.DataFrame(columns=cols)\n",
        "    feat_dict = dict.fromkeys(cols, [])\n",
        "    if(len(weather['year'])>0):\n",
        "        for i in crop['Year'][(crop['Year']>min(weather['year']))]:\n",
        "            #i = 2007\n",
        "            feat_dict['year'] = i\n",
        "            feat_dict['yield'] = crop[(crop['Year'] == i)]['YIELD, MEASURED IN BU / ACRE'].values[0]\n",
        "            feat_dict['tmax'] = np.max(weather[(weather['year']==i)]['tmax'])\n",
        "            feat_dict['tmin'] = np.min(weather[(weather['year']==i)]['tmin'])\n",
        "            feat_dict['tavg'] = np.average(weather[(weather['year']==i)]['tavg'])\n",
        "            feat_dict['tmed'] = np.median(weather[(weather['year']==i)]['tavg'])\n",
        "            feat_dict['prcptsum'] = np.sum(weather[(weather['year']==i)]['prcp'])\n",
        "            feat_dict['prcptavg'] = np.average(weather[(weather['year']==i)]['prcp'])\n",
        "            feat_dict['prcptmax'] = np.max(weather[(weather['year']==i)]['prcp'])\n",
        "            featdf = pd.DataFrame([feat_dict])\n",
        "            training_set = pd.concat([training_set,featdf], ignore_index=True)\n",
        "\n",
        "    return training_set"
      ]
    },
    {
      "cell_type": "code",
      "execution_count": 203,
      "metadata": {},
      "outputs": [
        {
          "data": {
            "text/plain": [
              "80.0"
            ]
          },
          "execution_count": 203,
          "metadata": {},
          "output_type": "execute_result"
        }
      ],
      "source": [
        "corn[0][(corn[0]['Year'] == 2007)]['YIELD, MEASURED IN BU / ACRE'].values[0]"
      ]
    },
    {
      "cell_type": "code",
      "execution_count": 223,
      "metadata": {},
      "outputs": [],
      "source": [
        "def get_learning_feature_matrix(weather,crop,cols):\n",
        "    end_df = pd.DataFrame(columns = cols)\n",
        "    for i in range(len(crop)):\n",
        "        for j in range(len(weather[0])):\n",
        "            end_df = pd.concat([end_df, get_features(weather = weather[i][j],crop = crop[i])],ignore_index = True)\n",
        "    return end_df.reset_index(drop = True)"
      ]
    },
    {
      "cell_type": "code",
      "execution_count": null,
      "metadata": {},
      "outputs": [],
      "source": [
        "get_learning_feature_matrix(weather,corn,cols).dropna().reset_index(drop = True)"
      ]
    },
    {
      "cell_type": "code",
      "execution_count": 212,
      "metadata": {},
      "outputs": [
        {
          "data": {
            "text/plain": [
              "833.525279527341"
            ]
          },
          "execution_count": 212,
          "metadata": {},
          "output_type": "execute_result"
        }
      ],
      "source": [
        "np.sum(weather[0][0][(weather[0][0]['year']==2007)]['prcp'])"
      ]
    },
    {
      "cell_type": "code",
      "execution_count": 178,
      "metadata": {},
      "outputs": [
        {
          "data": {
            "text/plain": [
              "date\n",
              "2007-01-01    0.0\n",
              "2007-01-02    0.0\n",
              "2007-01-04    1.0\n",
              "2007-01-05    1.0\n",
              "2007-01-06    0.0\n",
              "             ... \n",
              "2007-12-26   -2.0\n",
              "2007-12-27   -6.0\n",
              "2007-12-28   -7.0\n",
              "2007-12-29   -6.0\n",
              "2007-12-30   -5.0\n",
              "Name: tmax, Length: 332, dtype: float64"
            ]
          },
          "execution_count": 178,
          "metadata": {},
          "output_type": "execute_result"
        }
      ],
      "source": [
        "weather[0][0][(weather[0][0]['year']==2007)]['tmax']"
      ]
    },
    {
      "attachments": {},
      "cell_type": "markdown",
      "metadata": {},
      "source": [
        "Itt megfogjuk és leszűkítjük az adatainkat egy sorba és csinálunk egy prediction targetet \n",
        "Alapvetően a crop yieldre fog rátanulni, de kovariánsként belerakjuk a kinyert időjárásadatokat is\n",
        "A cornnál fontos a jégeső pl és a csapadék\n",
        "mindnél a csapadék de Szerdán ennek utánna kell nézni"
      ]
    },
    {
      "attachments": {},
      "cell_type": "markdown",
      "metadata": {},
      "source": [
        "note:\n",
        "most jutott eszembe hogy mi lenne ha klaszterezném a target előrejelzéseket, hogy melyikhez hasonlítanak a legjobban és azokkal állítanám párba őket..."
      ]
    },
    {
      "attachments": {},
      "cell_type": "markdown",
      "metadata": {
        "id": "HphTF3Xh0Uu5"
      },
      "source": [
        "# Modellezés"
      ]
    },
    {
      "cell_type": "code",
      "execution_count": null,
      "metadata": {},
      "outputs": [],
      "source": [
        "features = get_learning_feature_matrix(weather,corn,cols).dropna().reset_index(drop = True)"
      ]
    },
    {
      "cell_type": "code",
      "execution_count": 230,
      "metadata": {},
      "outputs": [],
      "source": [
        "from sklearn.model_selection import train_test_split\n",
        "train, test = train_test_split(features, test_size=0.2)\n"
      ]
    },
    {
      "cell_type": "code",
      "execution_count": 233,
      "metadata": {},
      "outputs": [
        {
          "data": {
            "text/plain": [
              "'year'"
            ]
          },
          "execution_count": 233,
          "metadata": {},
          "output_type": "execute_result"
        }
      ],
      "source": [
        "list(train.columns)[0]"
      ]
    },
    {
      "cell_type": "code",
      "execution_count": 235,
      "metadata": {},
      "outputs": [],
      "source": [
        "train_X = pd.concat([train[list(train.columns)[0]],train[list(train.columns)[2:]]],axis=1)\n",
        "train_y = train['yield']\n",
        "test_X = pd.concat([test[list(test.columns)[0]],test[list(test.columns)[2:]]],axis=1)\n",
        "test_y = test['yield']"
      ]
    },
    {
      "cell_type": "code",
      "execution_count": null,
      "metadata": {},
      "outputs": [],
      "source": []
    },
    {
      "cell_type": "markdown",
      "metadata": {
        "id": "bom2mmG8zfIQ"
      },
      "source": [
        "TODO\n",
        "- arima\n",
        "- linreg\n",
        "- deeplearning\n",
        "- kmeans regresszor\n",
        "- egyszerűbb modellek"
      ]
    },
    {
      "attachments": {},
      "cell_type": "markdown",
      "metadata": {
        "id": "VqONnWQwzMN0"
      },
      "source": [
        "# Utolsó Lépés: predikció\n"
      ]
    },
    {
      "attachments": {},
      "cell_type": "markdown",
      "metadata": {},
      "source": [
        "Első lépés lesz majd mindegyik fájlt beolvasni és betömködni a lyukakat az időjárási adatokban\n",
        "Ezek után szépen generálunk mindhez mindegyikhez egy egy "
      ]
    }
  ],
  "metadata": {
    "colab": {
      "collapsed_sections": [
        "An-VSsaxUMjn",
        "jjc-zOyB_6-J",
        "1MqOvMIj__f9",
        "CnUi9esxAJXe",
        "HphTF3Xh0Uu5"
      ],
      "provenance": [],
      "toc_visible": true
    },
    "kernelspec": {
      "display_name": "Python 3",
      "name": "python3"
    },
    "language_info": {
      "codemirror_mode": {
        "name": "ipython",
        "version": 3
      },
      "file_extension": ".py",
      "mimetype": "text/x-python",
      "name": "python",
      "nbconvert_exporter": "python",
      "pygments_lexer": "ipython3",
      "version": "3.10.0"
    }
  },
  "nbformat": 4,
  "nbformat_minor": 0
}
